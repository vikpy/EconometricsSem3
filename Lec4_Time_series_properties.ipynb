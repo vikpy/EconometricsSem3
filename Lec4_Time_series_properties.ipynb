{
  "nbformat": 4,
  "nbformat_minor": 0,
  "metadata": {
    "colab": {
      "name": "Lec4 Time-series properties.ipynb",
      "provenance": [],
      "collapsed_sections": [],
      "include_colab_link": true
    },
    "kernelspec": {
      "name": "python3",
      "display_name": "Python 3"
    }
  },
  "cells": [
    {
      "cell_type": "markdown",
      "metadata": {
        "id": "view-in-github",
        "colab_type": "text"
      },
      "source": [
        "<a href=\"https://colab.research.google.com/github/vikpy/EconometricsSem3/blob/master/Lec4_Time_series_properties.ipynb\" target=\"_parent\"><img src=\"https://colab.research.google.com/assets/colab-badge.svg\" alt=\"Open In Colab\"/></a>"
      ]
    },
    {
      "cell_type": "markdown",
      "metadata": {
        "id": "0rbgOjk0FvqU",
        "colab_type": "text"
      },
      "source": [
        "**Time series Propertis-Random Walk-White Noise**"
      ]
    },
    {
      "cell_type": "code",
      "metadata": {
        "id": "yrjkvHcFYrbK",
        "colab_type": "code",
        "colab": {
          "base_uri": "https://localhost:8080/",
          "height": 34
        },
        "outputId": "ab53e729-7b34-45e7-81aa-73017b6c39a3"
      },
      "source": [
        "!pip install pyforest \n",
        "from pyforest import *"
      ],
      "execution_count": 28,
      "outputs": [
        {
          "output_type": "stream",
          "text": [
            "Requirement already satisfied: pyforest in /usr/local/lib/python3.6/dist-packages (1.0.3)\n"
          ],
          "name": "stdout"
        }
      ]
    },
    {
      "cell_type": "markdown",
      "metadata": {
        "id": "QeAnY2XfGB8o",
        "colab_type": "text"
      },
      "source": [
        "import pandas as pd\n",
        "import numpy as np\n",
        "import matplotlib.pyplot as plt\n",
        "import seaborn as sns\n",
        "sns.set()"
      ]
    },
    {
      "cell_type": "code",
      "metadata": {
        "id": "9jd6Y-fdGZP2",
        "colab_type": "code",
        "colab": {
          "base_uri": "https://localhost:8080/",
          "height": 17
        },
        "outputId": "3b32c926-eee4-4e49-a33a-9cd93ccb7e85"
      },
      "source": [
        "mydataraw = pd.read_excel(\"/content/oilpriceindex.xlsx\", index_col=0)"
      ],
      "execution_count": 29,
      "outputs": [
        {
          "output_type": "display_data",
          "data": {
            "application/javascript": [
              "\n",
              "        if (window._pyforest_update_imports_cell) { window._pyforest_update_imports_cell('import pandas as pd\\nimport matplotlib.pyplot as plt'); }\n",
              "    "
            ],
            "text/plain": [
              "<IPython.core.display.Javascript object>"
            ]
          },
          "metadata": {
            "tags": []
          }
        }
      ]
    },
    {
      "cell_type": "code",
      "metadata": {
        "id": "hNt11VgsGpQs",
        "colab_type": "code",
        "colab": {}
      },
      "source": [
        "mydataraw1 = mydataraw.copy()"
      ],
      "execution_count": 30,
      "outputs": []
    },
    {
      "cell_type": "code",
      "metadata": {
        "id": "aQv5BqWEG1a7",
        "colab_type": "code",
        "colab": {
          "base_uri": "https://localhost:8080/",
          "height": 225
        },
        "outputId": "724b54da-b44a-4ed7-b78a-0a5d43ef144b"
      },
      "source": [
        "mydataraw.head()"
      ],
      "execution_count": 31,
      "outputs": [
        {
          "output_type": "execute_result",
          "data": {
            "text/html": [
              "<div>\n",
              "<style scoped>\n",
              "    .dataframe tbody tr th:only-of-type {\n",
              "        vertical-align: middle;\n",
              "    }\n",
              "\n",
              "    .dataframe tbody tr th {\n",
              "        vertical-align: top;\n",
              "    }\n",
              "\n",
              "    .dataframe thead th {\n",
              "        text-align: right;\n",
              "    }\n",
              "</style>\n",
              "<table border=\"1\" class=\"dataframe\">\n",
              "  <thead>\n",
              "    <tr style=\"text-align: right;\">\n",
              "      <th></th>\n",
              "      <th>WTI</th>\n",
              "      <th>BRENT</th>\n",
              "      <th>INR</th>\n",
              "      <th>NIFTY</th>\n",
              "    </tr>\n",
              "    <tr>\n",
              "      <th>DATE</th>\n",
              "      <th></th>\n",
              "      <th></th>\n",
              "      <th></th>\n",
              "      <th></th>\n",
              "    </tr>\n",
              "  </thead>\n",
              "  <tbody>\n",
              "    <tr>\n",
              "      <th>1990-01-01</th>\n",
              "      <td>22.86</td>\n",
              "      <td>21.25</td>\n",
              "      <td>35.6</td>\n",
              "      <td>0.44</td>\n",
              "    </tr>\n",
              "    <tr>\n",
              "      <th>1990-02-01</th>\n",
              "      <td>22.11</td>\n",
              "      <td>19.81</td>\n",
              "      <td>35.6</td>\n",
              "      <td>2.45</td>\n",
              "    </tr>\n",
              "    <tr>\n",
              "      <th>1990-03-01</th>\n",
              "      <td>NaN</td>\n",
              "      <td>18.39</td>\n",
              "      <td>35.9</td>\n",
              "      <td>-0.28</td>\n",
              "    </tr>\n",
              "    <tr>\n",
              "      <th>1990-04-01</th>\n",
              "      <td>18.43</td>\n",
              "      <td>16.61</td>\n",
              "      <td>36.3</td>\n",
              "      <td>-6.18</td>\n",
              "    </tr>\n",
              "    <tr>\n",
              "      <th>1990-05-01</th>\n",
              "      <td>18.20</td>\n",
              "      <td>16.35</td>\n",
              "      <td>36.3</td>\n",
              "      <td>-1.62</td>\n",
              "    </tr>\n",
              "  </tbody>\n",
              "</table>\n",
              "</div>"
            ],
            "text/plain": [
              "              WTI  BRENT   INR  NIFTY\n",
              "DATE                                 \n",
              "1990-01-01  22.86  21.25  35.6   0.44\n",
              "1990-02-01  22.11  19.81  35.6   2.45\n",
              "1990-03-01    NaN  18.39  35.9  -0.28\n",
              "1990-04-01  18.43  16.61  36.3  -6.18\n",
              "1990-05-01  18.20  16.35  36.3  -1.62"
            ]
          },
          "metadata": {
            "tags": []
          },
          "execution_count": 31
        }
      ]
    },
    {
      "cell_type": "code",
      "metadata": {
        "id": "YmqS8D53G9ot",
        "colab_type": "code",
        "colab": {
          "base_uri": "https://localhost:8080/",
          "height": 284
        },
        "outputId": "559b4d9b-d2f7-4a5b-dd83-993056d0a4ad"
      },
      "source": [
        "mydataraw.describe()"
      ],
      "execution_count": 32,
      "outputs": [
        {
          "output_type": "execute_result",
          "data": {
            "text/html": [
              "<div>\n",
              "<style scoped>\n",
              "    .dataframe tbody tr th:only-of-type {\n",
              "        vertical-align: middle;\n",
              "    }\n",
              "\n",
              "    .dataframe tbody tr th {\n",
              "        vertical-align: top;\n",
              "    }\n",
              "\n",
              "    .dataframe thead th {\n",
              "        text-align: right;\n",
              "    }\n",
              "</style>\n",
              "<table border=\"1\" class=\"dataframe\">\n",
              "  <thead>\n",
              "    <tr style=\"text-align: right;\">\n",
              "      <th></th>\n",
              "      <th>WTI</th>\n",
              "      <th>BRENT</th>\n",
              "      <th>INR</th>\n",
              "      <th>NIFTY</th>\n",
              "    </tr>\n",
              "  </thead>\n",
              "  <tbody>\n",
              "    <tr>\n",
              "      <th>count</th>\n",
              "      <td>360.000000</td>\n",
              "      <td>359.000000</td>\n",
              "      <td>357.000000</td>\n",
              "      <td>358.000000</td>\n",
              "    </tr>\n",
              "    <tr>\n",
              "      <th>mean</th>\n",
              "      <td>47.843528</td>\n",
              "      <td>49.330808</td>\n",
              "      <td>96.766106</td>\n",
              "      <td>0.193324</td>\n",
              "    </tr>\n",
              "    <tr>\n",
              "      <th>std</th>\n",
              "      <td>29.194188</td>\n",
              "      <td>32.860975</td>\n",
              "      <td>27.851830</td>\n",
              "      <td>1.890878</td>\n",
              "    </tr>\n",
              "    <tr>\n",
              "      <th>min</th>\n",
              "      <td>11.350000</td>\n",
              "      <td>9.820000</td>\n",
              "      <td>35.600000</td>\n",
              "      <td>-6.180000</td>\n",
              "    </tr>\n",
              "    <tr>\n",
              "      <th>25%</th>\n",
              "      <td>21.295000</td>\n",
              "      <td>19.755000</td>\n",
              "      <td>76.800000</td>\n",
              "      <td>-0.782500</td>\n",
              "    </tr>\n",
              "    <tr>\n",
              "      <th>50%</th>\n",
              "      <td>40.950000</td>\n",
              "      <td>41.580000</td>\n",
              "      <td>95.200000</td>\n",
              "      <td>0.185000</td>\n",
              "    </tr>\n",
              "    <tr>\n",
              "      <th>75%</th>\n",
              "      <td>68.397500</td>\n",
              "      <td>70.905000</td>\n",
              "      <td>113.900000</td>\n",
              "      <td>1.080000</td>\n",
              "    </tr>\n",
              "    <tr>\n",
              "      <th>max</th>\n",
              "      <td>133.880000</td>\n",
              "      <td>132.720000</td>\n",
              "      <td>154.300000</td>\n",
              "      <td>17.740000</td>\n",
              "    </tr>\n",
              "  </tbody>\n",
              "</table>\n",
              "</div>"
            ],
            "text/plain": [
              "              WTI       BRENT         INR       NIFTY\n",
              "count  360.000000  359.000000  357.000000  358.000000\n",
              "mean    47.843528   49.330808   96.766106    0.193324\n",
              "std     29.194188   32.860975   27.851830    1.890878\n",
              "min     11.350000    9.820000   35.600000   -6.180000\n",
              "25%     21.295000   19.755000   76.800000   -0.782500\n",
              "50%     40.950000   41.580000   95.200000    0.185000\n",
              "75%     68.397500   70.905000  113.900000    1.080000\n",
              "max    133.880000  132.720000  154.300000   17.740000"
            ]
          },
          "metadata": {
            "tags": []
          },
          "execution_count": 32
        }
      ]
    },
    {
      "cell_type": "code",
      "metadata": {
        "id": "6PoOcweGHauC",
        "colab_type": "code",
        "colab": {
          "base_uri": "https://localhost:8080/",
          "height": 431
        },
        "outputId": "96a4f56a-d490-4129-d109-9e74326a97c1"
      },
      "source": [
        "mydataraw.isna()"
      ],
      "execution_count": 33,
      "outputs": [
        {
          "output_type": "execute_result",
          "data": {
            "text/html": [
              "<div>\n",
              "<style scoped>\n",
              "    .dataframe tbody tr th:only-of-type {\n",
              "        vertical-align: middle;\n",
              "    }\n",
              "\n",
              "    .dataframe tbody tr th {\n",
              "        vertical-align: top;\n",
              "    }\n",
              "\n",
              "    .dataframe thead th {\n",
              "        text-align: right;\n",
              "    }\n",
              "</style>\n",
              "<table border=\"1\" class=\"dataframe\">\n",
              "  <thead>\n",
              "    <tr style=\"text-align: right;\">\n",
              "      <th></th>\n",
              "      <th>WTI</th>\n",
              "      <th>BRENT</th>\n",
              "      <th>INR</th>\n",
              "      <th>NIFTY</th>\n",
              "    </tr>\n",
              "    <tr>\n",
              "      <th>DATE</th>\n",
              "      <th></th>\n",
              "      <th></th>\n",
              "      <th></th>\n",
              "      <th></th>\n",
              "    </tr>\n",
              "  </thead>\n",
              "  <tbody>\n",
              "    <tr>\n",
              "      <th>1990-01-01</th>\n",
              "      <td>False</td>\n",
              "      <td>False</td>\n",
              "      <td>False</td>\n",
              "      <td>False</td>\n",
              "    </tr>\n",
              "    <tr>\n",
              "      <th>1990-02-01</th>\n",
              "      <td>False</td>\n",
              "      <td>False</td>\n",
              "      <td>False</td>\n",
              "      <td>False</td>\n",
              "    </tr>\n",
              "    <tr>\n",
              "      <th>1990-03-01</th>\n",
              "      <td>True</td>\n",
              "      <td>False</td>\n",
              "      <td>False</td>\n",
              "      <td>False</td>\n",
              "    </tr>\n",
              "    <tr>\n",
              "      <th>1990-04-01</th>\n",
              "      <td>False</td>\n",
              "      <td>False</td>\n",
              "      <td>False</td>\n",
              "      <td>False</td>\n",
              "    </tr>\n",
              "    <tr>\n",
              "      <th>1990-05-01</th>\n",
              "      <td>False</td>\n",
              "      <td>False</td>\n",
              "      <td>False</td>\n",
              "      <td>False</td>\n",
              "    </tr>\n",
              "    <tr>\n",
              "      <th>...</th>\n",
              "      <td>...</td>\n",
              "      <td>...</td>\n",
              "      <td>...</td>\n",
              "      <td>...</td>\n",
              "    </tr>\n",
              "    <tr>\n",
              "      <th>2019-09-01</th>\n",
              "      <td>False</td>\n",
              "      <td>False</td>\n",
              "      <td>False</td>\n",
              "      <td>False</td>\n",
              "    </tr>\n",
              "    <tr>\n",
              "      <th>2019-10-01</th>\n",
              "      <td>False</td>\n",
              "      <td>False</td>\n",
              "      <td>False</td>\n",
              "      <td>False</td>\n",
              "    </tr>\n",
              "    <tr>\n",
              "      <th>2019-11-01</th>\n",
              "      <td>False</td>\n",
              "      <td>False</td>\n",
              "      <td>False</td>\n",
              "      <td>False</td>\n",
              "    </tr>\n",
              "    <tr>\n",
              "      <th>2019-12-01</th>\n",
              "      <td>False</td>\n",
              "      <td>False</td>\n",
              "      <td>False</td>\n",
              "      <td>False</td>\n",
              "    </tr>\n",
              "    <tr>\n",
              "      <th>2020-01-01</th>\n",
              "      <td>False</td>\n",
              "      <td>False</td>\n",
              "      <td>False</td>\n",
              "      <td>False</td>\n",
              "    </tr>\n",
              "  </tbody>\n",
              "</table>\n",
              "<p>361 rows × 4 columns</p>\n",
              "</div>"
            ],
            "text/plain": [
              "              WTI  BRENT    INR  NIFTY\n",
              "DATE                                  \n",
              "1990-01-01  False  False  False  False\n",
              "1990-02-01  False  False  False  False\n",
              "1990-03-01   True  False  False  False\n",
              "1990-04-01  False  False  False  False\n",
              "1990-05-01  False  False  False  False\n",
              "...           ...    ...    ...    ...\n",
              "2019-09-01  False  False  False  False\n",
              "2019-10-01  False  False  False  False\n",
              "2019-11-01  False  False  False  False\n",
              "2019-12-01  False  False  False  False\n",
              "2020-01-01  False  False  False  False\n",
              "\n",
              "[361 rows x 4 columns]"
            ]
          },
          "metadata": {
            "tags": []
          },
          "execution_count": 33
        }
      ]
    },
    {
      "cell_type": "code",
      "metadata": {
        "id": "5y8YL_0QJdem",
        "colab_type": "code",
        "colab": {
          "base_uri": "https://localhost:8080/",
          "height": 101
        },
        "outputId": "0d918214-3ebb-4092-fe9b-65365a8b64e5"
      },
      "source": [
        "mydataraw.isna().sum()"
      ],
      "execution_count": 34,
      "outputs": [
        {
          "output_type": "execute_result",
          "data": {
            "text/plain": [
              "WTI      1\n",
              "BRENT    2\n",
              "INR      4\n",
              "NIFTY    3\n",
              "dtype: int64"
            ]
          },
          "metadata": {
            "tags": []
          },
          "execution_count": 34
        }
      ]
    },
    {
      "cell_type": "code",
      "metadata": {
        "id": "VpRrYb2PJq82",
        "colab_type": "code",
        "colab": {
          "base_uri": "https://localhost:8080/",
          "height": 34
        },
        "outputId": "310efe1e-c26f-4ddc-848f-19ca05b43b7a"
      },
      "source": [
        "mydataraw.NIFTY.isna().sum()"
      ],
      "execution_count": 35,
      "outputs": [
        {
          "output_type": "execute_result",
          "data": {
            "text/plain": [
              "3"
            ]
          },
          "metadata": {
            "tags": []
          },
          "execution_count": 35
        }
      ]
    },
    {
      "cell_type": "code",
      "metadata": {
        "id": "WtKwsSiOJ_TG",
        "colab_type": "code",
        "colab": {}
      },
      "source": [
        "mydataraw1.WTI = mydataraw1.WTI.fillna(method='ffill') "
      ],
      "execution_count": 36,
      "outputs": []
    },
    {
      "cell_type": "code",
      "metadata": {
        "id": "MXL4AVEIK152",
        "colab_type": "code",
        "colab": {
          "base_uri": "https://localhost:8080/",
          "height": 101
        },
        "outputId": "25af700c-1008-4c64-f6c7-26dba358b048"
      },
      "source": [
        "mydataraw1.isna().sum()"
      ],
      "execution_count": 37,
      "outputs": [
        {
          "output_type": "execute_result",
          "data": {
            "text/plain": [
              "WTI      0\n",
              "BRENT    2\n",
              "INR      4\n",
              "NIFTY    3\n",
              "dtype: int64"
            ]
          },
          "metadata": {
            "tags": []
          },
          "execution_count": 37
        }
      ]
    },
    {
      "cell_type": "code",
      "metadata": {
        "id": "73eekFwIK4-Z",
        "colab_type": "code",
        "colab": {}
      },
      "source": [
        "mydataraw1.BRENT = mydataraw1.BRENT.fillna(method='bfill') "
      ],
      "execution_count": 38,
      "outputs": []
    },
    {
      "cell_type": "code",
      "metadata": {
        "id": "m6pgasWhLMUb",
        "colab_type": "code",
        "colab": {
          "base_uri": "https://localhost:8080/",
          "height": 101
        },
        "outputId": "5914cd5c-03d2-4220-e15d-e8e68d6410a4"
      },
      "source": [
        "mydataraw1.isna().sum()"
      ],
      "execution_count": 39,
      "outputs": [
        {
          "output_type": "execute_result",
          "data": {
            "text/plain": [
              "WTI      0\n",
              "BRENT    0\n",
              "INR      4\n",
              "NIFTY    3\n",
              "dtype: int64"
            ]
          },
          "metadata": {
            "tags": []
          },
          "execution_count": 39
        }
      ]
    },
    {
      "cell_type": "code",
      "metadata": {
        "id": "kLOW5w8_LO77",
        "colab_type": "code",
        "colab": {}
      },
      "source": [
        "mydataraw1.INR = mydataraw1.INR.fillna(method = 'ffill')"
      ],
      "execution_count": 40,
      "outputs": []
    },
    {
      "cell_type": "code",
      "metadata": {
        "id": "3vRR_J5BMMBU",
        "colab_type": "code",
        "colab": {
          "base_uri": "https://localhost:8080/",
          "height": 101
        },
        "outputId": "50318c9f-34de-4bc8-fbc2-dd5e821f864a"
      },
      "source": [
        "mydataraw1.isna().sum()"
      ],
      "execution_count": 41,
      "outputs": [
        {
          "output_type": "execute_result",
          "data": {
            "text/plain": [
              "WTI      0\n",
              "BRENT    0\n",
              "INR      0\n",
              "NIFTY    3\n",
              "dtype: int64"
            ]
          },
          "metadata": {
            "tags": []
          },
          "execution_count": 41
        }
      ]
    },
    {
      "cell_type": "code",
      "metadata": {
        "id": "wJrxqLxIMXwB",
        "colab_type": "code",
        "colab": {}
      },
      "source": [
        "mydataraw1.NIFTY = mydataraw1.NIFTY.fillna(value = mydataraw.NIFTY.mean())"
      ],
      "execution_count": 42,
      "outputs": []
    },
    {
      "cell_type": "code",
      "metadata": {
        "id": "X9op4c-uMkxl",
        "colab_type": "code",
        "colab": {
          "base_uri": "https://localhost:8080/",
          "height": 101
        },
        "outputId": "b1702b09-aef9-4702-a243-7d3df5526c4f"
      },
      "source": [
        "mydataraw.isna().sum()"
      ],
      "execution_count": 43,
      "outputs": [
        {
          "output_type": "execute_result",
          "data": {
            "text/plain": [
              "WTI      1\n",
              "BRENT    2\n",
              "INR      4\n",
              "NIFTY    3\n",
              "dtype: int64"
            ]
          },
          "metadata": {
            "tags": []
          },
          "execution_count": 43
        }
      ]
    },
    {
      "cell_type": "code",
      "metadata": {
        "id": "KXMhqq4UMnyJ",
        "colab_type": "code",
        "colab": {
          "base_uri": "https://localhost:8080/",
          "height": 360
        },
        "outputId": "5bea4d09-5a44-4a2e-ccc0-c58559cf76b6"
      },
      "source": [
        "mydataraw.plot(figsize = (12,6), title = \"OIL Prive, INR, NIFTY\")\n",
        "plt.show()"
      ],
      "execution_count": 44,
      "outputs": [
        {
          "output_type": "display_data",
          "data": {
            "application/javascript": [
              "\n",
              "        if (window._pyforest_update_imports_cell) { window._pyforest_update_imports_cell('import pandas as pd\\nimport matplotlib.pyplot as plt'); }\n",
              "    "
            ],
            "text/plain": [
              "<IPython.core.display.Javascript object>"
            ]
          },
          "metadata": {
            "tags": []
          }
        },
        {
          "output_type": "display_data",
          "data": {
            "image/png": "[encoded data removed]",
            "text/plain": [
              "<Figure size 864x432 with 1 Axes>"
            ]
          },
          "metadata": {
            "tags": [],
            "needs_background": "light"
          }
        }
      ]
    },
    {
      "cell_type": "code",
      "metadata": {
        "id": "pgEGvIIAM6-D",
        "colab_type": "code",
        "colab": {
          "base_uri": "https://localhost:8080/",
          "height": 404
        },
        "outputId": "f44277cf-4424-4664-8a72-05fd9aef76d3"
      },
      "source": [
        "mydataraw1.plot(figsize = (12,6), title = \"OIL Prive, INR, NIFTY\")\n",
        "\n",
        "plt.show()"
      ],
      "execution_count": 45,
      "outputs": [
        {
          "output_type": "display_data",
          "data": {
            "application/javascript": [
              "\n",
              "        if (window._pyforest_update_imports_cell) { window._pyforest_update_imports_cell('import pandas as pd\\nimport matplotlib.pyplot as plt'); }\n",
              "    "
            ],
            "text/plain": [
              "<IPython.core.display.Javascript object>"
            ]
          },
          "metadata": {
            "tags": []
          }
        },
        {
          "output_type": "display_data",
          "data": {
            "image/png": "[encoded data removed]",
            "text/plain": [
              "<Figure size 864x432 with 1 Axes>"
            ]
          },
          "metadata": {
            "tags": [],
            "needs_background": "light"
          }
        }
      ]
    },
    {
      "cell_type": "markdown",
      "metadata": {
        "id": "A-PKN6MrQ3Ur",
        "colab_type": "text"
      },
      "source": [
        "Quantile-Quantile Plot (QQ Plot)"
      ]
    },
    {
      "cell_type": "code",
      "metadata": {
        "id": "iZy0KcvnN6RF",
        "colab_type": "code",
        "colab": {}
      },
      "source": [
        "import scipy.stats\n",
        "import pylab"
      ],
      "execution_count": 46,
      "outputs": []
    },
    {
      "cell_type": "code",
      "metadata": {
        "id": "kFGZfBxcR5qK",
        "colab_type": "code",
        "colab": {
          "base_uri": "https://localhost:8080/",
          "height": 295
        },
        "outputId": "e446b46b-8419-466b-8004-f4a927c000b9"
      },
      "source": [
        "scipy.stats.probplot(mydataraw1.INR, plot = pylab)\n",
        "pylab.show()"
      ],
      "execution_count": 47,
      "outputs": [
        {
          "output_type": "display_data",
          "data": {
            "image/png": "[encoded data removed]",
            "text/plain": [
              "<Figure size 432x288 with 1 Axes>"
            ]
          },
          "metadata": {
            "tags": [],
            "needs_background": "light"
          }
        }
      ]
    },
    {
      "cell_type": "code",
      "metadata": {
        "id": "ao0X0J0xSO31",
        "colab_type": "code",
        "colab": {
          "base_uri": "https://localhost:8080/",
          "height": 295
        },
        "outputId": "aab099b5-2e9c-49d1-e75f-172d4ee21dd3"
      },
      "source": [
        "scipy.stats.probplot(mydataraw1.WTI, plot = pylab)\n",
        "pylab.show()"
      ],
      "execution_count": 48,
      "outputs": [
        {
          "output_type": "display_data",
          "data": {
            "image/png": "[encoded data removed]",
            "text/plain": [
              "<Figure size 432x288 with 1 Axes>"
            ]
          },
          "metadata": {
            "tags": [],
            "needs_background": "light"
          }
        }
      ]
    },
    {
      "cell_type": "code",
      "metadata": {
        "id": "TtyIRMOPVKAV",
        "colab_type": "code",
        "colab": {}
      },
      "source": [
        "import pandas as pd\n",
        "import numpy as np\n"
      ],
      "execution_count": 49,
      "outputs": []
    },
    {
      "cell_type": "code",
      "metadata": {
        "id": "cLNtPweBVUoC",
        "colab_type": "code",
        "colab": {
          "base_uri": "https://localhost:8080/",
          "height": 284
        },
        "outputId": "df5f486e-2114-47b1-ce9f-cbf1040c7b58"
      },
      "source": [
        "mydataraw1.describe()"
      ],
      "execution_count": 50,
      "outputs": [
        {
          "output_type": "execute_result",
          "data": {
            "text/html": [
              "<div>\n",
              "<style scoped>\n",
              "    .dataframe tbody tr th:only-of-type {\n",
              "        vertical-align: middle;\n",
              "    }\n",
              "\n",
              "    .dataframe tbody tr th {\n",
              "        vertical-align: top;\n",
              "    }\n",
              "\n",
              "    .dataframe thead th {\n",
              "        text-align: right;\n",
              "    }\n",
              "</style>\n",
              "<table border=\"1\" class=\"dataframe\">\n",
              "  <thead>\n",
              "    <tr style=\"text-align: right;\">\n",
              "      <th></th>\n",
              "      <th>WTI</th>\n",
              "      <th>BRENT</th>\n",
              "      <th>INR</th>\n",
              "      <th>NIFTY</th>\n",
              "    </tr>\n",
              "  </thead>\n",
              "  <tbody>\n",
              "    <tr>\n",
              "      <th>count</th>\n",
              "      <td>361.000000</td>\n",
              "      <td>361.000000</td>\n",
              "      <td>361.000000</td>\n",
              "      <td>361.000000</td>\n",
              "    </tr>\n",
              "    <tr>\n",
              "      <th>mean</th>\n",
              "      <td>47.772244</td>\n",
              "      <td>49.207341</td>\n",
              "      <td>96.245983</td>\n",
              "      <td>0.193324</td>\n",
              "    </tr>\n",
              "    <tr>\n",
              "      <th>std</th>\n",
              "      <td>29.185056</td>\n",
              "      <td>32.816631</td>\n",
              "      <td>28.148450</td>\n",
              "      <td>1.882982</td>\n",
              "    </tr>\n",
              "    <tr>\n",
              "      <th>min</th>\n",
              "      <td>11.350000</td>\n",
              "      <td>9.820000</td>\n",
              "      <td>35.600000</td>\n",
              "      <td>-6.180000</td>\n",
              "    </tr>\n",
              "    <tr>\n",
              "      <th>25%</th>\n",
              "      <td>21.300000</td>\n",
              "      <td>19.740000</td>\n",
              "      <td>75.500000</td>\n",
              "      <td>-0.760000</td>\n",
              "    </tr>\n",
              "    <tr>\n",
              "      <th>50%</th>\n",
              "      <td>40.780000</td>\n",
              "      <td>39.950000</td>\n",
              "      <td>95.100000</td>\n",
              "      <td>0.193324</td>\n",
              "    </tr>\n",
              "    <tr>\n",
              "      <th>75%</th>\n",
              "      <td>68.060000</td>\n",
              "      <td>70.760000</td>\n",
              "      <td>113.800000</td>\n",
              "      <td>1.080000</td>\n",
              "    </tr>\n",
              "    <tr>\n",
              "      <th>max</th>\n",
              "      <td>133.880000</td>\n",
              "      <td>132.720000</td>\n",
              "      <td>154.300000</td>\n",
              "      <td>17.740000</td>\n",
              "    </tr>\n",
              "  </tbody>\n",
              "</table>\n",
              "</div>"
            ],
            "text/plain": [
              "              WTI       BRENT         INR       NIFTY\n",
              "count  361.000000  361.000000  361.000000  361.000000\n",
              "mean    47.772244   49.207341   96.245983    0.193324\n",
              "std     29.185056   32.816631   28.148450    1.882982\n",
              "min     11.350000    9.820000   35.600000   -6.180000\n",
              "25%     21.300000   19.740000   75.500000   -0.760000\n",
              "50%     40.780000   39.950000   95.100000    0.193324\n",
              "75%     68.060000   70.760000  113.800000    1.080000\n",
              "max    133.880000  132.720000  154.300000   17.740000"
            ]
          },
          "metadata": {
            "tags": []
          },
          "execution_count": 50
        }
      ]
    },
    {
      "cell_type": "code",
      "metadata": {
        "id": "1A4E1b92VUCA",
        "colab_type": "code",
        "colab": {
          "base_uri": "https://localhost:8080/",
          "height": 225
        },
        "outputId": "2ec9731b-9211-4c6c-f1f3-58474e3e4470"
      },
      "source": [
        "mydataraw1.head()"
      ],
      "execution_count": 51,
      "outputs": [
        {
          "output_type": "execute_result",
          "data": {
            "text/html": [
              "<div>\n",
              "<style scoped>\n",
              "    .dataframe tbody tr th:only-of-type {\n",
              "        vertical-align: middle;\n",
              "    }\n",
              "\n",
              "    .dataframe tbody tr th {\n",
              "        vertical-align: top;\n",
              "    }\n",
              "\n",
              "    .dataframe thead th {\n",
              "        text-align: right;\n",
              "    }\n",
              "</style>\n",
              "<table border=\"1\" class=\"dataframe\">\n",
              "  <thead>\n",
              "    <tr style=\"text-align: right;\">\n",
              "      <th></th>\n",
              "      <th>WTI</th>\n",
              "      <th>BRENT</th>\n",
              "      <th>INR</th>\n",
              "      <th>NIFTY</th>\n",
              "    </tr>\n",
              "    <tr>\n",
              "      <th>DATE</th>\n",
              "      <th></th>\n",
              "      <th></th>\n",
              "      <th></th>\n",
              "      <th></th>\n",
              "    </tr>\n",
              "  </thead>\n",
              "  <tbody>\n",
              "    <tr>\n",
              "      <th>1990-01-01</th>\n",
              "      <td>22.86</td>\n",
              "      <td>21.25</td>\n",
              "      <td>35.6</td>\n",
              "      <td>0.44</td>\n",
              "    </tr>\n",
              "    <tr>\n",
              "      <th>1990-02-01</th>\n",
              "      <td>22.11</td>\n",
              "      <td>19.81</td>\n",
              "      <td>35.6</td>\n",
              "      <td>2.45</td>\n",
              "    </tr>\n",
              "    <tr>\n",
              "      <th>1990-03-01</th>\n",
              "      <td>22.11</td>\n",
              "      <td>18.39</td>\n",
              "      <td>35.9</td>\n",
              "      <td>-0.28</td>\n",
              "    </tr>\n",
              "    <tr>\n",
              "      <th>1990-04-01</th>\n",
              "      <td>18.43</td>\n",
              "      <td>16.61</td>\n",
              "      <td>36.3</td>\n",
              "      <td>-6.18</td>\n",
              "    </tr>\n",
              "    <tr>\n",
              "      <th>1990-05-01</th>\n",
              "      <td>18.20</td>\n",
              "      <td>16.35</td>\n",
              "      <td>36.3</td>\n",
              "      <td>-1.62</td>\n",
              "    </tr>\n",
              "  </tbody>\n",
              "</table>\n",
              "</div>"
            ],
            "text/plain": [
              "              WTI  BRENT   INR  NIFTY\n",
              "DATE                                 \n",
              "1990-01-01  22.86  21.25  35.6   0.44\n",
              "1990-02-01  22.11  19.81  35.6   2.45\n",
              "1990-03-01  22.11  18.39  35.9  -0.28\n",
              "1990-04-01  18.43  16.61  36.3  -6.18\n",
              "1990-05-01  18.20  16.35  36.3  -1.62"
            ]
          },
          "metadata": {
            "tags": []
          },
          "execution_count": 51
        }
      ]
    },
    {
      "cell_type": "code",
      "metadata": {
        "id": "VatXK7NGVlVY",
        "colab_type": "code",
        "colab": {
          "base_uri": "https://localhost:8080/",
          "height": 284
        },
        "outputId": "7bb1db8d-907d-469a-94a8-131523f051e3"
      },
      "source": [
        "mydataraw1.describe()"
      ],
      "execution_count": 53,
      "outputs": [
        {
          "output_type": "execute_result",
          "data": {
            "text/html": [
              "<div>\n",
              "<style scoped>\n",
              "    .dataframe tbody tr th:only-of-type {\n",
              "        vertical-align: middle;\n",
              "    }\n",
              "\n",
              "    .dataframe tbody tr th {\n",
              "        vertical-align: top;\n",
              "    }\n",
              "\n",
              "    .dataframe thead th {\n",
              "        text-align: right;\n",
              "    }\n",
              "</style>\n",
              "<table border=\"1\" class=\"dataframe\">\n",
              "  <thead>\n",
              "    <tr style=\"text-align: right;\">\n",
              "      <th></th>\n",
              "      <th>WTI</th>\n",
              "      <th>BRENT</th>\n",
              "      <th>INR</th>\n",
              "      <th>NIFTY</th>\n",
              "    </tr>\n",
              "  </thead>\n",
              "  <tbody>\n",
              "    <tr>\n",
              "      <th>count</th>\n",
              "      <td>361.000000</td>\n",
              "      <td>361.000000</td>\n",
              "      <td>361.000000</td>\n",
              "      <td>361.000000</td>\n",
              "    </tr>\n",
              "    <tr>\n",
              "      <th>mean</th>\n",
              "      <td>47.772244</td>\n",
              "      <td>49.207341</td>\n",
              "      <td>96.245983</td>\n",
              "      <td>0.193324</td>\n",
              "    </tr>\n",
              "    <tr>\n",
              "      <th>std</th>\n",
              "      <td>29.185056</td>\n",
              "      <td>32.816631</td>\n",
              "      <td>28.148450</td>\n",
              "      <td>1.882982</td>\n",
              "    </tr>\n",
              "    <tr>\n",
              "      <th>min</th>\n",
              "      <td>11.350000</td>\n",
              "      <td>9.820000</td>\n",
              "      <td>35.600000</td>\n",
              "      <td>-6.180000</td>\n",
              "    </tr>\n",
              "    <tr>\n",
              "      <th>25%</th>\n",
              "      <td>21.300000</td>\n",
              "      <td>19.740000</td>\n",
              "      <td>75.500000</td>\n",
              "      <td>-0.760000</td>\n",
              "    </tr>\n",
              "    <tr>\n",
              "      <th>50%</th>\n",
              "      <td>40.780000</td>\n",
              "      <td>39.950000</td>\n",
              "      <td>95.100000</td>\n",
              "      <td>0.193324</td>\n",
              "    </tr>\n",
              "    <tr>\n",
              "      <th>75%</th>\n",
              "      <td>68.060000</td>\n",
              "      <td>70.760000</td>\n",
              "      <td>113.800000</td>\n",
              "      <td>1.080000</td>\n",
              "    </tr>\n",
              "    <tr>\n",
              "      <th>max</th>\n",
              "      <td>133.880000</td>\n",
              "      <td>132.720000</td>\n",
              "      <td>154.300000</td>\n",
              "      <td>17.740000</td>\n",
              "    </tr>\n",
              "  </tbody>\n",
              "</table>\n",
              "</div>"
            ],
            "text/plain": [
              "              WTI       BRENT         INR       NIFTY\n",
              "count  361.000000  361.000000  361.000000  361.000000\n",
              "mean    47.772244   49.207341   96.245983    0.193324\n",
              "std     29.185056   32.816631   28.148450    1.882982\n",
              "min     11.350000    9.820000   35.600000   -6.180000\n",
              "25%     21.300000   19.740000   75.500000   -0.760000\n",
              "50%     40.780000   39.950000   95.100000    0.193324\n",
              "75%     68.060000   70.760000  113.800000    1.080000\n",
              "max    133.880000  132.720000  154.300000   17.740000"
            ]
          },
          "metadata": {
            "tags": []
          },
          "execution_count": 53
        }
      ]
    },
    {
      "cell_type": "code",
      "metadata": {
        "id": "AcEaybjxVs6Q",
        "colab_type": "code",
        "colab": {}
      },
      "source": [
        "mydatats = pd.read_excel(\"oilpriceindex.xlsx\", na_values=[\"null\"], index_col='DATE', parse_dates= True, infer_datetime_format= True)"
      ],
      "execution_count": 55,
      "outputs": []
    },
    {
      "cell_type": "code",
      "metadata": {
        "id": "c20JRuUqYNck",
        "colab_type": "code",
        "colab": {
          "base_uri": "https://localhost:8080/",
          "height": 225
        },
        "outputId": "5017fb0a-5e72-4217-dc15-c10d245aa6f2"
      },
      "source": [
        "mydatats.head()"
      ],
      "execution_count": 56,
      "outputs": [
        {
          "output_type": "execute_result",
          "data": {
            "text/html": [
              "<div>\n",
              "<style scoped>\n",
              "    .dataframe tbody tr th:only-of-type {\n",
              "        vertical-align: middle;\n",
              "    }\n",
              "\n",
              "    .dataframe tbody tr th {\n",
              "        vertical-align: top;\n",
              "    }\n",
              "\n",
              "    .dataframe thead th {\n",
              "        text-align: right;\n",
              "    }\n",
              "</style>\n",
              "<table border=\"1\" class=\"dataframe\">\n",
              "  <thead>\n",
              "    <tr style=\"text-align: right;\">\n",
              "      <th></th>\n",
              "      <th>WTI</th>\n",
              "      <th>BRENT</th>\n",
              "      <th>INR</th>\n",
              "      <th>NIFTY</th>\n",
              "    </tr>\n",
              "    <tr>\n",
              "      <th>DATE</th>\n",
              "      <th></th>\n",
              "      <th></th>\n",
              "      <th></th>\n",
              "      <th></th>\n",
              "    </tr>\n",
              "  </thead>\n",
              "  <tbody>\n",
              "    <tr>\n",
              "      <th>1990-01-01</th>\n",
              "      <td>22.86</td>\n",
              "      <td>21.25</td>\n",
              "      <td>35.6</td>\n",
              "      <td>0.44</td>\n",
              "    </tr>\n",
              "    <tr>\n",
              "      <th>1990-02-01</th>\n",
              "      <td>22.11</td>\n",
              "      <td>19.81</td>\n",
              "      <td>35.6</td>\n",
              "      <td>2.45</td>\n",
              "    </tr>\n",
              "    <tr>\n",
              "      <th>1990-03-01</th>\n",
              "      <td>NaN</td>\n",
              "      <td>18.39</td>\n",
              "      <td>35.9</td>\n",
              "      <td>-0.28</td>\n",
              "    </tr>\n",
              "    <tr>\n",
              "      <th>1990-04-01</th>\n",
              "      <td>18.43</td>\n",
              "      <td>16.61</td>\n",
              "      <td>36.3</td>\n",
              "      <td>-6.18</td>\n",
              "    </tr>\n",
              "    <tr>\n",
              "      <th>1990-05-01</th>\n",
              "      <td>18.20</td>\n",
              "      <td>16.35</td>\n",
              "      <td>36.3</td>\n",
              "      <td>-1.62</td>\n",
              "    </tr>\n",
              "  </tbody>\n",
              "</table>\n",
              "</div>"
            ],
            "text/plain": [
              "              WTI  BRENT   INR  NIFTY\n",
              "DATE                                 \n",
              "1990-01-01  22.86  21.25  35.6   0.44\n",
              "1990-02-01  22.11  19.81  35.6   2.45\n",
              "1990-03-01    NaN  18.39  35.9  -0.28\n",
              "1990-04-01  18.43  16.61  36.3  -6.18\n",
              "1990-05-01  18.20  16.35  36.3  -1.62"
            ]
          },
          "metadata": {
            "tags": []
          },
          "execution_count": 56
        }
      ]
    },
    {
      "cell_type": "code",
      "metadata": {
        "id": "N1xqCnH-aOWO",
        "colab_type": "code",
        "colab": {}
      },
      "source": [
        "mydatats.WTI = mydatats.WTI.fillna(method ='ffill')\n",
        "mydatats.BRENT = mydatats.BRENT.fillna(method ='ffill')\n",
        "mydatats.INR = mydatats.INR.fillna(method ='ffill')\n",
        "mydatats.NIFTY = mydatats.NIFTY.fillna(method ='ffill')\n"
      ],
      "execution_count": 57,
      "outputs": []
    },
    {
      "cell_type": "markdown",
      "metadata": {
        "id": "psnchn8euNV8",
        "colab_type": "text"
      },
      "source": [
        "**Create a duplicate variable**"
      ]
    },
    {
      "cell_type": "code",
      "metadata": {
        "id": "5wFQSMTIudT5",
        "colab_type": "code",
        "colab": {}
      },
      "source": [
        "mydatats['INR_INR'] = mydatats.INR"
      ],
      "execution_count": 58,
      "outputs": []
    },
    {
      "cell_type": "code",
      "metadata": {
        "id": "tfT73ENrumA8",
        "colab_type": "code",
        "colab": {
          "base_uri": "https://localhost:8080/",
          "height": 284
        },
        "outputId": "b0996fb6-059e-40d5-a12e-818d99e38a52"
      },
      "source": [
        "mydatats.describe()"
      ],
      "execution_count": 59,
      "outputs": [
        {
          "output_type": "execute_result",
          "data": {
            "text/html": [
              "<div>\n",
              "<style scoped>\n",
              "    .dataframe tbody tr th:only-of-type {\n",
              "        vertical-align: middle;\n",
              "    }\n",
              "\n",
              "    .dataframe tbody tr th {\n",
              "        vertical-align: top;\n",
              "    }\n",
              "\n",
              "    .dataframe thead th {\n",
              "        text-align: right;\n",
              "    }\n",
              "</style>\n",
              "<table border=\"1\" class=\"dataframe\">\n",
              "  <thead>\n",
              "    <tr style=\"text-align: right;\">\n",
              "      <th></th>\n",
              "      <th>WTI</th>\n",
              "      <th>BRENT</th>\n",
              "      <th>INR</th>\n",
              "      <th>NIFTY</th>\n",
              "      <th>INR_INR</th>\n",
              "    </tr>\n",
              "  </thead>\n",
              "  <tbody>\n",
              "    <tr>\n",
              "      <th>count</th>\n",
              "      <td>361.000000</td>\n",
              "      <td>361.000000</td>\n",
              "      <td>361.000000</td>\n",
              "      <td>361.000000</td>\n",
              "      <td>361.000000</td>\n",
              "    </tr>\n",
              "    <tr>\n",
              "      <th>mean</th>\n",
              "      <td>47.772244</td>\n",
              "      <td>49.157922</td>\n",
              "      <td>96.245983</td>\n",
              "      <td>0.189557</td>\n",
              "      <td>96.245983</td>\n",
              "    </tr>\n",
              "    <tr>\n",
              "      <th>std</th>\n",
              "      <td>29.185056</td>\n",
              "      <td>32.851631</td>\n",
              "      <td>28.148450</td>\n",
              "      <td>1.889088</td>\n",
              "      <td>28.148450</td>\n",
              "    </tr>\n",
              "    <tr>\n",
              "      <th>min</th>\n",
              "      <td>11.350000</td>\n",
              "      <td>9.820000</td>\n",
              "      <td>35.600000</td>\n",
              "      <td>-6.180000</td>\n",
              "      <td>35.600000</td>\n",
              "    </tr>\n",
              "    <tr>\n",
              "      <th>25%</th>\n",
              "      <td>21.300000</td>\n",
              "      <td>19.570000</td>\n",
              "      <td>75.500000</td>\n",
              "      <td>-0.790000</td>\n",
              "      <td>75.500000</td>\n",
              "    </tr>\n",
              "    <tr>\n",
              "      <th>50%</th>\n",
              "      <td>40.780000</td>\n",
              "      <td>39.950000</td>\n",
              "      <td>95.100000</td>\n",
              "      <td>0.180000</td>\n",
              "      <td>95.100000</td>\n",
              "    </tr>\n",
              "    <tr>\n",
              "      <th>75%</th>\n",
              "      <td>68.060000</td>\n",
              "      <td>70.760000</td>\n",
              "      <td>113.800000</td>\n",
              "      <td>1.080000</td>\n",
              "      <td>113.800000</td>\n",
              "    </tr>\n",
              "    <tr>\n",
              "      <th>max</th>\n",
              "      <td>133.880000</td>\n",
              "      <td>132.720000</td>\n",
              "      <td>154.300000</td>\n",
              "      <td>17.740000</td>\n",
              "      <td>154.300000</td>\n",
              "    </tr>\n",
              "  </tbody>\n",
              "</table>\n",
              "</div>"
            ],
            "text/plain": [
              "              WTI       BRENT         INR       NIFTY     INR_INR\n",
              "count  361.000000  361.000000  361.000000  361.000000  361.000000\n",
              "mean    47.772244   49.157922   96.245983    0.189557   96.245983\n",
              "std     29.185056   32.851631   28.148450    1.889088   28.148450\n",
              "min     11.350000    9.820000   35.600000   -6.180000   35.600000\n",
              "25%     21.300000   19.570000   75.500000   -0.790000   75.500000\n",
              "50%     40.780000   39.950000   95.100000    0.180000   95.100000\n",
              "75%     68.060000   70.760000  113.800000    1.080000  113.800000\n",
              "max    133.880000  132.720000  154.300000   17.740000  154.300000"
            ]
          },
          "metadata": {
            "tags": []
          },
          "execution_count": 59
        }
      ]
    },
    {
      "cell_type": "code",
      "metadata": {
        "id": "w6ISOaVcutyw",
        "colab_type": "code",
        "colab": {}
      },
      "source": [
        "del mydatats['INR_INR']"
      ],
      "execution_count": 60,
      "outputs": []
    },
    {
      "cell_type": "code",
      "metadata": {
        "id": "Gkw2MUGKvVgO",
        "colab_type": "code",
        "colab": {
          "base_uri": "https://localhost:8080/",
          "height": 284
        },
        "outputId": "f3549cd2-63fe-4522-fc2f-0863f2cd47a5"
      },
      "source": [
        "mydatats.describe()"
      ],
      "execution_count": 61,
      "outputs": [
        {
          "output_type": "execute_result",
          "data": {
            "text/html": [
              "<div>\n",
              "<style scoped>\n",
              "    .dataframe tbody tr th:only-of-type {\n",
              "        vertical-align: middle;\n",
              "    }\n",
              "\n",
              "    .dataframe tbody tr th {\n",
              "        vertical-align: top;\n",
              "    }\n",
              "\n",
              "    .dataframe thead th {\n",
              "        text-align: right;\n",
              "    }\n",
              "</style>\n",
              "<table border=\"1\" class=\"dataframe\">\n",
              "  <thead>\n",
              "    <tr style=\"text-align: right;\">\n",
              "      <th></th>\n",
              "      <th>WTI</th>\n",
              "      <th>BRENT</th>\n",
              "      <th>INR</th>\n",
              "      <th>NIFTY</th>\n",
              "    </tr>\n",
              "  </thead>\n",
              "  <tbody>\n",
              "    <tr>\n",
              "      <th>count</th>\n",
              "      <td>361.000000</td>\n",
              "      <td>361.000000</td>\n",
              "      <td>361.000000</td>\n",
              "      <td>361.000000</td>\n",
              "    </tr>\n",
              "    <tr>\n",
              "      <th>mean</th>\n",
              "      <td>47.772244</td>\n",
              "      <td>49.157922</td>\n",
              "      <td>96.245983</td>\n",
              "      <td>0.189557</td>\n",
              "    </tr>\n",
              "    <tr>\n",
              "      <th>std</th>\n",
              "      <td>29.185056</td>\n",
              "      <td>32.851631</td>\n",
              "      <td>28.148450</td>\n",
              "      <td>1.889088</td>\n",
              "    </tr>\n",
              "    <tr>\n",
              "      <th>min</th>\n",
              "      <td>11.350000</td>\n",
              "      <td>9.820000</td>\n",
              "      <td>35.600000</td>\n",
              "      <td>-6.180000</td>\n",
              "    </tr>\n",
              "    <tr>\n",
              "      <th>25%</th>\n",
              "      <td>21.300000</td>\n",
              "      <td>19.570000</td>\n",
              "      <td>75.500000</td>\n",
              "      <td>-0.790000</td>\n",
              "    </tr>\n",
              "    <tr>\n",
              "      <th>50%</th>\n",
              "      <td>40.780000</td>\n",
              "      <td>39.950000</td>\n",
              "      <td>95.100000</td>\n",
              "      <td>0.180000</td>\n",
              "    </tr>\n",
              "    <tr>\n",
              "      <th>75%</th>\n",
              "      <td>68.060000</td>\n",
              "      <td>70.760000</td>\n",
              "      <td>113.800000</td>\n",
              "      <td>1.080000</td>\n",
              "    </tr>\n",
              "    <tr>\n",
              "      <th>max</th>\n",
              "      <td>133.880000</td>\n",
              "      <td>132.720000</td>\n",
              "      <td>154.300000</td>\n",
              "      <td>17.740000</td>\n",
              "    </tr>\n",
              "  </tbody>\n",
              "</table>\n",
              "</div>"
            ],
            "text/plain": [
              "              WTI       BRENT         INR       NIFTY\n",
              "count  361.000000  361.000000  361.000000  361.000000\n",
              "mean    47.772244   49.157922   96.245983    0.189557\n",
              "std     29.185056   32.851631   28.148450    1.889088\n",
              "min     11.350000    9.820000   35.600000   -6.180000\n",
              "25%     21.300000   19.570000   75.500000   -0.790000\n",
              "50%     40.780000   39.950000   95.100000    0.180000\n",
              "75%     68.060000   70.760000  113.800000    1.080000\n",
              "max    133.880000  132.720000  154.300000   17.740000"
            ]
          },
          "metadata": {
            "tags": []
          },
          "execution_count": 61
        }
      ]
    },
    {
      "cell_type": "markdown",
      "metadata": {
        "id": "48By1Fubvtb5",
        "colab_type": "text"
      },
      "source": [
        "Spliting the data set into Training and Testing using (iloc)"
      ]
    },
    {
      "cell_type": "code",
      "metadata": {
        "id": "FX1jCi6mvZD9",
        "colab_type": "code",
        "colab": {
          "base_uri": "https://localhost:8080/",
          "height": 34
        },
        "outputId": "534a2d37-74fd-45eb-a7e0-6a4d8adfad7c"
      },
      "source": [
        "len(mydatats)"
      ],
      "execution_count": 62,
      "outputs": [
        {
          "output_type": "execute_result",
          "data": {
            "text/plain": [
              "361"
            ]
          },
          "metadata": {
            "tags": []
          },
          "execution_count": 62
        }
      ]
    },
    {
      "cell_type": "code",
      "metadata": {
        "id": "mRd0-D5vv52Q",
        "colab_type": "code",
        "colab": {}
      },
      "source": [
        "size =int(len(mydatats)*0.8)\n",
        "mydatats_train = mydatats.iloc[:size]\n",
        "mydatats_test = mydatats.iloc[size:]\n"
      ],
      "execution_count": 63,
      "outputs": []
    },
    {
      "cell_type": "code",
      "metadata": {
        "id": "yZCvPNDoxbCZ",
        "colab_type": "code",
        "colab": {
          "base_uri": "https://localhost:8080/",
          "height": 34
        },
        "outputId": "0a6f34d2-21af-4057-ed9c-2e2d12a97e0e"
      },
      "source": [
        "len(mydatats_train), len(mydatats_test)\n"
      ],
      "execution_count": 64,
      "outputs": [
        {
          "output_type": "execute_result",
          "data": {
            "text/plain": [
              "(288, 73)"
            ]
          },
          "metadata": {
            "tags": []
          },
          "execution_count": 64
        }
      ]
    },
    {
      "cell_type": "code",
      "metadata": {
        "id": "l9mAKME7xli3",
        "colab_type": "code",
        "colab": {}
      },
      "source": [
        "\n"
      ],
      "execution_count": null,
      "outputs": []
    },
    {
      "cell_type": "markdown",
      "metadata": {
        "id": "HbcjCgjpy-XS",
        "colab_type": "text"
      },
      "source": [
        "**White Noise**"
      ]
    },
    {
      "cell_type": "code",
      "metadata": {
        "id": "TWq8OiFGzBtC",
        "colab_type": "code",
        "colab": {
          "base_uri": "https://localhost:8080/",
          "height": 70
        },
        "outputId": "74869cdd-45d6-4ce3-a8dd-cbc074c47edc"
      },
      "source": [
        "import matplotlib.pyplot as plt\n",
        "from matplotlib.pyplot import figure\n",
        "import statsmodels.graphics.tsaplots as sgt\n",
        "import statsmodels.tsa.stattools as sts \n",
        "import statsmodels.api as sm\n",
        "from statsmodels.tsa.seasonal import  seasonal_decompose\n",
        "import seaborn as sns\n",
        "sns.set()"
      ],
      "execution_count": 65,
      "outputs": [
        {
          "output_type": "stream",
          "text": [
            "/usr/local/lib/python3.6/dist-packages/statsmodels/tools/_testing.py:19: FutureWarning: pandas.util.testing is deprecated. Use the functions in the public API at pandas.testing instead.\n",
            "  import pandas.util.testing as tm\n"
          ],
          "name": "stderr"
        }
      ]
    },
    {
      "cell_type": "code",
      "metadata": {
        "id": "ZVnhS0Bv0miN",
        "colab_type": "code",
        "colab": {
          "base_uri": "https://localhost:8080/",
          "height": 225
        },
        "outputId": "6769238c-bb54-4859-b864-3cad8a97a4d7"
      },
      "source": [
        "mydatats.head()"
      ],
      "execution_count": 66,
      "outputs": [
        {
          "output_type": "execute_result",
          "data": {
            "text/html": [
              "<div>\n",
              "<style scoped>\n",
              "    .dataframe tbody tr th:only-of-type {\n",
              "        vertical-align: middle;\n",
              "    }\n",
              "\n",
              "    .dataframe tbody tr th {\n",
              "        vertical-align: top;\n",
              "    }\n",
              "\n",
              "    .dataframe thead th {\n",
              "        text-align: right;\n",
              "    }\n",
              "</style>\n",
              "<table border=\"1\" class=\"dataframe\">\n",
              "  <thead>\n",
              "    <tr style=\"text-align: right;\">\n",
              "      <th></th>\n",
              "      <th>WTI</th>\n",
              "      <th>BRENT</th>\n",
              "      <th>INR</th>\n",
              "      <th>NIFTY</th>\n",
              "    </tr>\n",
              "    <tr>\n",
              "      <th>DATE</th>\n",
              "      <th></th>\n",
              "      <th></th>\n",
              "      <th></th>\n",
              "      <th></th>\n",
              "    </tr>\n",
              "  </thead>\n",
              "  <tbody>\n",
              "    <tr>\n",
              "      <th>1990-01-01</th>\n",
              "      <td>22.86</td>\n",
              "      <td>21.25</td>\n",
              "      <td>35.6</td>\n",
              "      <td>0.44</td>\n",
              "    </tr>\n",
              "    <tr>\n",
              "      <th>1990-02-01</th>\n",
              "      <td>22.11</td>\n",
              "      <td>19.81</td>\n",
              "      <td>35.6</td>\n",
              "      <td>2.45</td>\n",
              "    </tr>\n",
              "    <tr>\n",
              "      <th>1990-03-01</th>\n",
              "      <td>22.11</td>\n",
              "      <td>18.39</td>\n",
              "      <td>35.9</td>\n",
              "      <td>-0.28</td>\n",
              "    </tr>\n",
              "    <tr>\n",
              "      <th>1990-04-01</th>\n",
              "      <td>18.43</td>\n",
              "      <td>16.61</td>\n",
              "      <td>36.3</td>\n",
              "      <td>-6.18</td>\n",
              "    </tr>\n",
              "    <tr>\n",
              "      <th>1990-05-01</th>\n",
              "      <td>18.20</td>\n",
              "      <td>16.35</td>\n",
              "      <td>36.3</td>\n",
              "      <td>-1.62</td>\n",
              "    </tr>\n",
              "  </tbody>\n",
              "</table>\n",
              "</div>"
            ],
            "text/plain": [
              "              WTI  BRENT   INR  NIFTY\n",
              "DATE                                 \n",
              "1990-01-01  22.86  21.25  35.6   0.44\n",
              "1990-02-01  22.11  19.81  35.6   2.45\n",
              "1990-03-01  22.11  18.39  35.9  -0.28\n",
              "1990-04-01  18.43  16.61  36.3  -6.18\n",
              "1990-05-01  18.20  16.35  36.3  -1.62"
            ]
          },
          "metadata": {
            "tags": []
          },
          "execution_count": 66
        }
      ]
    },
    {
      "cell_type": "code",
      "metadata": {
        "id": "UH5V0Ka50r-T",
        "colab_type": "code",
        "colab": {}
      },
      "source": [
        "white_noise = np.random.normal(loc = mydatats.INR.mean(), scale= mydatats.INR.std(), size= len(mydatats))\n",
        "mydatats['WN_INR'] = white_noise"
      ],
      "execution_count": 67,
      "outputs": []
    },
    {
      "cell_type": "code",
      "metadata": {
        "id": "UqArMT4F2s9R",
        "colab_type": "code",
        "colab": {
          "base_uri": "https://localhost:8080/",
          "height": 225
        },
        "outputId": "15bac0cc-fd74-4694-ea64-b3a2b613cd43"
      },
      "source": [
        "mydatats.head()"
      ],
      "execution_count": 68,
      "outputs": [
        {
          "output_type": "execute_result",
          "data": {
            "text/html": [
              "<div>\n",
              "<style scoped>\n",
              "    .dataframe tbody tr th:only-of-type {\n",
              "        vertical-align: middle;\n",
              "    }\n",
              "\n",
              "    .dataframe tbody tr th {\n",
              "        vertical-align: top;\n",
              "    }\n",
              "\n",
              "    .dataframe thead th {\n",
              "        text-align: right;\n",
              "    }\n",
              "</style>\n",
              "<table border=\"1\" class=\"dataframe\">\n",
              "  <thead>\n",
              "    <tr style=\"text-align: right;\">\n",
              "      <th></th>\n",
              "      <th>WTI</th>\n",
              "      <th>BRENT</th>\n",
              "      <th>INR</th>\n",
              "      <th>NIFTY</th>\n",
              "      <th>WN_INR</th>\n",
              "    </tr>\n",
              "    <tr>\n",
              "      <th>DATE</th>\n",
              "      <th></th>\n",
              "      <th></th>\n",
              "      <th></th>\n",
              "      <th></th>\n",
              "      <th></th>\n",
              "    </tr>\n",
              "  </thead>\n",
              "  <tbody>\n",
              "    <tr>\n",
              "      <th>1990-01-01</th>\n",
              "      <td>22.86</td>\n",
              "      <td>21.25</td>\n",
              "      <td>35.6</td>\n",
              "      <td>0.44</td>\n",
              "      <td>101.618168</td>\n",
              "    </tr>\n",
              "    <tr>\n",
              "      <th>1990-02-01</th>\n",
              "      <td>22.11</td>\n",
              "      <td>19.81</td>\n",
              "      <td>35.6</td>\n",
              "      <td>2.45</td>\n",
              "      <td>97.281542</td>\n",
              "    </tr>\n",
              "    <tr>\n",
              "      <th>1990-03-01</th>\n",
              "      <td>22.11</td>\n",
              "      <td>18.39</td>\n",
              "      <td>35.9</td>\n",
              "      <td>-0.28</td>\n",
              "      <td>83.907938</td>\n",
              "    </tr>\n",
              "    <tr>\n",
              "      <th>1990-04-01</th>\n",
              "      <td>18.43</td>\n",
              "      <td>16.61</td>\n",
              "      <td>36.3</td>\n",
              "      <td>-6.18</td>\n",
              "      <td>73.286539</td>\n",
              "    </tr>\n",
              "    <tr>\n",
              "      <th>1990-05-01</th>\n",
              "      <td>18.20</td>\n",
              "      <td>16.35</td>\n",
              "      <td>36.3</td>\n",
              "      <td>-1.62</td>\n",
              "      <td>28.527946</td>\n",
              "    </tr>\n",
              "  </tbody>\n",
              "</table>\n",
              "</div>"
            ],
            "text/plain": [
              "              WTI  BRENT   INR  NIFTY      WN_INR\n",
              "DATE                                             \n",
              "1990-01-01  22.86  21.25  35.6   0.44  101.618168\n",
              "1990-02-01  22.11  19.81  35.6   2.45   97.281542\n",
              "1990-03-01  22.11  18.39  35.9  -0.28   83.907938\n",
              "1990-04-01  18.43  16.61  36.3  -6.18   73.286539\n",
              "1990-05-01  18.20  16.35  36.3  -1.62   28.527946"
            ]
          },
          "metadata": {
            "tags": []
          },
          "execution_count": 68
        }
      ]
    },
    {
      "cell_type": "code",
      "metadata": {
        "id": "HbLM9tT63Fv1",
        "colab_type": "code",
        "colab": {
          "base_uri": "https://localhost:8080/",
          "height": 284
        },
        "outputId": "898e5a71-b5e2-46b5-92f9-ee8763312069"
      },
      "source": [
        "mydatats.describe()"
      ],
      "execution_count": 69,
      "outputs": [
        {
          "output_type": "execute_result",
          "data": {
            "text/html": [
              "<div>\n",
              "<style scoped>\n",
              "    .dataframe tbody tr th:only-of-type {\n",
              "        vertical-align: middle;\n",
              "    }\n",
              "\n",
              "    .dataframe tbody tr th {\n",
              "        vertical-align: top;\n",
              "    }\n",
              "\n",
              "    .dataframe thead th {\n",
              "        text-align: right;\n",
              "    }\n",
              "</style>\n",
              "<table border=\"1\" class=\"dataframe\">\n",
              "  <thead>\n",
              "    <tr style=\"text-align: right;\">\n",
              "      <th></th>\n",
              "      <th>WTI</th>\n",
              "      <th>BRENT</th>\n",
              "      <th>INR</th>\n",
              "      <th>NIFTY</th>\n",
              "      <th>WN_INR</th>\n",
              "    </tr>\n",
              "  </thead>\n",
              "  <tbody>\n",
              "    <tr>\n",
              "      <th>count</th>\n",
              "      <td>361.000000</td>\n",
              "      <td>361.000000</td>\n",
              "      <td>361.000000</td>\n",
              "      <td>361.000000</td>\n",
              "      <td>361.000000</td>\n",
              "    </tr>\n",
              "    <tr>\n",
              "      <th>mean</th>\n",
              "      <td>47.772244</td>\n",
              "      <td>49.157922</td>\n",
              "      <td>96.245983</td>\n",
              "      <td>0.189557</td>\n",
              "      <td>94.272329</td>\n",
              "    </tr>\n",
              "    <tr>\n",
              "      <th>std</th>\n",
              "      <td>29.185056</td>\n",
              "      <td>32.851631</td>\n",
              "      <td>28.148450</td>\n",
              "      <td>1.889088</td>\n",
              "      <td>26.373113</td>\n",
              "    </tr>\n",
              "    <tr>\n",
              "      <th>min</th>\n",
              "      <td>11.350000</td>\n",
              "      <td>9.820000</td>\n",
              "      <td>35.600000</td>\n",
              "      <td>-6.180000</td>\n",
              "      <td>14.800327</td>\n",
              "    </tr>\n",
              "    <tr>\n",
              "      <th>25%</th>\n",
              "      <td>21.300000</td>\n",
              "      <td>19.570000</td>\n",
              "      <td>75.500000</td>\n",
              "      <td>-0.790000</td>\n",
              "      <td>76.740904</td>\n",
              "    </tr>\n",
              "    <tr>\n",
              "      <th>50%</th>\n",
              "      <td>40.780000</td>\n",
              "      <td>39.950000</td>\n",
              "      <td>95.100000</td>\n",
              "      <td>0.180000</td>\n",
              "      <td>94.671925</td>\n",
              "    </tr>\n",
              "    <tr>\n",
              "      <th>75%</th>\n",
              "      <td>68.060000</td>\n",
              "      <td>70.760000</td>\n",
              "      <td>113.800000</td>\n",
              "      <td>1.080000</td>\n",
              "      <td>113.062708</td>\n",
              "    </tr>\n",
              "    <tr>\n",
              "      <th>max</th>\n",
              "      <td>133.880000</td>\n",
              "      <td>132.720000</td>\n",
              "      <td>154.300000</td>\n",
              "      <td>17.740000</td>\n",
              "      <td>170.850530</td>\n",
              "    </tr>\n",
              "  </tbody>\n",
              "</table>\n",
              "</div>"
            ],
            "text/plain": [
              "              WTI       BRENT         INR       NIFTY      WN_INR\n",
              "count  361.000000  361.000000  361.000000  361.000000  361.000000\n",
              "mean    47.772244   49.157922   96.245983    0.189557   94.272329\n",
              "std     29.185056   32.851631   28.148450    1.889088   26.373113\n",
              "min     11.350000    9.820000   35.600000   -6.180000   14.800327\n",
              "25%     21.300000   19.570000   75.500000   -0.790000   76.740904\n",
              "50%     40.780000   39.950000   95.100000    0.180000   94.671925\n",
              "75%     68.060000   70.760000  113.800000    1.080000  113.062708\n",
              "max    133.880000  132.720000  154.300000   17.740000  170.850530"
            ]
          },
          "metadata": {
            "tags": []
          },
          "execution_count": 69
        }
      ]
    },
    {
      "cell_type": "code",
      "metadata": {
        "id": "c8h4HTeO3ssR",
        "colab_type": "code",
        "colab": {
          "base_uri": "https://localhost:8080/",
          "height": 296
        },
        "outputId": "bf562acc-0f7f-4cb2-f88e-bb956b9198c8"
      },
      "source": [
        "mydatats.WN_INR.plot(figsize=(12,4))\n",
        "mydatats.INR.plot(figsize = (12,4))\n",
        "plt.title('white noise process of INR VS INR', size = 20)\n",
        "plt.show()"
      ],
      "execution_count": 70,
      "outputs": [
        {
          "output_type": "display_data",
          "data": {
            "image/png": "[encoded data removed]",
            "text/plain": [
              "<Figure size 864x288 with 1 Axes>"
            ]
          },
          "metadata": {
            "tags": []
          }
        }
      ]
    },
    {
      "cell_type": "markdown",
      "metadata": {
        "id": "CufyD1QM5Gs0",
        "colab_type": "text"
      },
      "source": [
        "**UNIT Root**"
      ]
    },
    {
      "cell_type": "code",
      "metadata": {
        "id": "3Wlv8FZl4ZgU",
        "colab_type": "code",
        "colab": {
          "base_uri": "https://localhost:8080/",
          "height": 151
        },
        "outputId": "f2deb416-4f18-48db-c31f-42bd1e7e0c3c"
      },
      "source": [
        "sts.adfuller(mydatats.INR)"
      ],
      "execution_count": 71,
      "outputs": [
        {
          "output_type": "execute_result",
          "data": {
            "text/plain": [
              "(-1.1290406537170836,\n",
              " 0.7033530053152008,\n",
              " 1,\n",
              " 359,\n",
              " {'1%': -3.4486972813047574,\n",
              "  '10%': -2.571077032068342,\n",
              "  '5%': -2.8696246923288418},\n",
              " 1332.3497409741647)"
            ]
          },
          "metadata": {
            "tags": []
          },
          "execution_count": 71
        }
      ]
    },
    {
      "cell_type": "markdown",
      "metadata": {
        "id": "YgNffbRV9l2H",
        "colab_type": "text"
      },
      "source": [
        "INRt = alpha + beta1(INRt-1)"
      ]
    },
    {
      "cell_type": "markdown",
      "metadata": {
        "id": "kt4ThRsY9kTx",
        "colab_type": "text"
      },
      "source": [
        ""
      ]
    },
    {
      "cell_type": "code",
      "metadata": {
        "id": "rTS6FtH88lWW",
        "colab_type": "code",
        "colab": {
          "base_uri": "https://localhost:8080/",
          "height": 151
        },
        "outputId": "4797ecbe-f670-49c5-cc08-3b60bb8db4f2"
      },
      "source": [
        "sts.adfuller(mydatats.WN_INR)"
      ],
      "execution_count": 72,
      "outputs": [
        {
          "output_type": "execute_result",
          "data": {
            "text/plain": [
              "(-12.368814087933856,\n",
              " 5.338605606802158e-23,\n",
              " 2,\n",
              " 358,\n",
              " {'1%': -3.448748905151901,\n",
              "  '10%': -2.5710891239349585,\n",
              "  '5%': -2.8696473721448728},\n",
              " 3218.1463231282114)"
            ]
          },
          "metadata": {
            "tags": []
          },
          "execution_count": 72
        }
      ]
    },
    {
      "cell_type": "code",
      "metadata": {
        "id": "7y5BENHbVrJi",
        "colab_type": "code",
        "colab": {
          "base_uri": "https://localhost:8080/",
          "height": 225
        },
        "outputId": "2c4a4388-908d-4c62-97f1-ee773914b30d"
      },
      "source": [
        "mydatats.head()"
      ],
      "execution_count": 73,
      "outputs": [
        {
          "output_type": "execute_result",
          "data": {
            "text/html": [
              "<div>\n",
              "<style scoped>\n",
              "    .dataframe tbody tr th:only-of-type {\n",
              "        vertical-align: middle;\n",
              "    }\n",
              "\n",
              "    .dataframe tbody tr th {\n",
              "        vertical-align: top;\n",
              "    }\n",
              "\n",
              "    .dataframe thead th {\n",
              "        text-align: right;\n",
              "    }\n",
              "</style>\n",
              "<table border=\"1\" class=\"dataframe\">\n",
              "  <thead>\n",
              "    <tr style=\"text-align: right;\">\n",
              "      <th></th>\n",
              "      <th>WTI</th>\n",
              "      <th>BRENT</th>\n",
              "      <th>INR</th>\n",
              "      <th>NIFTY</th>\n",
              "      <th>WN_INR</th>\n",
              "    </tr>\n",
              "    <tr>\n",
              "      <th>DATE</th>\n",
              "      <th></th>\n",
              "      <th></th>\n",
              "      <th></th>\n",
              "      <th></th>\n",
              "      <th></th>\n",
              "    </tr>\n",
              "  </thead>\n",
              "  <tbody>\n",
              "    <tr>\n",
              "      <th>1990-01-01</th>\n",
              "      <td>22.86</td>\n",
              "      <td>21.25</td>\n",
              "      <td>35.6</td>\n",
              "      <td>0.44</td>\n",
              "      <td>101.618168</td>\n",
              "    </tr>\n",
              "    <tr>\n",
              "      <th>1990-02-01</th>\n",
              "      <td>22.11</td>\n",
              "      <td>19.81</td>\n",
              "      <td>35.6</td>\n",
              "      <td>2.45</td>\n",
              "      <td>97.281542</td>\n",
              "    </tr>\n",
              "    <tr>\n",
              "      <th>1990-03-01</th>\n",
              "      <td>22.11</td>\n",
              "      <td>18.39</td>\n",
              "      <td>35.9</td>\n",
              "      <td>-0.28</td>\n",
              "      <td>83.907938</td>\n",
              "    </tr>\n",
              "    <tr>\n",
              "      <th>1990-04-01</th>\n",
              "      <td>18.43</td>\n",
              "      <td>16.61</td>\n",
              "      <td>36.3</td>\n",
              "      <td>-6.18</td>\n",
              "      <td>73.286539</td>\n",
              "    </tr>\n",
              "    <tr>\n",
              "      <th>1990-05-01</th>\n",
              "      <td>18.20</td>\n",
              "      <td>16.35</td>\n",
              "      <td>36.3</td>\n",
              "      <td>-1.62</td>\n",
              "      <td>28.527946</td>\n",
              "    </tr>\n",
              "  </tbody>\n",
              "</table>\n",
              "</div>"
            ],
            "text/plain": [
              "              WTI  BRENT   INR  NIFTY      WN_INR\n",
              "DATE                                             \n",
              "1990-01-01  22.86  21.25  35.6   0.44  101.618168\n",
              "1990-02-01  22.11  19.81  35.6   2.45   97.281542\n",
              "1990-03-01  22.11  18.39  35.9  -0.28   83.907938\n",
              "1990-04-01  18.43  16.61  36.3  -6.18   73.286539\n",
              "1990-05-01  18.20  16.35  36.3  -1.62   28.527946"
            ]
          },
          "metadata": {
            "tags": []
          },
          "execution_count": 73
        }
      ]
    },
    {
      "cell_type": "markdown",
      "metadata": {
        "id": "n-Zi7ZHbV2KP",
        "colab_type": "text"
      },
      "source": [
        "**PCT**: ((Yt - Yt-1)/Yt-1) *100"
      ]
    },
    {
      "cell_type": "code",
      "metadata": {
        "id": "2-48pGm2VtxW",
        "colab_type": "code",
        "colab": {}
      },
      "source": [
        "mydatats['INR_pct'] = mydatats.INR.pct_change(1).mul(100)\n"
      ],
      "execution_count": 74,
      "outputs": []
    },
    {
      "cell_type": "code",
      "metadata": {
        "id": "rh0XZXYlWXQQ",
        "colab_type": "code",
        "colab": {
          "base_uri": "https://localhost:8080/",
          "height": 225
        },
        "outputId": "8e3cdaed-0752-4542-ecf5-1d30a0776d02"
      },
      "source": [
        "mydatats.head()"
      ],
      "execution_count": 75,
      "outputs": [
        {
          "output_type": "execute_result",
          "data": {
            "text/html": [
              "<div>\n",
              "<style scoped>\n",
              "    .dataframe tbody tr th:only-of-type {\n",
              "        vertical-align: middle;\n",
              "    }\n",
              "\n",
              "    .dataframe tbody tr th {\n",
              "        vertical-align: top;\n",
              "    }\n",
              "\n",
              "    .dataframe thead th {\n",
              "        text-align: right;\n",
              "    }\n",
              "</style>\n",
              "<table border=\"1\" class=\"dataframe\">\n",
              "  <thead>\n",
              "    <tr style=\"text-align: right;\">\n",
              "      <th></th>\n",
              "      <th>WTI</th>\n",
              "      <th>BRENT</th>\n",
              "      <th>INR</th>\n",
              "      <th>NIFTY</th>\n",
              "      <th>WN_INR</th>\n",
              "      <th>INR_pct</th>\n",
              "    </tr>\n",
              "    <tr>\n",
              "      <th>DATE</th>\n",
              "      <th></th>\n",
              "      <th></th>\n",
              "      <th></th>\n",
              "      <th></th>\n",
              "      <th></th>\n",
              "      <th></th>\n",
              "    </tr>\n",
              "  </thead>\n",
              "  <tbody>\n",
              "    <tr>\n",
              "      <th>1990-01-01</th>\n",
              "      <td>22.86</td>\n",
              "      <td>21.25</td>\n",
              "      <td>35.6</td>\n",
              "      <td>0.44</td>\n",
              "      <td>101.618168</td>\n",
              "      <td>NaN</td>\n",
              "    </tr>\n",
              "    <tr>\n",
              "      <th>1990-02-01</th>\n",
              "      <td>22.11</td>\n",
              "      <td>19.81</td>\n",
              "      <td>35.6</td>\n",
              "      <td>2.45</td>\n",
              "      <td>97.281542</td>\n",
              "      <td>0.000000</td>\n",
              "    </tr>\n",
              "    <tr>\n",
              "      <th>1990-03-01</th>\n",
              "      <td>22.11</td>\n",
              "      <td>18.39</td>\n",
              "      <td>35.9</td>\n",
              "      <td>-0.28</td>\n",
              "      <td>83.907938</td>\n",
              "      <td>0.842697</td>\n",
              "    </tr>\n",
              "    <tr>\n",
              "      <th>1990-04-01</th>\n",
              "      <td>18.43</td>\n",
              "      <td>16.61</td>\n",
              "      <td>36.3</td>\n",
              "      <td>-6.18</td>\n",
              "      <td>73.286539</td>\n",
              "      <td>1.114206</td>\n",
              "    </tr>\n",
              "    <tr>\n",
              "      <th>1990-05-01</th>\n",
              "      <td>18.20</td>\n",
              "      <td>16.35</td>\n",
              "      <td>36.3</td>\n",
              "      <td>-1.62</td>\n",
              "      <td>28.527946</td>\n",
              "      <td>0.000000</td>\n",
              "    </tr>\n",
              "  </tbody>\n",
              "</table>\n",
              "</div>"
            ],
            "text/plain": [
              "              WTI  BRENT   INR  NIFTY      WN_INR   INR_pct\n",
              "DATE                                                       \n",
              "1990-01-01  22.86  21.25  35.6   0.44  101.618168       NaN\n",
              "1990-02-01  22.11  19.81  35.6   2.45   97.281542  0.000000\n",
              "1990-03-01  22.11  18.39  35.9  -0.28   83.907938  0.842697\n",
              "1990-04-01  18.43  16.61  36.3  -6.18   73.286539  1.114206\n",
              "1990-05-01  18.20  16.35  36.3  -1.62   28.527946  0.000000"
            ]
          },
          "metadata": {
            "tags": []
          },
          "execution_count": 75
        }
      ]
    },
    {
      "cell_type": "code",
      "metadata": {
        "id": "g8ruQCgXWbtU",
        "colab_type": "code",
        "colab": {}
      },
      "source": [
        "mydatats = mydatats.iloc[1:]"
      ],
      "execution_count": 76,
      "outputs": []
    },
    {
      "cell_type": "code",
      "metadata": {
        "id": "BJaRBVbrZ9YX",
        "colab_type": "code",
        "colab": {}
      },
      "source": [
        "mydatats[\"INR_diff\"] = mydatats.INR.diff().dropna()\n",
        "mydatats[\"INR_diff\"] = mydatats.INR_diff.fillna(method='bfill')"
      ],
      "execution_count": 81,
      "outputs": []
    },
    {
      "cell_type": "code",
      "metadata": {
        "id": "BF_mFf6SacAi",
        "colab_type": "code",
        "colab": {
          "base_uri": "https://localhost:8080/",
          "height": 302
        },
        "outputId": "7e73465a-7f2c-47b3-a157-2c6bdce831b9"
      },
      "source": [
        "mydatats[\"INR_diff\"].plot()"
      ],
      "execution_count": 82,
      "outputs": [
        {
          "output_type": "execute_result",
          "data": {
            "text/plain": [
              "<matplotlib.axes._subplots.AxesSubplot at 0x7fb3cefb2ef0>"
            ]
          },
          "metadata": {
            "tags": []
          },
          "execution_count": 82
        },
        {
          "output_type": "display_data",
          "data": {
            "image/png": "[encoded data removed]",
            "text/plain": [
              "<Figure size 432x288 with 1 Axes>"
            ]
          },
          "metadata": {
            "tags": []
          }
        }
      ]
    },
    {
      "cell_type": "code",
      "metadata": {
        "id": "f8LS2wc6anrL",
        "colab_type": "code",
        "colab": {
          "base_uri": "https://localhost:8080/",
          "height": 302
        },
        "outputId": "29b3907a-0dac-432b-be13-0e338df16c64"
      },
      "source": [
        "mydatats[\"INR_pct\"].plot()"
      ],
      "execution_count": 80,
      "outputs": [
        {
          "output_type": "execute_result",
          "data": {
            "text/plain": [
              "<matplotlib.axes._subplots.AxesSubplot at 0x7fb3e354e160>"
            ]
          },
          "metadata": {
            "tags": []
          },
          "execution_count": 80
        },
        {
          "output_type": "display_data",
          "data": {
            "image/png": "[encoded data removed]",
            "text/plain": [
              "<Figure size 432x288 with 1 Axes>"
            ]
          },
          "metadata": {
            "tags": []
          }
        }
      ]
    },
    {
      "cell_type": "code",
      "metadata": {
        "id": "WqotysbcbvRy",
        "colab_type": "code",
        "colab": {
          "base_uri": "https://localhost:8080/",
          "height": 151
        },
        "outputId": "206ede64-655f-4360-d30f-e02e086df423"
      },
      "source": [
        "sts.adfuller(mydatats.INR_pct)"
      ],
      "execution_count": 83,
      "outputs": [
        {
          "output_type": "execute_result",
          "data": {
            "text/plain": [
              "(-15.70894672146147,\n",
              " 1.366977224522097e-28,\n",
              " 0,\n",
              " 359,\n",
              " {'1%': -3.4486972813047574,\n",
              "  '10%': -2.571077032068342,\n",
              "  '5%': -2.8696246923288418},\n",
              " 1457.1287069991165)"
            ]
          },
          "metadata": {
            "tags": []
          },
          "execution_count": 83
        }
      ]
    },
    {
      "cell_type": "code",
      "metadata": {
        "id": "4moFp-bWb6vs",
        "colab_type": "code",
        "colab": {
          "base_uri": "https://localhost:8080/",
          "height": 151
        },
        "outputId": "beb6eaef-9427-4187-a357-29d63153486c"
      },
      "source": [
        "sts.adfuller(mydatats.INR_diff)"
      ],
      "execution_count": 84,
      "outputs": [
        {
          "output_type": "execute_result",
          "data": {
            "text/plain": [
              "(-14.684104587853644,\n",
              " 3.122754415903385e-27,\n",
              " 0,\n",
              " 359,\n",
              " {'1%': -3.4486972813047574,\n",
              "  '10%': -2.571077032068342,\n",
              "  '5%': -2.8696246923288418},\n",
              " 1328.4328642093606)"
            ]
          },
          "metadata": {
            "tags": []
          },
          "execution_count": 84
        }
      ]
    },
    {
      "cell_type": "code",
      "metadata": {
        "id": "4_3KO5dieSNe",
        "colab_type": "code",
        "colab": {}
      },
      "source": [
        "def stationarity_test(mydata):\n",
        "  from statsmodels.tsa.stattools import adfuller \n",
        "  print(\"Result of ADF test: \")\n",
        "  df_test = adfuller(mydata, autolag='AIC')\n",
        "  df_output = pd.Series(df_test[0:4], index = [\"Test Stat:\", \"P-Value:\",\\\n",
        "                                               \"Maximum Lag Used\",\\\n",
        "                                               \"deg 0f free:\"])\n",
        "  print(df_output)"
      ],
      "execution_count": 93,
      "outputs": []
    },
    {
      "cell_type": "code",
      "metadata": {
        "id": "wX0WEmXsffxE",
        "colab_type": "code",
        "colab": {
          "base_uri": "https://localhost:8080/",
          "height": 118
        },
        "outputId": "7db2ff2b-f095-4107-c2e0-88b31727f1ba"
      },
      "source": [
        "stationarity_test(mydatats.INR_pct)"
      ],
      "execution_count": 94,
      "outputs": [
        {
          "output_type": "stream",
          "text": [
            "Result of ADF test: \n",
            "Test Stat:         -1.570895e+01\n",
            "P-Value:            1.366977e-28\n",
            "Maximum Lag Used    0.000000e+00\n",
            "deg 0f free:        3.590000e+02\n",
            "dtype: float64\n"
          ],
          "name": "stdout"
        }
      ]
    },
    {
      "cell_type": "code",
      "metadata": {
        "id": "S4VU3Nzdibw9",
        "colab_type": "code",
        "colab": {
          "base_uri": "https://localhost:8080/",
          "height": 286
        },
        "outputId": "d2cf8b49-311b-48f5-b2ee-229a58b909cf"
      },
      "source": [
        "sgt.plot_acf(mydatats.INR_pct, lags=50, zero=False)\n",
        "plt.title(\"ACF of INR_pct\", size = 15)\n",
        "plt.show()"
      ],
      "execution_count": 96,
      "outputs": [
        {
          "output_type": "display_data",
          "data": {
            "image/png": "[encoded data removed]",
            "text/plain": [
              "<Figure size 432x288 with 1 Axes>"
            ]
          },
          "metadata": {
            "tags": []
          }
        }
      ]
    },
    {
      "cell_type": "code",
      "metadata": {
        "id": "iu2lQTAsisC4",
        "colab_type": "code",
        "colab": {
          "base_uri": "https://localhost:8080/",
          "height": 286
        },
        "outputId": "0a189946-76b8-4335-8dff-73d948d07331"
      },
      "source": [
        "sgt.plot_acf(mydatats.INR_diff, lags=50, zero=False)\n",
        "plt.title(\"ACF of INR_diff\", size = 15)\n",
        "plt.show()"
      ],
      "execution_count": 97,
      "outputs": [
        {
          "output_type": "display_data",
          "data": {
            "image/png": "[encoded data removed]",
            "text/plain": [
              "<Figure size 432x288 with 1 Axes>"
            ]
          },
          "metadata": {
            "tags": []
          }
        }
      ]
    },
    {
      "cell_type": "markdown",
      "metadata": {
        "id": "cLS4WT4-kZpi",
        "colab_type": "text"
      },
      "source": [
        "Normalization is used to compare rest of the values with the base value"
      ]
    },
    {
      "cell_type": "code",
      "metadata": {
        "id": "eo7uZ9qtkfEk",
        "colab_type": "code",
        "colab": {
          "base_uri": "https://localhost:8080/",
          "height": 225
        },
        "outputId": "5f11dccf-51d9-4b97-afaf-193792ba7ed4"
      },
      "source": [
        "base_value = mydatats.INR.iloc[0]\n",
        "mydatats[\"INR_norm\"]  = mydatats.INR.div(base_value).mul(100)\n",
        "mydatats.head()"
      ],
      "execution_count": 100,
      "outputs": [
        {
          "output_type": "execute_result",
          "data": {
            "text/html": [
              "<div>\n",
              "<style scoped>\n",
              "    .dataframe tbody tr th:only-of-type {\n",
              "        vertical-align: middle;\n",
              "    }\n",
              "\n",
              "    .dataframe tbody tr th {\n",
              "        vertical-align: top;\n",
              "    }\n",
              "\n",
              "    .dataframe thead th {\n",
              "        text-align: right;\n",
              "    }\n",
              "</style>\n",
              "<table border=\"1\" class=\"dataframe\">\n",
              "  <thead>\n",
              "    <tr style=\"text-align: right;\">\n",
              "      <th></th>\n",
              "      <th>WTI</th>\n",
              "      <th>BRENT</th>\n",
              "      <th>INR</th>\n",
              "      <th>NIFTY</th>\n",
              "      <th>WN_INR</th>\n",
              "      <th>INR_pct</th>\n",
              "      <th>INR_diff</th>\n",
              "      <th>Z_INR</th>\n",
              "      <th>INR_norm</th>\n",
              "    </tr>\n",
              "    <tr>\n",
              "      <th>DATE</th>\n",
              "      <th></th>\n",
              "      <th></th>\n",
              "      <th></th>\n",
              "      <th></th>\n",
              "      <th></th>\n",
              "      <th></th>\n",
              "      <th></th>\n",
              "      <th></th>\n",
              "      <th></th>\n",
              "    </tr>\n",
              "  </thead>\n",
              "  <tbody>\n",
              "    <tr>\n",
              "      <th>1990-02-01</th>\n",
              "      <td>22.11</td>\n",
              "      <td>19.81</td>\n",
              "      <td>35.6</td>\n",
              "      <td>2.45</td>\n",
              "      <td>97.281542</td>\n",
              "      <td>0.000000</td>\n",
              "      <td>0.3</td>\n",
              "      <td>-2.171572</td>\n",
              "      <td>100.000000</td>\n",
              "    </tr>\n",
              "    <tr>\n",
              "      <th>1990-03-01</th>\n",
              "      <td>22.11</td>\n",
              "      <td>18.39</td>\n",
              "      <td>35.9</td>\n",
              "      <td>-0.28</td>\n",
              "      <td>83.907938</td>\n",
              "      <td>0.842697</td>\n",
              "      <td>0.3</td>\n",
              "      <td>-2.160860</td>\n",
              "      <td>100.842697</td>\n",
              "    </tr>\n",
              "    <tr>\n",
              "      <th>1990-04-01</th>\n",
              "      <td>18.43</td>\n",
              "      <td>16.61</td>\n",
              "      <td>36.3</td>\n",
              "      <td>-6.18</td>\n",
              "      <td>73.286539</td>\n",
              "      <td>1.114206</td>\n",
              "      <td>0.4</td>\n",
              "      <td>-2.146576</td>\n",
              "      <td>101.966292</td>\n",
              "    </tr>\n",
              "    <tr>\n",
              "      <th>1990-05-01</th>\n",
              "      <td>18.20</td>\n",
              "      <td>16.35</td>\n",
              "      <td>36.3</td>\n",
              "      <td>-1.62</td>\n",
              "      <td>28.527946</td>\n",
              "      <td>0.000000</td>\n",
              "      <td>0.0</td>\n",
              "      <td>-2.146576</td>\n",
              "      <td>101.966292</td>\n",
              "    </tr>\n",
              "    <tr>\n",
              "      <th>1990-06-01</th>\n",
              "      <td>16.70</td>\n",
              "      <td>15.10</td>\n",
              "      <td>36.5</td>\n",
              "      <td>-3.48</td>\n",
              "      <td>117.500661</td>\n",
              "      <td>0.550964</td>\n",
              "      <td>0.2</td>\n",
              "      <td>-2.139435</td>\n",
              "      <td>102.528090</td>\n",
              "    </tr>\n",
              "  </tbody>\n",
              "</table>\n",
              "</div>"
            ],
            "text/plain": [
              "              WTI  BRENT   INR  NIFTY  ...   INR_pct  INR_diff     Z_INR    INR_norm\n",
              "DATE                                   ...                                          \n",
              "1990-02-01  22.11  19.81  35.6   2.45  ...  0.000000       0.3 -2.171572  100.000000\n",
              "1990-03-01  22.11  18.39  35.9  -0.28  ...  0.842697       0.3 -2.160860  100.842697\n",
              "1990-04-01  18.43  16.61  36.3  -6.18  ...  1.114206       0.4 -2.146576  101.966292\n",
              "1990-05-01  18.20  16.35  36.3  -1.62  ...  0.000000       0.0 -2.146576  101.966292\n",
              "1990-06-01  16.70  15.10  36.5  -3.48  ...  0.550964       0.2 -2.139435  102.528090\n",
              "\n",
              "[5 rows x 9 columns]"
            ]
          },
          "metadata": {
            "tags": []
          },
          "execution_count": 100
        }
      ]
    },
    {
      "cell_type": "markdown",
      "metadata": {
        "id": "sFLoU_GxlTeA",
        "colab_type": "text"
      },
      "source": [
        "Finding the z score \n",
        "z = (x - mean(x))/ std(x)"
      ]
    },
    {
      "cell_type": "code",
      "metadata": {
        "id": "YOeZrY2kllLD",
        "colab_type": "code",
        "colab": {
          "base_uri": "https://localhost:8080/",
          "height": 225
        },
        "outputId": "0fcd38a0-05d1-403a-9246-c4ff24471f6b"
      },
      "source": [
        "mean_dev= mydatats.INR.sub(mydatats.INR.mean())\n",
        "mydatats[\"Z_INR\"] = mean_dev.div(mydatats.INR.std())\n",
        "mydatats.head()"
      ],
      "execution_count": 99,
      "outputs": [
        {
          "output_type": "execute_result",
          "data": {
            "text/html": [
              "<div>\n",
              "<style scoped>\n",
              "    .dataframe tbody tr th:only-of-type {\n",
              "        vertical-align: middle;\n",
              "    }\n",
              "\n",
              "    .dataframe tbody tr th {\n",
              "        vertical-align: top;\n",
              "    }\n",
              "\n",
              "    .dataframe thead th {\n",
              "        text-align: right;\n",
              "    }\n",
              "</style>\n",
              "<table border=\"1\" class=\"dataframe\">\n",
              "  <thead>\n",
              "    <tr style=\"text-align: right;\">\n",
              "      <th></th>\n",
              "      <th>WTI</th>\n",
              "      <th>BRENT</th>\n",
              "      <th>INR</th>\n",
              "      <th>NIFTY</th>\n",
              "      <th>WN_INR</th>\n",
              "      <th>INR_pct</th>\n",
              "      <th>INR_diff</th>\n",
              "      <th>Z_INR</th>\n",
              "    </tr>\n",
              "    <tr>\n",
              "      <th>DATE</th>\n",
              "      <th></th>\n",
              "      <th></th>\n",
              "      <th></th>\n",
              "      <th></th>\n",
              "      <th></th>\n",
              "      <th></th>\n",
              "      <th></th>\n",
              "      <th></th>\n",
              "    </tr>\n",
              "  </thead>\n",
              "  <tbody>\n",
              "    <tr>\n",
              "      <th>1990-02-01</th>\n",
              "      <td>22.11</td>\n",
              "      <td>19.81</td>\n",
              "      <td>35.6</td>\n",
              "      <td>2.45</td>\n",
              "      <td>97.281542</td>\n",
              "      <td>0.000000</td>\n",
              "      <td>0.3</td>\n",
              "      <td>-2.171572</td>\n",
              "    </tr>\n",
              "    <tr>\n",
              "      <th>1990-03-01</th>\n",
              "      <td>22.11</td>\n",
              "      <td>18.39</td>\n",
              "      <td>35.9</td>\n",
              "      <td>-0.28</td>\n",
              "      <td>83.907938</td>\n",
              "      <td>0.842697</td>\n",
              "      <td>0.3</td>\n",
              "      <td>-2.160860</td>\n",
              "    </tr>\n",
              "    <tr>\n",
              "      <th>1990-04-01</th>\n",
              "      <td>18.43</td>\n",
              "      <td>16.61</td>\n",
              "      <td>36.3</td>\n",
              "      <td>-6.18</td>\n",
              "      <td>73.286539</td>\n",
              "      <td>1.114206</td>\n",
              "      <td>0.4</td>\n",
              "      <td>-2.146576</td>\n",
              "    </tr>\n",
              "    <tr>\n",
              "      <th>1990-05-01</th>\n",
              "      <td>18.20</td>\n",
              "      <td>16.35</td>\n",
              "      <td>36.3</td>\n",
              "      <td>-1.62</td>\n",
              "      <td>28.527946</td>\n",
              "      <td>0.000000</td>\n",
              "      <td>0.0</td>\n",
              "      <td>-2.146576</td>\n",
              "    </tr>\n",
              "    <tr>\n",
              "      <th>1990-06-01</th>\n",
              "      <td>16.70</td>\n",
              "      <td>15.10</td>\n",
              "      <td>36.5</td>\n",
              "      <td>-3.48</td>\n",
              "      <td>117.500661</td>\n",
              "      <td>0.550964</td>\n",
              "      <td>0.2</td>\n",
              "      <td>-2.139435</td>\n",
              "    </tr>\n",
              "  </tbody>\n",
              "</table>\n",
              "</div>"
            ],
            "text/plain": [
              "              WTI  BRENT   INR  NIFTY      WN_INR   INR_pct  INR_diff     Z_INR\n",
              "DATE                                                                           \n",
              "1990-02-01  22.11  19.81  35.6   2.45   97.281542  0.000000       0.3 -2.171572\n",
              "1990-03-01  22.11  18.39  35.9  -0.28   83.907938  0.842697       0.3 -2.160860\n",
              "1990-04-01  18.43  16.61  36.3  -6.18   73.286539  1.114206       0.4 -2.146576\n",
              "1990-05-01  18.20  16.35  36.3  -1.62   28.527946  0.000000       0.0 -2.146576\n",
              "1990-06-01  16.70  15.10  36.5  -3.48  117.500661  0.550964       0.2 -2.139435"
            ]
          },
          "metadata": {
            "tags": []
          },
          "execution_count": 99
        }
      ]
    },
    {
      "cell_type": "code",
      "metadata": {
        "id": "iskNczU5q6D-",
        "colab_type": "code",
        "colab": {
          "base_uri": "https://localhost:8080/",
          "height": 289
        },
        "outputId": "a9d3e23f-4569-464b-df8e-82a7eb91a6ff"
      },
      "source": [
        "plt.plot(mydatats.INR_norm)"
      ],
      "execution_count": 101,
      "outputs": [
        {
          "output_type": "execute_result",
          "data": {
            "text/plain": [
              "[<matplotlib.lines.Line2D at 0x7fb3bf3cec50>]"
            ]
          },
          "metadata": {
            "tags": []
          },
          "execution_count": 101
        },
        {
          "output_type": "display_data",
          "data": {
            "image/png": "[encoded data removed]",
            "text/plain": [
              "<Figure size 432x288 with 1 Axes>"
            ]
          },
          "metadata": {
            "tags": []
          }
        }
      ]
    },
    {
      "cell_type": "code",
      "metadata": {
        "id": "rYh3-5Hbq_3h",
        "colab_type": "code",
        "colab": {
          "base_uri": "https://localhost:8080/",
          "height": 285
        },
        "outputId": "f151ff65-3379-491c-91ec-d96991ab95aa"
      },
      "source": [
        "plt.plot(mydatats.Z_INR)"
      ],
      "execution_count": 102,
      "outputs": [
        {
          "output_type": "execute_result",
          "data": {
            "text/plain": [
              "[<matplotlib.lines.Line2D at 0x7fb3bf380898>]"
            ]
          },
          "metadata": {
            "tags": []
          },
          "execution_count": 102
        },
        {
          "output_type": "display_data",
          "data": {
            "image/png": "[encoded data removed]",
            "text/plain": [
              "<Figure size 432x288 with 1 Axes>"
            ]
          },
          "metadata": {
            "tags": []
          }
        }
      ]
    },
    {
      "cell_type": "code",
      "metadata": {
        "id": "c0K0EmN-rWp_",
        "colab_type": "code",
        "colab": {
          "base_uri": "https://localhost:8080/",
          "height": 151
        },
        "outputId": "a43c39d0-ad89-4f56-e3d9-bfc0989a5d6f"
      },
      "source": [
        "sts.adfuller(mydatats.Z_INR)"
      ],
      "execution_count": 103,
      "outputs": [
        {
          "output_type": "execute_result",
          "data": {
            "text/plain": [
              "(-1.1307118716098998,\n",
              " 0.7026702993551427,\n",
              " 1,\n",
              " 358,\n",
              " {'1%': -3.448748905151901,\n",
              "  '10%': -2.5710891239349585,\n",
              "  '5%': -2.8696473721448728},\n",
              " -950.0548470374181)"
            ]
          },
          "metadata": {
            "tags": []
          },
          "execution_count": 103
        }
      ]
    },
    {
      "cell_type": "markdown",
      "metadata": {
        "id": "lCI5hS1_rwL3",
        "colab_type": "text"
      },
      "source": [
        "Autoregressive and Moving average method "
      ]
    },
    {
      "cell_type": "code",
      "metadata": {
        "id": "tJ1u9gwZr0rf",
        "colab_type": "code",
        "colab": {
          "base_uri": "https://localhost:8080/",
          "height": 286
        },
        "outputId": "1a746179-2702-4948-eb82-505f3072606f"
      },
      "source": [
        "sgt.plot_acf(mydatats.INR_diff, lags=50, zero=False)\n",
        "plt.title(\"ACF of INR_diff\", size = 15)\n",
        "plt.show()"
      ],
      "execution_count": 104,
      "outputs": [
        {
          "output_type": "display_data",
          "data": {
            "image/png": "[encoded data removed]",
            "text/plain": [
              "<Figure size 432x288 with 1 Axes>"
            ]
          },
          "metadata": {
            "tags": []
          }
        }
      ]
    },
    {
      "cell_type": "code",
      "metadata": {
        "id": "8tYFhJouw1k3",
        "colab_type": "code",
        "colab": {
          "base_uri": "https://localhost:8080/",
          "height": 286
        },
        "outputId": "a1c6b1d2-36be-448e-b5f8-c15d3c6a6642"
      },
      "source": [
        "sgt.plot_pacf(mydatats.INR_diff, lags=50, zero=False)\n",
        "plt.title(\"PACF of INR_diff\", size = 15)\n",
        "plt.show()"
      ],
      "execution_count": 105,
      "outputs": [
        {
          "output_type": "display_data",
          "data": {
            "image/png": "[encoded data removed]",
            "text/plain": [
              "<Figure size 432x288 with 1 Axes>"
            ]
          },
          "metadata": {
            "tags": []
          }
        }
      ]
    },
    {
      "cell_type": "markdown",
      "metadata": {
        "id": "rHFyxQDLydxL",
        "colab_type": "text"
      },
      "source": [
        "AR Model for INR "
      ]
    },
    {
      "cell_type": "code",
      "metadata": {
        "id": "sY4nex8CygiE",
        "colab_type": "code",
        "colab": {}
      },
      "source": [
        "from statsmodels.tsa.arima_model import ARMA \n",
        "from scipy.stats.distributions import chi2 \n"
      ],
      "execution_count": 106,
      "outputs": []
    },
    {
      "cell_type": "code",
      "metadata": {
        "id": "RZB2bEjQypB1",
        "colab_type": "code",
        "colab": {
          "base_uri": "https://localhost:8080/",
          "height": 440
        },
        "outputId": "1e7d492b-0a7c-4150-c817-679d4f8357bb"
      },
      "source": [
        "ret_ar1 = ARMA(mydatats.INR_diff, order=(1,0))  # we can only take difference or pct change and not normalized series\n",
        "result_ret_ar1 = ret_ar1.fit()\n",
        "print(result_ret_ar1.summary())"
      ],
      "execution_count": 108,
      "outputs": [
        {
          "output_type": "stream",
          "text": [
            "                              ARMA Model Results                              \n",
            "==============================================================================\n",
            "Dep. Variable:               INR_diff   No. Observations:                  360\n",
            "Model:                     ARMA(1, 0)   Log Likelihood                -688.613\n",
            "Method:                       css-mle   S.D. of innovations              1.639\n",
            "Date:                Sat, 29 Aug 2020   AIC                           1383.226\n",
            "Time:                        06:00:35   BIC                           1394.884\n",
            "Sample:                    02-01-1990   HQIC                          1387.861\n",
            "                         - 01-01-2020                                         \n",
            "==================================================================================\n",
            "                     coef    std err          z      P>|z|      [0.025      0.975]\n",
            "----------------------------------------------------------------------------------\n",
            "const              0.3171      0.114      2.770      0.006       0.093       0.541\n",
            "ar.L1.INR_diff     0.2462      0.051      4.828      0.000       0.146       0.346\n",
            "                                    Roots                                    \n",
            "=============================================================================\n",
            "                  Real          Imaginary           Modulus         Frequency\n",
            "-----------------------------------------------------------------------------\n",
            "AR.1            4.0617           +0.0000j            4.0617            0.0000\n",
            "-----------------------------------------------------------------------------\n"
          ],
          "name": "stdout"
        },
        {
          "output_type": "stream",
          "text": [
            "/usr/local/lib/python3.6/dist-packages/statsmodels/tsa/base/tsa_model.py:165: ValueWarning:\n",
            "\n",
            "No frequency information was provided, so inferred frequency MS will be used.\n",
            "\n"
          ],
          "name": "stderr"
        }
      ]
    },
    {
      "cell_type": "code",
      "metadata": {
        "id": "YHgF-NQS0HP9",
        "colab_type": "code",
        "colab": {
          "base_uri": "https://localhost:8080/",
          "height": 474
        },
        "outputId": "29c67f39-693b-4674-84a8-9c1e6adabfa1"
      },
      "source": [
        "ret_ar2 = ARMA(mydatats.INR_diff, order=(2,0))  # we can only take difference or pct change and not normalized series\n",
        "result_ret_ar2 = ret_ar2.fit()\n",
        "print(result_ret_ar2.summary())"
      ],
      "execution_count": 110,
      "outputs": [
        {
          "output_type": "stream",
          "text": [
            "                              ARMA Model Results                              \n",
            "==============================================================================\n",
            "Dep. Variable:               INR_diff   No. Observations:                  360\n",
            "Model:                     ARMA(2, 0)   Log Likelihood                -687.827\n",
            "Method:                       css-mle   S.D. of innovations              1.635\n",
            "Date:                Sat, 29 Aug 2020   AIC                           1383.653\n",
            "Time:                        06:04:15   BIC                           1399.198\n",
            "Sample:                    02-01-1990   HQIC                          1389.834\n",
            "                         - 01-01-2020                                         \n",
            "==================================================================================\n",
            "                     coef    std err          z      P>|z|      [0.025      0.975]\n",
            "----------------------------------------------------------------------------------\n",
            "const              0.3174      0.107      2.960      0.003       0.107       0.527\n",
            "ar.L1.INR_diff     0.2625      0.053      4.998      0.000       0.160       0.365\n",
            "ar.L2.INR_diff    -0.0659      0.052     -1.255      0.210      -0.169       0.037\n",
            "                                    Roots                                    \n",
            "=============================================================================\n",
            "                  Real          Imaginary           Modulus         Frequency\n",
            "-----------------------------------------------------------------------------\n",
            "AR.1            1.9926           -3.3483j            3.8964           -0.1646\n",
            "AR.2            1.9926           +3.3483j            3.8964            0.1646\n",
            "-----------------------------------------------------------------------------\n"
          ],
          "name": "stdout"
        },
        {
          "output_type": "stream",
          "text": [
            "/usr/local/lib/python3.6/dist-packages/statsmodels/tsa/base/tsa_model.py:165: ValueWarning:\n",
            "\n",
            "No frequency information was provided, so inferred frequency MS will be used.\n",
            "\n"
          ],
          "name": "stderr"
        }
      ]
    },
    {
      "cell_type": "markdown",
      "metadata": {
        "id": "TU8ViwQZ0tUZ",
        "colab_type": "text"
      },
      "source": [
        "Model Validation"
      ]
    },
    {
      "cell_type": "markdown",
      "metadata": {
        "id": "jFwGu2ly0vz_",
        "colab_type": "text"
      },
      "source": [
        ""
      ]
    },
    {
      "cell_type": "code",
      "metadata": {
        "id": "IeEXPaS6074E",
        "colab_type": "code",
        "colab": {
          "base_uri": "https://localhost:8080/",
          "height": 50
        },
        "outputId": "927f378f-23e7-4f0c-da44-66cd60806bac"
      },
      "source": [
        "print(f\" AR(1,0) LL= {round(result_ret_ar1.llf, 3)} , AIC= {round(result_ret_ar1.aic, 3)}\")\n",
        "print(f\" AR(2,0) LL= {round(result_ret_ar2.llf, 3)} , AIC= {round(result_ret_ar2.aic, 3)}\")"
      ],
      "execution_count": 118,
      "outputs": [
        {
          "output_type": "stream",
          "text": [
            " AR(1,0) LL= -688.613 , AIC= 1383.226\n",
            " AR(2,0) LL= -687.827 , AIC= 1383.653\n"
          ],
          "name": "stdout"
        }
      ]
    },
    {
      "cell_type": "markdown",
      "metadata": {
        "id": "7hW0N5gW5GVU",
        "colab_type": "text"
      },
      "source": [
        "MA Models "
      ]
    },
    {
      "cell_type": "code",
      "metadata": {
        "id": "20XAIOUx5JFZ",
        "colab_type": "code",
        "colab": {
          "base_uri": "https://localhost:8080/",
          "height": 420
        },
        "outputId": "e8c4b502-8cfb-42c0-a2ff-6fbddbd0ac6f"
      },
      "source": [
        "ret_ma1 = ARMA(mydatats.INR_diff, order=(0,1))  # we can only take difference or pct change and not normalized series\n",
        "result_ret_ma1 = ret_ma1.fit()\n",
        "print(result_ret_ma1.summary())"
      ],
      "execution_count": 119,
      "outputs": [
        {
          "output_type": "stream",
          "text": [
            "                              ARMA Model Results                              \n",
            "==============================================================================\n",
            "Dep. Variable:               INR_diff   No. Observations:                  360\n",
            "Model:                     ARMA(0, 1)   Log Likelihood                -687.553\n",
            "Method:                       css-mle   S.D. of innovations              1.634\n",
            "Date:                Sat, 29 Aug 2020   AIC                           1381.107\n",
            "Time:                        06:26:22   BIC                           1392.765\n",
            "Sample:                    02-01-1990   HQIC                          1385.742\n",
            "                         - 01-01-2020                                         \n",
            "==================================================================================\n",
            "                     coef    std err          z      P>|z|      [0.025      0.975]\n",
            "----------------------------------------------------------------------------------\n",
            "const              0.3174      0.109      2.900      0.004       0.103       0.532\n",
            "ma.L1.INR_diff     0.2720      0.053      5.160      0.000       0.169       0.375\n",
            "                                    Roots                                    \n",
            "=============================================================================\n",
            "                  Real          Imaginary           Modulus         Frequency\n",
            "-----------------------------------------------------------------------------\n",
            "MA.1           -3.6764           +0.0000j            3.6764            0.5000\n",
            "-----------------------------------------------------------------------------\n"
          ],
          "name": "stdout"
        },
        {
          "output_type": "stream",
          "text": [
            "/usr/local/lib/python3.6/dist-packages/statsmodels/tsa/base/tsa_model.py:165: ValueWarning:\n",
            "\n",
            "No frequency information was provided, so inferred frequency MS will be used.\n",
            "\n"
          ],
          "name": "stderr"
        }
      ]
    },
    {
      "cell_type": "code",
      "metadata": {
        "id": "gmzqiUmQ5bE4",
        "colab_type": "code",
        "colab": {
          "base_uri": "https://localhost:8080/",
          "height": 454
        },
        "outputId": "38b644c3-f54b-48f3-fd8f-de0f2c0a9a66"
      },
      "source": [
        "ret_ma2 = ARMA(mydatats.INR_diff, order=(0,2))  # we can only take difference or pct change and not normalized series\n",
        "result_ret_ma2 = ret_ma2.fit()\n",
        "print(result_ret_ma2.summary())"
      ],
      "execution_count": 121,
      "outputs": [
        {
          "output_type": "stream",
          "text": [
            "                              ARMA Model Results                              \n",
            "==============================================================================\n",
            "Dep. Variable:               INR_diff   No. Observations:                  360\n",
            "Model:                     ARMA(0, 2)   Log Likelihood                -687.462\n",
            "Method:                       css-mle   S.D. of innovations              1.633\n",
            "Date:                Sat, 29 Aug 2020   AIC                           1382.923\n",
            "Time:                        06:27:38   BIC                           1398.468\n",
            "Sample:                    02-01-1990   HQIC                          1389.104\n",
            "                         - 01-01-2020                                         \n",
            "==================================================================================\n",
            "                     coef    std err          z      P>|z|      [0.025      0.975]\n",
            "----------------------------------------------------------------------------------\n",
            "const              0.3175      0.107      2.965      0.003       0.108       0.527\n",
            "ma.L1.INR_diff     0.2684      0.052      5.133      0.000       0.166       0.371\n",
            "ma.L2.INR_diff    -0.0238      0.056     -0.429      0.669      -0.133       0.085\n",
            "                                    Roots                                    \n",
            "=============================================================================\n",
            "                  Real          Imaginary           Modulus         Frequency\n",
            "-----------------------------------------------------------------------------\n",
            "MA.1           -2.9526           +0.0000j            2.9526            0.5000\n",
            "MA.2           14.2322           +0.0000j           14.2322            0.0000\n",
            "-----------------------------------------------------------------------------\n"
          ],
          "name": "stdout"
        },
        {
          "output_type": "stream",
          "text": [
            "/usr/local/lib/python3.6/dist-packages/statsmodels/tsa/base/tsa_model.py:165: ValueWarning:\n",
            "\n",
            "No frequency information was provided, so inferred frequency MS will be used.\n",
            "\n"
          ],
          "name": "stderr"
        }
      ]
    },
    {
      "cell_type": "code",
      "metadata": {
        "id": "Mr7ZAQ7t6J3Q",
        "colab_type": "code",
        "colab": {
          "base_uri": "https://localhost:8080/",
          "height": 50
        },
        "outputId": "37ac697d-c683-4753-b959-d184813ab362"
      },
      "source": [
        "print(f\" MA(0,1) LL= {round(result_ret_ma1.llf, 3)} , AIC= {round(result_ret_ma1.aic, 3)}\")\n",
        "print(f\" MA(0,2) LL= {round(result_ret_ma2.llf, 3)} , AIC= {round(result_ret_ma2.aic, 3)}\")"
      ],
      "execution_count": 122,
      "outputs": [
        {
          "output_type": "stream",
          "text": [
            " MA(0,1) LL= -687.553 , AIC= 1381.107\n",
            " MA(0,2) LL= -687.462 , AIC= 1382.923\n"
          ],
          "name": "stdout"
        }
      ]
    },
    {
      "cell_type": "markdown",
      "metadata": {
        "id": "blEEeqGY_1IL",
        "colab_type": "text"
      },
      "source": [
        "ARMA"
      ]
    },
    {
      "cell_type": "code",
      "metadata": {
        "id": "Laft4Ub__4xC",
        "colab_type": "code",
        "colab": {
          "base_uri": "https://localhost:8080/",
          "height": 474
        },
        "outputId": "83379cad-6dc9-44a8-8834-895f6e5eb70e"
      },
      "source": [
        "ret_arma11 = ARMA(mydatats.INR_diff, order=(1,1))  # we can only take difference or pct change and not normalized series\n",
        "result_ret_arma11 = ret_arma11.fit()\n",
        "print(result_ret_arma11.summary())"
      ],
      "execution_count": 124,
      "outputs": [
        {
          "output_type": "stream",
          "text": [
            "                              ARMA Model Results                              \n",
            "==============================================================================\n",
            "Dep. Variable:               INR_diff   No. Observations:                  360\n",
            "Model:                     ARMA(1, 1)   Log Likelihood                -687.398\n",
            "Method:                       css-mle   S.D. of innovations              1.633\n",
            "Date:                Sat, 29 Aug 2020   AIC                           1382.796\n",
            "Time:                        06:55:49   BIC                           1398.340\n",
            "Sample:                    02-01-1990   HQIC                          1388.977\n",
            "                         - 01-01-2020                                         \n",
            "==================================================================================\n",
            "                     coef    std err          z      P>|z|      [0.025      0.975]\n",
            "----------------------------------------------------------------------------------\n",
            "const              0.3175      0.106      2.999      0.003       0.110       0.525\n",
            "ar.L1.INR_diff    -0.1480      0.261     -0.568      0.571      -0.659       0.363\n",
            "ma.L1.INR_diff     0.4130      0.245      1.684      0.093      -0.068       0.894\n",
            "                                    Roots                                    \n",
            "=============================================================================\n",
            "                  Real          Imaginary           Modulus         Frequency\n",
            "-----------------------------------------------------------------------------\n",
            "AR.1           -6.7555           +0.0000j            6.7555            0.5000\n",
            "MA.1           -2.4213           +0.0000j            2.4213            0.5000\n",
            "-----------------------------------------------------------------------------\n"
          ],
          "name": "stdout"
        },
        {
          "output_type": "stream",
          "text": [
            "/usr/local/lib/python3.6/dist-packages/statsmodels/tsa/base/tsa_model.py:165: ValueWarning:\n",
            "\n",
            "No frequency information was provided, so inferred frequency MS will be used.\n",
            "\n"
          ],
          "name": "stderr"
        }
      ]
    },
    {
      "cell_type": "code",
      "metadata": {
        "id": "4COLl8OBA8Pi",
        "colab_type": "code",
        "colab": {
          "base_uri": "https://localhost:8080/",
          "height": 487
        },
        "outputId": "b2453ce6-1482-4ca4-f3a7-71ad82b3bafc"
      },
      "source": [
        "ret_arma12 = ARMA(mydatats.INR_diff, order=(1,2))  # we can only take difference or pct change and not normalized series\n",
        "result_ret_arma12 = ret_arma12.fit()\n",
        "print(result_ret_arma12.summary())"
      ],
      "execution_count": 125,
      "outputs": [
        {
          "output_type": "stream",
          "text": [
            "                              ARMA Model Results                              \n",
            "==============================================================================\n",
            "Dep. Variable:               INR_diff   No. Observations:                  360\n",
            "Model:                     ARMA(1, 2)   Log Likelihood                -686.888\n",
            "Method:                       css-mle   S.D. of innovations              1.631\n",
            "Date:                Sat, 29 Aug 2020   AIC                           1383.777\n",
            "Time:                        06:59:59   BIC                           1403.207\n",
            "Sample:                    02-01-1990   HQIC                          1391.503\n",
            "                         - 01-01-2020                                         \n",
            "==================================================================================\n",
            "                     coef    std err          z      P>|z|      [0.025      0.975]\n",
            "----------------------------------------------------------------------------------\n",
            "const              0.3173      0.107      2.967      0.003       0.108       0.527\n",
            "ar.L1.INR_diff    -0.6809      0.263     -2.591      0.010      -1.196      -0.166\n",
            "ma.L1.INR_diff     0.9469      0.269      3.520      0.000       0.420       1.474\n",
            "ma.L2.INR_diff     0.1463      0.103      1.423      0.156      -0.055       0.348\n",
            "                                    Roots                                    \n",
            "=============================================================================\n",
            "                  Real          Imaginary           Modulus         Frequency\n",
            "-----------------------------------------------------------------------------\n",
            "AR.1           -1.4686           +0.0000j            1.4686            0.5000\n",
            "MA.1           -1.3288           +0.0000j            1.3288            0.5000\n",
            "MA.2           -5.1443           +0.0000j            5.1443            0.5000\n",
            "-----------------------------------------------------------------------------\n"
          ],
          "name": "stdout"
        },
        {
          "output_type": "stream",
          "text": [
            "/usr/local/lib/python3.6/dist-packages/statsmodels/tsa/base/tsa_model.py:165: ValueWarning:\n",
            "\n",
            "No frequency information was provided, so inferred frequency MS will be used.\n",
            "\n"
          ],
          "name": "stderr"
        }
      ]
    },
    {
      "cell_type": "markdown",
      "metadata": {
        "id": "PF-TVCBZDHLd",
        "colab_type": "text"
      },
      "source": [
        "Evaluate Residual "
      ]
    },
    {
      "cell_type": "code",
      "metadata": {
        "id": "PQ5XNwP9CZux",
        "colab_type": "code",
        "colab": {}
      },
      "source": [
        "mydatats[\"resid_ar1\"]  = result_ret_ar1.resid"
      ],
      "execution_count": 126,
      "outputs": []
    },
    {
      "cell_type": "code",
      "metadata": {
        "id": "VLl2mKq1CkCI",
        "colab_type": "code",
        "colab": {
          "base_uri": "https://localhost:8080/",
          "height": 302
        },
        "outputId": "5f2683c9-bbd2-44da-8433-d0010d4b152e"
      },
      "source": [
        "mydatats[\"resid_ar1\"] .plot()"
      ],
      "execution_count": 127,
      "outputs": [
        {
          "output_type": "execute_result",
          "data": {
            "text/plain": [
              "<matplotlib.axes._subplots.AxesSubplot at 0x7fb3bed8f320>"
            ]
          },
          "metadata": {
            "tags": []
          },
          "execution_count": 127
        },
        {
          "output_type": "display_data",
          "data": {
            "image/png": "[encoded data removed]",
            "text/plain": [
              "<Figure size 432x288 with 1 Axes>"
            ]
          },
          "metadata": {
            "tags": []
          }
        }
      ]
    },
    {
      "cell_type": "markdown",
      "metadata": {
        "id": "MrrrGadsDnM3",
        "colab_type": "text"
      },
      "source": [
        "We check two things\n",
        "1. Stationarity \n",
        "2. Non Autocorrelation\n"
      ]
    },
    {
      "cell_type": "code",
      "metadata": {
        "id": "jDVe53w_DuZw",
        "colab_type": "code",
        "colab": {
          "base_uri": "https://localhost:8080/",
          "height": 151
        },
        "outputId": "7c511cd9-5eb3-4ef3-ca5d-ba4bf1654c27"
      },
      "source": [
        "sts.adfuller(mydatats.resid_ar1)"
      ],
      "execution_count": 133,
      "outputs": [
        {
          "output_type": "execute_result",
          "data": {
            "text/plain": [
              "(-16.505406369898388,\n",
              " 2.129738145330655e-29,\n",
              " 0,\n",
              " 359,\n",
              " {'1%': -3.4486972813047574,\n",
              "  '10%': -2.571077032068342,\n",
              "  '5%': -2.8696246923288418},\n",
              " 1327.7899917618784)"
            ]
          },
          "metadata": {
            "tags": []
          },
          "execution_count": 133
        }
      ]
    },
    {
      "cell_type": "code",
      "metadata": {
        "id": "-_-JfZ8GD2K4",
        "colab_type": "code",
        "colab": {
          "base_uri": "https://localhost:8080/",
          "height": 286
        },
        "outputId": "709f2f08-bb15-42df-933a-5c18a6723b05"
      },
      "source": [
        "# Ideally all the points should be non significant inside the shaded region \n",
        "# Practically two three distant points away from each other is ok\n",
        "sgt.plot_acf(mydatats.resid_ar1, lags=50, zero=False)\n",
        "plt.title(\"ACF of Residuals of AR1\", size = 15)\n",
        "plt.show()"
      ],
      "execution_count": 134,
      "outputs": [
        {
          "output_type": "display_data",
          "data": {
            "image/png": "[encoded data removed]",
            "text/plain": [
              "<Figure size 432x288 with 1 Axes>"
            ]
          },
          "metadata": {
            "tags": []
          }
        }
      ]
    },
    {
      "cell_type": "markdown",
      "metadata": {
        "id": "HLkZh_3qEwIU",
        "colab_type": "text"
      },
      "source": [
        "Histogram of Estimated Residuals"
      ]
    },
    {
      "cell_type": "code",
      "metadata": {
        "id": "ycSzEwqRE1JT",
        "colab_type": "code",
        "colab": {
          "base_uri": "https://localhost:8080/",
          "height": 696
        },
        "outputId": "ca8124d7-9907-4752-feaf-3987d6758651"
      },
      "source": [
        "plt.figure(figsize=(12,6))\n",
        "plt.hist(result_ret_ar1.resid, bins=\"auto\", density=True, width=0.2)"
      ],
      "execution_count": 138,
      "outputs": [
        {
          "output_type": "execute_result",
          "data": {
            "text/plain": [
              "(array([0.01661958, 0.00830979, 0.00830979, 0.02492937, 0.01661958,\n",
              "        0.03323916, 0.03323916, 0.05816852, 0.01661958, 0.04985873,\n",
              "        0.09140768, 0.14126641, 0.19943493, 0.54013627, 0.68971247,\n",
              "        0.21605451, 0.15788599, 0.19943493, 0.10802725, 0.0747881 ,\n",
              "        0.05816852, 0.04985873, 0.02492937, 0.03323916, 0.01661958,\n",
              "        0.02492937, 0.00830979, 0.00830979, 0.01661958, 0.02492937,\n",
              "        0.00830979, 0.00830979, 0.00830979, 0.        , 0.        ,\n",
              "        0.00830979, 0.        , 0.        , 0.        , 0.        ,\n",
              "        0.        , 0.        , 0.        , 0.00830979]),\n",
              " array([-4.98648329, -4.65220551, -4.31792772, -3.98364994, -3.64937216,\n",
              "        -3.31509438, -2.98081659, -2.64653881, -2.31226103, -1.97798325,\n",
              "        -1.64370546, -1.30942768, -0.9751499 , -0.64087212, -0.30659434,\n",
              "         0.02768345,  0.36196123,  0.69623901,  1.03051679,  1.36479458,\n",
              "         1.69907236,  2.03335014,  2.36762792,  2.70190571,  3.03618349,\n",
              "         3.37046127,  3.70473905,  4.03901684,  4.37329462,  4.7075724 ,\n",
              "         5.04185018,  5.37612796,  5.71040575,  6.04468353,  6.37896131,\n",
              "         6.71323909,  7.04751688,  7.38179466,  7.71607244,  8.05035022,\n",
              "         8.38462801,  8.71890579,  9.05318357,  9.38746135,  9.72173914]),\n",
              " <a list of 44 Patch objects>)"
            ]
          },
          "metadata": {
            "tags": []
          },
          "execution_count": 138
        },
        {
          "output_type": "display_data",
          "data": {
            "image/png": "[encoded data removed]",
            "text/plain": [
              "<Figure size 864x432 with 1 Axes>"
            ]
          },
          "metadata": {
            "tags": []
          }
        }
      ]
    }
  ]
}