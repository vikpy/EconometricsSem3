{
  "nbformat": 4,
  "nbformat_minor": 0,
  "metadata": {
    "colab": {
      "name": "Lec 7 ARCH AND GARCH",
      "provenance": [],
      "collapsed_sections": [],
      "include_colab_link": true
    },
    "kernelspec": {
      "name": "python3",
      "display_name": "Python 3"
    }
  },
  "cells": [
    {
      "cell_type": "markdown",
      "metadata": {
        "id": "view-in-github",
        "colab_type": "text"
      },
      "source": [
        "<a href=\"https://colab.research.google.com/github/vikpy/EconometricsSem3/blob/master/Lec_7_ARCH_AND_GARCH.ipynb\" target=\"_parent\"><img src=\"https://colab.research.google.com/assets/colab-badge.svg\" alt=\"Open In Colab\"/></a>"
      ]
    },
    {
      "cell_type": "markdown",
      "metadata": {
        "id": "0rbgOjk0FvqU",
        "colab_type": "text"
      },
      "source": [
        "**Time series Propertis-Random Walk-White Noise**"
      ]
    },
    {
      "cell_type": "code",
      "metadata": {
        "id": "QeAnY2XfGB8o",
        "colab_type": "code",
        "colab": {
          "base_uri": "https://localhost:8080/",
          "height": 70
        },
        "outputId": "209fb4e2-6909-4cbf-b405-b2bb1090a34f"
      },
      "source": [
        "import pandas as pd\n",
        "import numpy as np\n",
        "import matplotlib.pyplot as plt\n",
        "import seaborn as sns\n",
        "sns.set()"
      ],
      "execution_count": 1,
      "outputs": [
        {
          "output_type": "stream",
          "text": [
            "/usr/local/lib/python3.6/dist-packages/statsmodels/tools/_testing.py:19: FutureWarning: pandas.util.testing is deprecated. Use the functions in the public API at pandas.testing instead.\n",
            "  import pandas.util.testing as tm\n"
          ],
          "name": "stderr"
        }
      ]
    },
    {
      "cell_type": "code",
      "metadata": {
        "id": "9jd6Y-fdGZP2",
        "colab_type": "code",
        "colab": {}
      },
      "source": [
        "mydataraw = pd.read_csv(\"oilpriceindex.csv\")"
      ],
      "execution_count": 2,
      "outputs": []
    },
    {
      "cell_type": "markdown",
      "metadata": {
        "id": "WOwlriTyawpR",
        "colab_type": "text"
      },
      "source": [
        ""
      ]
    },
    {
      "cell_type": "code",
      "metadata": {
        "id": "hNt11VgsGpQs",
        "colab_type": "code",
        "colab": {}
      },
      "source": [
        "mydataraw1 = mydataraw.copy()"
      ],
      "execution_count": 3,
      "outputs": []
    },
    {
      "cell_type": "code",
      "metadata": {
        "id": "aQv5BqWEG1a7",
        "colab_type": "code",
        "colab": {
          "base_uri": "https://localhost:8080/",
          "height": 195
        },
        "outputId": "c9bb71e8-50d5-4cd5-a9b0-68cdfbd6c9d5"
      },
      "source": [
        "mydataraw.head()"
      ],
      "execution_count": 4,
      "outputs": [
        {
          "output_type": "execute_result",
          "data": {
            "text/html": [
              "<div>\n",
              "<style scoped>\n",
              "    .dataframe tbody tr th:only-of-type {\n",
              "        vertical-align: middle;\n",
              "    }\n",
              "\n",
              "    .dataframe tbody tr th {\n",
              "        vertical-align: top;\n",
              "    }\n",
              "\n",
              "    .dataframe thead th {\n",
              "        text-align: right;\n",
              "    }\n",
              "</style>\n",
              "<table border=\"1\" class=\"dataframe\">\n",
              "  <thead>\n",
              "    <tr style=\"text-align: right;\">\n",
              "      <th></th>\n",
              "      <th>DATE</th>\n",
              "      <th>WTI</th>\n",
              "      <th>BRENT</th>\n",
              "      <th>INR</th>\n",
              "      <th>NIFTY</th>\n",
              "    </tr>\n",
              "  </thead>\n",
              "  <tbody>\n",
              "    <tr>\n",
              "      <th>0</th>\n",
              "      <td>01-01-1990</td>\n",
              "      <td>22.86</td>\n",
              "      <td>21.25</td>\n",
              "      <td>35.6</td>\n",
              "      <td>0.44</td>\n",
              "    </tr>\n",
              "    <tr>\n",
              "      <th>1</th>\n",
              "      <td>02-01-1990</td>\n",
              "      <td>22.11</td>\n",
              "      <td>19.81</td>\n",
              "      <td>35.6</td>\n",
              "      <td>2.45</td>\n",
              "    </tr>\n",
              "    <tr>\n",
              "      <th>2</th>\n",
              "      <td>03-01-1990</td>\n",
              "      <td>NaN</td>\n",
              "      <td>18.39</td>\n",
              "      <td>35.9</td>\n",
              "      <td>-0.28</td>\n",
              "    </tr>\n",
              "    <tr>\n",
              "      <th>3</th>\n",
              "      <td>04-01-1990</td>\n",
              "      <td>18.43</td>\n",
              "      <td>16.61</td>\n",
              "      <td>36.3</td>\n",
              "      <td>-6.18</td>\n",
              "    </tr>\n",
              "    <tr>\n",
              "      <th>4</th>\n",
              "      <td>05-01-1990</td>\n",
              "      <td>18.20</td>\n",
              "      <td>16.35</td>\n",
              "      <td>36.3</td>\n",
              "      <td>-1.62</td>\n",
              "    </tr>\n",
              "  </tbody>\n",
              "</table>\n",
              "</div>"
            ],
            "text/plain": [
              "         DATE    WTI  BRENT   INR  NIFTY\n",
              "0  01-01-1990  22.86  21.25  35.6   0.44\n",
              "1  02-01-1990  22.11  19.81  35.6   2.45\n",
              "2  03-01-1990    NaN  18.39  35.9  -0.28\n",
              "3  04-01-1990  18.43  16.61  36.3  -6.18\n",
              "4  05-01-1990  18.20  16.35  36.3  -1.62"
            ]
          },
          "metadata": {
            "tags": []
          },
          "execution_count": 4
        }
      ]
    },
    {
      "cell_type": "code",
      "metadata": {
        "id": "YmqS8D53G9ot",
        "colab_type": "code",
        "colab": {
          "base_uri": "https://localhost:8080/",
          "height": 284
        },
        "outputId": "05b15552-44a1-4e4d-ee92-0be6300bcf20"
      },
      "source": [
        "mydataraw.describe()"
      ],
      "execution_count": 5,
      "outputs": [
        {
          "output_type": "execute_result",
          "data": {
            "text/html": [
              "<div>\n",
              "<style scoped>\n",
              "    .dataframe tbody tr th:only-of-type {\n",
              "        vertical-align: middle;\n",
              "    }\n",
              "\n",
              "    .dataframe tbody tr th {\n",
              "        vertical-align: top;\n",
              "    }\n",
              "\n",
              "    .dataframe thead th {\n",
              "        text-align: right;\n",
              "    }\n",
              "</style>\n",
              "<table border=\"1\" class=\"dataframe\">\n",
              "  <thead>\n",
              "    <tr style=\"text-align: right;\">\n",
              "      <th></th>\n",
              "      <th>WTI</th>\n",
              "      <th>BRENT</th>\n",
              "      <th>INR</th>\n",
              "      <th>NIFTY</th>\n",
              "    </tr>\n",
              "  </thead>\n",
              "  <tbody>\n",
              "    <tr>\n",
              "      <th>count</th>\n",
              "      <td>360.000000</td>\n",
              "      <td>359.000000</td>\n",
              "      <td>357.000000</td>\n",
              "      <td>358.000000</td>\n",
              "    </tr>\n",
              "    <tr>\n",
              "      <th>mean</th>\n",
              "      <td>47.843528</td>\n",
              "      <td>49.330808</td>\n",
              "      <td>96.766106</td>\n",
              "      <td>0.193324</td>\n",
              "    </tr>\n",
              "    <tr>\n",
              "      <th>std</th>\n",
              "      <td>29.194188</td>\n",
              "      <td>32.860975</td>\n",
              "      <td>27.851830</td>\n",
              "      <td>1.890878</td>\n",
              "    </tr>\n",
              "    <tr>\n",
              "      <th>min</th>\n",
              "      <td>11.350000</td>\n",
              "      <td>9.820000</td>\n",
              "      <td>35.600000</td>\n",
              "      <td>-6.180000</td>\n",
              "    </tr>\n",
              "    <tr>\n",
              "      <th>25%</th>\n",
              "      <td>21.295000</td>\n",
              "      <td>19.755000</td>\n",
              "      <td>76.800000</td>\n",
              "      <td>-0.782500</td>\n",
              "    </tr>\n",
              "    <tr>\n",
              "      <th>50%</th>\n",
              "      <td>40.950000</td>\n",
              "      <td>41.580000</td>\n",
              "      <td>95.200000</td>\n",
              "      <td>0.185000</td>\n",
              "    </tr>\n",
              "    <tr>\n",
              "      <th>75%</th>\n",
              "      <td>68.397500</td>\n",
              "      <td>70.905000</td>\n",
              "      <td>113.900000</td>\n",
              "      <td>1.080000</td>\n",
              "    </tr>\n",
              "    <tr>\n",
              "      <th>max</th>\n",
              "      <td>133.880000</td>\n",
              "      <td>132.720000</td>\n",
              "      <td>154.300000</td>\n",
              "      <td>17.740000</td>\n",
              "    </tr>\n",
              "  </tbody>\n",
              "</table>\n",
              "</div>"
            ],
            "text/plain": [
              "              WTI       BRENT         INR       NIFTY\n",
              "count  360.000000  359.000000  357.000000  358.000000\n",
              "mean    47.843528   49.330808   96.766106    0.193324\n",
              "std     29.194188   32.860975   27.851830    1.890878\n",
              "min     11.350000    9.820000   35.600000   -6.180000\n",
              "25%     21.295000   19.755000   76.800000   -0.782500\n",
              "50%     40.950000   41.580000   95.200000    0.185000\n",
              "75%     68.397500   70.905000  113.900000    1.080000\n",
              "max    133.880000  132.720000  154.300000   17.740000"
            ]
          },
          "metadata": {
            "tags": []
          },
          "execution_count": 5
        }
      ]
    },
    {
      "cell_type": "code",
      "metadata": {
        "id": "6PoOcweGHauC",
        "colab_type": "code",
        "colab": {
          "base_uri": "https://localhost:8080/",
          "height": 402
        },
        "outputId": "b904bd80-782a-4c89-9993-dd9ca58056ea"
      },
      "source": [
        "mydataraw.isna()"
      ],
      "execution_count": 7,
      "outputs": [
        {
          "output_type": "execute_result",
          "data": {
            "text/html": [
              "<div>\n",
              "<style scoped>\n",
              "    .dataframe tbody tr th:only-of-type {\n",
              "        vertical-align: middle;\n",
              "    }\n",
              "\n",
              "    .dataframe tbody tr th {\n",
              "        vertical-align: top;\n",
              "    }\n",
              "\n",
              "    .dataframe thead th {\n",
              "        text-align: right;\n",
              "    }\n",
              "</style>\n",
              "<table border=\"1\" class=\"dataframe\">\n",
              "  <thead>\n",
              "    <tr style=\"text-align: right;\">\n",
              "      <th></th>\n",
              "      <th>DATE</th>\n",
              "      <th>WTI</th>\n",
              "      <th>BRENT</th>\n",
              "      <th>INR</th>\n",
              "      <th>NIFTY</th>\n",
              "    </tr>\n",
              "  </thead>\n",
              "  <tbody>\n",
              "    <tr>\n",
              "      <th>0</th>\n",
              "      <td>False</td>\n",
              "      <td>False</td>\n",
              "      <td>False</td>\n",
              "      <td>False</td>\n",
              "      <td>False</td>\n",
              "    </tr>\n",
              "    <tr>\n",
              "      <th>1</th>\n",
              "      <td>False</td>\n",
              "      <td>False</td>\n",
              "      <td>False</td>\n",
              "      <td>False</td>\n",
              "      <td>False</td>\n",
              "    </tr>\n",
              "    <tr>\n",
              "      <th>2</th>\n",
              "      <td>False</td>\n",
              "      <td>True</td>\n",
              "      <td>False</td>\n",
              "      <td>False</td>\n",
              "      <td>False</td>\n",
              "    </tr>\n",
              "    <tr>\n",
              "      <th>3</th>\n",
              "      <td>False</td>\n",
              "      <td>False</td>\n",
              "      <td>False</td>\n",
              "      <td>False</td>\n",
              "      <td>False</td>\n",
              "    </tr>\n",
              "    <tr>\n",
              "      <th>4</th>\n",
              "      <td>False</td>\n",
              "      <td>False</td>\n",
              "      <td>False</td>\n",
              "      <td>False</td>\n",
              "      <td>False</td>\n",
              "    </tr>\n",
              "    <tr>\n",
              "      <th>...</th>\n",
              "      <td>...</td>\n",
              "      <td>...</td>\n",
              "      <td>...</td>\n",
              "      <td>...</td>\n",
              "      <td>...</td>\n",
              "    </tr>\n",
              "    <tr>\n",
              "      <th>356</th>\n",
              "      <td>False</td>\n",
              "      <td>False</td>\n",
              "      <td>False</td>\n",
              "      <td>False</td>\n",
              "      <td>False</td>\n",
              "    </tr>\n",
              "    <tr>\n",
              "      <th>357</th>\n",
              "      <td>False</td>\n",
              "      <td>False</td>\n",
              "      <td>False</td>\n",
              "      <td>False</td>\n",
              "      <td>False</td>\n",
              "    </tr>\n",
              "    <tr>\n",
              "      <th>358</th>\n",
              "      <td>False</td>\n",
              "      <td>False</td>\n",
              "      <td>False</td>\n",
              "      <td>False</td>\n",
              "      <td>False</td>\n",
              "    </tr>\n",
              "    <tr>\n",
              "      <th>359</th>\n",
              "      <td>False</td>\n",
              "      <td>False</td>\n",
              "      <td>False</td>\n",
              "      <td>False</td>\n",
              "      <td>False</td>\n",
              "    </tr>\n",
              "    <tr>\n",
              "      <th>360</th>\n",
              "      <td>False</td>\n",
              "      <td>False</td>\n",
              "      <td>False</td>\n",
              "      <td>False</td>\n",
              "      <td>False</td>\n",
              "    </tr>\n",
              "  </tbody>\n",
              "</table>\n",
              "<p>361 rows × 5 columns</p>\n",
              "</div>"
            ],
            "text/plain": [
              "      DATE    WTI  BRENT    INR  NIFTY\n",
              "0    False  False  False  False  False\n",
              "1    False  False  False  False  False\n",
              "2    False   True  False  False  False\n",
              "3    False  False  False  False  False\n",
              "4    False  False  False  False  False\n",
              "..     ...    ...    ...    ...    ...\n",
              "356  False  False  False  False  False\n",
              "357  False  False  False  False  False\n",
              "358  False  False  False  False  False\n",
              "359  False  False  False  False  False\n",
              "360  False  False  False  False  False\n",
              "\n",
              "[361 rows x 5 columns]"
            ]
          },
          "metadata": {
            "tags": []
          },
          "execution_count": 7
        }
      ]
    },
    {
      "cell_type": "code",
      "metadata": {
        "id": "5y8YL_0QJdem",
        "colab_type": "code",
        "colab": {
          "base_uri": "https://localhost:8080/",
          "height": 118
        },
        "outputId": "db955a7f-57f1-43d0-f2e6-2898d487496d"
      },
      "source": [
        "mydataraw.isna().sum()"
      ],
      "execution_count": 8,
      "outputs": [
        {
          "output_type": "execute_result",
          "data": {
            "text/plain": [
              "DATE     0\n",
              "WTI      1\n",
              "BRENT    2\n",
              "INR      4\n",
              "NIFTY    3\n",
              "dtype: int64"
            ]
          },
          "metadata": {
            "tags": []
          },
          "execution_count": 8
        }
      ]
    },
    {
      "cell_type": "code",
      "metadata": {
        "id": "VpRrYb2PJq82",
        "colab_type": "code",
        "colab": {
          "base_uri": "https://localhost:8080/",
          "height": 34
        },
        "outputId": "7c52a70f-950c-4e41-893d-9dc024090bec"
      },
      "source": [
        "mydataraw.NIFTY.isna().sum()"
      ],
      "execution_count": 9,
      "outputs": [
        {
          "output_type": "execute_result",
          "data": {
            "text/plain": [
              "3"
            ]
          },
          "metadata": {
            "tags": []
          },
          "execution_count": 9
        }
      ]
    },
    {
      "cell_type": "code",
      "metadata": {
        "id": "WtKwsSiOJ_TG",
        "colab_type": "code",
        "colab": {}
      },
      "source": [
        "mydataraw1.WTI = mydataraw1.WTI.fillna(method='ffill') "
      ],
      "execution_count": 10,
      "outputs": []
    },
    {
      "cell_type": "code",
      "metadata": {
        "id": "MXL4AVEIK152",
        "colab_type": "code",
        "colab": {
          "base_uri": "https://localhost:8080/",
          "height": 118
        },
        "outputId": "9d991f04-b956-458e-9d31-b67ae28ffd88"
      },
      "source": [
        "mydataraw1.isna().sum()"
      ],
      "execution_count": 16,
      "outputs": [
        {
          "output_type": "execute_result",
          "data": {
            "text/plain": [
              "DATE     0\n",
              "WTI      0\n",
              "BRENT    0\n",
              "INR      0\n",
              "NIFTY    3\n",
              "dtype: int64"
            ]
          },
          "metadata": {
            "tags": []
          },
          "execution_count": 16
        }
      ]
    },
    {
      "cell_type": "code",
      "metadata": {
        "id": "73eekFwIK4-Z",
        "colab_type": "code",
        "colab": {}
      },
      "source": [
        "mydataraw1.BRENT = mydataraw1.BRENT.fillna(method='bfill') "
      ],
      "execution_count": 11,
      "outputs": []
    },
    {
      "cell_type": "code",
      "metadata": {
        "id": "m6pgasWhLMUb",
        "colab_type": "code",
        "colab": {
          "base_uri": "https://localhost:8080/",
          "height": 118
        },
        "outputId": "e524f397-62e2-41a0-9e52-ad6a0df39c49"
      },
      "source": [
        "mydataraw1.isna().sum()"
      ],
      "execution_count": 12,
      "outputs": [
        {
          "output_type": "execute_result",
          "data": {
            "text/plain": [
              "DATE     0\n",
              "WTI      0\n",
              "BRENT    0\n",
              "INR      4\n",
              "NIFTY    3\n",
              "dtype: int64"
            ]
          },
          "metadata": {
            "tags": []
          },
          "execution_count": 12
        }
      ]
    },
    {
      "cell_type": "code",
      "metadata": {
        "id": "kLOW5w8_LO77",
        "colab_type": "code",
        "colab": {}
      },
      "source": [
        "mydataraw1.INR = mydataraw1.INR.fillna(method = 'ffill')"
      ],
      "execution_count": 13,
      "outputs": []
    },
    {
      "cell_type": "code",
      "metadata": {
        "id": "3vRR_J5BMMBU",
        "colab_type": "code",
        "colab": {
          "base_uri": "https://localhost:8080/",
          "height": 118
        },
        "outputId": "c023517e-7dcf-41df-d9f4-0f99a3ff6b70"
      },
      "source": [
        "mydataraw1.isna().sum()"
      ],
      "execution_count": 17,
      "outputs": [
        {
          "output_type": "execute_result",
          "data": {
            "text/plain": [
              "DATE     0\n",
              "WTI      0\n",
              "BRENT    0\n",
              "INR      0\n",
              "NIFTY    3\n",
              "dtype: int64"
            ]
          },
          "metadata": {
            "tags": []
          },
          "execution_count": 17
        }
      ]
    },
    {
      "cell_type": "code",
      "metadata": {
        "id": "wJrxqLxIMXwB",
        "colab_type": "code",
        "colab": {}
      },
      "source": [
        "mydataraw1.NIFTY = mydataraw1.NIFTY.fillna(value = mydataraw.NIFTY.mean())"
      ],
      "execution_count": 18,
      "outputs": []
    },
    {
      "cell_type": "code",
      "metadata": {
        "id": "X9op4c-uMkxl",
        "colab_type": "code",
        "colab": {
          "base_uri": "https://localhost:8080/",
          "height": 118
        },
        "outputId": "6816528c-3b36-4385-ae98-8ae0f2364e11"
      },
      "source": [
        "mydataraw.isna().sum()"
      ],
      "execution_count": 19,
      "outputs": [
        {
          "output_type": "execute_result",
          "data": {
            "text/plain": [
              "DATE     0\n",
              "WTI      1\n",
              "BRENT    2\n",
              "INR      4\n",
              "NIFTY    3\n",
              "dtype: int64"
            ]
          },
          "metadata": {
            "tags": []
          },
          "execution_count": 19
        }
      ]
    },
    {
      "cell_type": "code",
      "metadata": {
        "id": "KXMhqq4UMnyJ",
        "colab_type": "code",
        "colab": {
          "base_uri": "https://localhost:8080/",
          "height": 349
        },
        "outputId": "7fa77829-466d-4960-aee1-75c12c0ccdb3"
      },
      "source": [
        "mydataraw.plot(figsize = (12,6), title = \"OIL Prive, INR, NIFTY\")\n",
        "plt.show()"
      ],
      "execution_count": 20,
      "outputs": [
        {
          "output_type": "display_data",
          "data": {
            "image/png": "[encoded data removed]",
            "text/plain": [
              "<Figure size 864x432 with 1 Axes>"
            ]
          },
          "metadata": {
            "tags": []
          }
        }
      ]
    },
    {
      "cell_type": "code",
      "metadata": {
        "id": "pgEGvIIAM6-D",
        "colab_type": "code",
        "colab": {
          "base_uri": "https://localhost:8080/",
          "height": 349
        },
        "outputId": "667691cc-012c-4ba9-ccb5-9363cbf81e2f"
      },
      "source": [
        "mydataraw1.plot(figsize = (12,6), title = \"OIL Prive, INR, NIFTY\")\n",
        "\n",
        "plt.show()"
      ],
      "execution_count": 21,
      "outputs": [
        {
          "output_type": "display_data",
          "data": {
            "image/png": "[encoded data removed]",
            "text/plain": [
              "<Figure size 864x432 with 1 Axes>"
            ]
          },
          "metadata": {
            "tags": []
          }
        }
      ]
    },
    {
      "cell_type": "code",
      "metadata": {
        "id": "TtyIRMOPVKAV",
        "colab_type": "code",
        "colab": {}
      },
      "source": [
        "import pandas as pd\n",
        "import numpy as np\n"
      ],
      "execution_count": null,
      "outputs": []
    },
    {
      "cell_type": "code",
      "metadata": {
        "id": "cLNtPweBVUoC",
        "colab_type": "code",
        "colab": {
          "base_uri": "https://localhost:8080/",
          "height": 296
        },
        "outputId": "93da9e63-1b9e-4ff7-cd79-55a86d2e89e8"
      },
      "source": [
        "mydataraw1.describe()"
      ],
      "execution_count": null,
      "outputs": [
        {
          "output_type": "execute_result",
          "data": {
            "text/html": [
              "<div>\n",
              "<style scoped>\n",
              "    .dataframe tbody tr th:only-of-type {\n",
              "        vertical-align: middle;\n",
              "    }\n",
              "\n",
              "    .dataframe tbody tr th {\n",
              "        vertical-align: top;\n",
              "    }\n",
              "\n",
              "    .dataframe thead th {\n",
              "        text-align: right;\n",
              "    }\n",
              "</style>\n",
              "<table border=\"1\" class=\"dataframe\">\n",
              "  <thead>\n",
              "    <tr style=\"text-align: right;\">\n",
              "      <th></th>\n",
              "      <th>WTI</th>\n",
              "      <th>BRENT</th>\n",
              "      <th>INR</th>\n",
              "      <th>NIFTY</th>\n",
              "    </tr>\n",
              "  </thead>\n",
              "  <tbody>\n",
              "    <tr>\n",
              "      <th>count</th>\n",
              "      <td>361.000000</td>\n",
              "      <td>361.000000</td>\n",
              "      <td>361.000000</td>\n",
              "      <td>361.000000</td>\n",
              "    </tr>\n",
              "    <tr>\n",
              "      <th>mean</th>\n",
              "      <td>47.772244</td>\n",
              "      <td>49.207341</td>\n",
              "      <td>96.245983</td>\n",
              "      <td>0.193324</td>\n",
              "    </tr>\n",
              "    <tr>\n",
              "      <th>std</th>\n",
              "      <td>29.185056</td>\n",
              "      <td>32.816631</td>\n",
              "      <td>28.148450</td>\n",
              "      <td>1.882982</td>\n",
              "    </tr>\n",
              "    <tr>\n",
              "      <th>min</th>\n",
              "      <td>11.350000</td>\n",
              "      <td>9.820000</td>\n",
              "      <td>35.600000</td>\n",
              "      <td>-6.180000</td>\n",
              "    </tr>\n",
              "    <tr>\n",
              "      <th>25%</th>\n",
              "      <td>21.300000</td>\n",
              "      <td>19.740000</td>\n",
              "      <td>75.500000</td>\n",
              "      <td>-0.760000</td>\n",
              "    </tr>\n",
              "    <tr>\n",
              "      <th>50%</th>\n",
              "      <td>40.780000</td>\n",
              "      <td>39.950000</td>\n",
              "      <td>95.100000</td>\n",
              "      <td>0.193324</td>\n",
              "    </tr>\n",
              "    <tr>\n",
              "      <th>75%</th>\n",
              "      <td>68.060000</td>\n",
              "      <td>70.760000</td>\n",
              "      <td>113.800000</td>\n",
              "      <td>1.080000</td>\n",
              "    </tr>\n",
              "    <tr>\n",
              "      <th>max</th>\n",
              "      <td>133.880000</td>\n",
              "      <td>132.720000</td>\n",
              "      <td>154.300000</td>\n",
              "      <td>17.740000</td>\n",
              "    </tr>\n",
              "  </tbody>\n",
              "</table>\n",
              "</div>"
            ],
            "text/plain": [
              "              WTI       BRENT         INR       NIFTY\n",
              "count  361.000000  361.000000  361.000000  361.000000\n",
              "mean    47.772244   49.207341   96.245983    0.193324\n",
              "std     29.185056   32.816631   28.148450    1.882982\n",
              "min     11.350000    9.820000   35.600000   -6.180000\n",
              "25%     21.300000   19.740000   75.500000   -0.760000\n",
              "50%     40.780000   39.950000   95.100000    0.193324\n",
              "75%     68.060000   70.760000  113.800000    1.080000\n",
              "max    133.880000  132.720000  154.300000   17.740000"
            ]
          },
          "metadata": {
            "tags": []
          },
          "execution_count": 207
        }
      ]
    },
    {
      "cell_type": "code",
      "metadata": {
        "id": "1A4E1b92VUCA",
        "colab_type": "code",
        "colab": {
          "base_uri": "https://localhost:8080/",
          "height": 195
        },
        "outputId": "f2c1734f-ce53-4962-fcc0-9b5a6d122efc"
      },
      "source": [
        "mydataraw1.head()"
      ],
      "execution_count": 25,
      "outputs": [
        {
          "output_type": "execute_result",
          "data": {
            "text/html": [
              "<div>\n",
              "<style scoped>\n",
              "    .dataframe tbody tr th:only-of-type {\n",
              "        vertical-align: middle;\n",
              "    }\n",
              "\n",
              "    .dataframe tbody tr th {\n",
              "        vertical-align: top;\n",
              "    }\n",
              "\n",
              "    .dataframe thead th {\n",
              "        text-align: right;\n",
              "    }\n",
              "</style>\n",
              "<table border=\"1\" class=\"dataframe\">\n",
              "  <thead>\n",
              "    <tr style=\"text-align: right;\">\n",
              "      <th></th>\n",
              "      <th>DATE</th>\n",
              "      <th>WTI</th>\n",
              "      <th>BRENT</th>\n",
              "      <th>INR</th>\n",
              "      <th>NIFTY</th>\n",
              "    </tr>\n",
              "  </thead>\n",
              "  <tbody>\n",
              "    <tr>\n",
              "      <th>0</th>\n",
              "      <td>01-01-1990</td>\n",
              "      <td>22.86</td>\n",
              "      <td>21.25</td>\n",
              "      <td>35.6</td>\n",
              "      <td>0.44</td>\n",
              "    </tr>\n",
              "    <tr>\n",
              "      <th>1</th>\n",
              "      <td>02-01-1990</td>\n",
              "      <td>22.11</td>\n",
              "      <td>19.81</td>\n",
              "      <td>35.6</td>\n",
              "      <td>2.45</td>\n",
              "    </tr>\n",
              "    <tr>\n",
              "      <th>2</th>\n",
              "      <td>03-01-1990</td>\n",
              "      <td>22.11</td>\n",
              "      <td>18.39</td>\n",
              "      <td>35.9</td>\n",
              "      <td>-0.28</td>\n",
              "    </tr>\n",
              "    <tr>\n",
              "      <th>3</th>\n",
              "      <td>04-01-1990</td>\n",
              "      <td>18.43</td>\n",
              "      <td>16.61</td>\n",
              "      <td>36.3</td>\n",
              "      <td>-6.18</td>\n",
              "    </tr>\n",
              "    <tr>\n",
              "      <th>4</th>\n",
              "      <td>05-01-1990</td>\n",
              "      <td>18.20</td>\n",
              "      <td>16.35</td>\n",
              "      <td>36.3</td>\n",
              "      <td>-1.62</td>\n",
              "    </tr>\n",
              "  </tbody>\n",
              "</table>\n",
              "</div>"
            ],
            "text/plain": [
              "         DATE    WTI  BRENT   INR  NIFTY\n",
              "0  01-01-1990  22.86  21.25  35.6   0.44\n",
              "1  02-01-1990  22.11  19.81  35.6   2.45\n",
              "2  03-01-1990  22.11  18.39  35.9  -0.28\n",
              "3  04-01-1990  18.43  16.61  36.3  -6.18\n",
              "4  05-01-1990  18.20  16.35  36.3  -1.62"
            ]
          },
          "metadata": {
            "tags": []
          },
          "execution_count": 25
        }
      ]
    },
    {
      "cell_type": "code",
      "metadata": {
        "id": "VatXK7NGVlVY",
        "colab_type": "code",
        "colab": {
          "base_uri": "https://localhost:8080/",
          "height": 105
        },
        "outputId": "51ef0fcc-cf1d-45f1-d8a8-b941cc82abd4"
      },
      "source": [
        "mydataraw1.DATE.describe()"
      ],
      "execution_count": null,
      "outputs": [
        {
          "output_type": "execute_result",
          "data": {
            "text/plain": [
              "count            361\n",
              "unique           361\n",
              "top       12-01-2014\n",
              "freq               1\n",
              "Name: DATE, dtype: object"
            ]
          },
          "metadata": {
            "tags": []
          },
          "execution_count": 209
        }
      ]
    },
    {
      "cell_type": "code",
      "metadata": {
        "id": "AcEaybjxVs6Q",
        "colab_type": "code",
        "colab": {}
      },
      "source": [
        "mydatats = pd.read_csv(\"oilpriceindex.csv\", na_values=[\"null\"], index_col='DATE', parse_dates= True, infer_datetime_format= True)"
      ],
      "execution_count": 65,
      "outputs": []
    },
    {
      "cell_type": "code",
      "metadata": {
        "id": "c20JRuUqYNck",
        "colab_type": "code",
        "colab": {
          "base_uri": "https://localhost:8080/",
          "height": 225
        },
        "outputId": "704c1194-047a-4f09-d413-e48b2b7f8893"
      },
      "source": [
        "mydatats.head()"
      ],
      "execution_count": 66,
      "outputs": [
        {
          "output_type": "execute_result",
          "data": {
            "text/html": [
              "<div>\n",
              "<style scoped>\n",
              "    .dataframe tbody tr th:only-of-type {\n",
              "        vertical-align: middle;\n",
              "    }\n",
              "\n",
              "    .dataframe tbody tr th {\n",
              "        vertical-align: top;\n",
              "    }\n",
              "\n",
              "    .dataframe thead th {\n",
              "        text-align: right;\n",
              "    }\n",
              "</style>\n",
              "<table border=\"1\" class=\"dataframe\">\n",
              "  <thead>\n",
              "    <tr style=\"text-align: right;\">\n",
              "      <th></th>\n",
              "      <th>WTI</th>\n",
              "      <th>BRENT</th>\n",
              "      <th>INR</th>\n",
              "      <th>NIFTY</th>\n",
              "    </tr>\n",
              "    <tr>\n",
              "      <th>DATE</th>\n",
              "      <th></th>\n",
              "      <th></th>\n",
              "      <th></th>\n",
              "      <th></th>\n",
              "    </tr>\n",
              "  </thead>\n",
              "  <tbody>\n",
              "    <tr>\n",
              "      <th>1990-01-01</th>\n",
              "      <td>22.86</td>\n",
              "      <td>21.25</td>\n",
              "      <td>35.6</td>\n",
              "      <td>0.44</td>\n",
              "    </tr>\n",
              "    <tr>\n",
              "      <th>1990-02-01</th>\n",
              "      <td>22.11</td>\n",
              "      <td>19.81</td>\n",
              "      <td>35.6</td>\n",
              "      <td>2.45</td>\n",
              "    </tr>\n",
              "    <tr>\n",
              "      <th>1990-03-01</th>\n",
              "      <td>NaN</td>\n",
              "      <td>18.39</td>\n",
              "      <td>35.9</td>\n",
              "      <td>-0.28</td>\n",
              "    </tr>\n",
              "    <tr>\n",
              "      <th>1990-04-01</th>\n",
              "      <td>18.43</td>\n",
              "      <td>16.61</td>\n",
              "      <td>36.3</td>\n",
              "      <td>-6.18</td>\n",
              "    </tr>\n",
              "    <tr>\n",
              "      <th>1990-05-01</th>\n",
              "      <td>18.20</td>\n",
              "      <td>16.35</td>\n",
              "      <td>36.3</td>\n",
              "      <td>-1.62</td>\n",
              "    </tr>\n",
              "  </tbody>\n",
              "</table>\n",
              "</div>"
            ],
            "text/plain": [
              "              WTI  BRENT   INR  NIFTY\n",
              "DATE                                 \n",
              "1990-01-01  22.86  21.25  35.6   0.44\n",
              "1990-02-01  22.11  19.81  35.6   2.45\n",
              "1990-03-01    NaN  18.39  35.9  -0.28\n",
              "1990-04-01  18.43  16.61  36.3  -6.18\n",
              "1990-05-01  18.20  16.35  36.3  -1.62"
            ]
          },
          "metadata": {
            "tags": []
          },
          "execution_count": 66
        }
      ]
    },
    {
      "cell_type": "code",
      "metadata": {
        "id": "t27AMkbk-Kv4",
        "colab_type": "code",
        "colab": {}
      },
      "source": [
        "mydatats.WTI = mydatats.WTI.fillna(method='bfill')"
      ],
      "execution_count": 67,
      "outputs": []
    },
    {
      "cell_type": "code",
      "metadata": {
        "id": "tsiYEOUe-W0u",
        "colab_type": "code",
        "colab": {
          "base_uri": "https://localhost:8080/",
          "height": 101
        },
        "outputId": "75843713-fc36-46e9-d240-3d838a032371"
      },
      "source": [
        "mydatats.isna().sum()"
      ],
      "execution_count": 68,
      "outputs": [
        {
          "output_type": "execute_result",
          "data": {
            "text/plain": [
              "WTI      0\n",
              "BRENT    2\n",
              "INR      4\n",
              "NIFTY    3\n",
              "dtype: int64"
            ]
          },
          "metadata": {
            "tags": []
          },
          "execution_count": 68
        }
      ]
    },
    {
      "cell_type": "code",
      "metadata": {
        "id": "InDpVXYBvau1",
        "colab_type": "code",
        "colab": {}
      },
      "source": [
        "mydatats[\"WTI_pct\"] = mydatats.WTI.pct_change(1)*100\n",
        "mydatats[\"WTI_sqr\"] = mydatats.WTI_pct.mul(mydatats.WTI_pct)"
      ],
      "execution_count": 69,
      "outputs": []
    },
    {
      "cell_type": "code",
      "metadata": {
        "id": "CmJN2MkWwVd8",
        "colab_type": "code",
        "colab": {
          "base_uri": "https://localhost:8080/",
          "height": 283
        },
        "outputId": "f7c4c9c1-d320-4c06-a368-78741d27c628"
      },
      "source": [
        "plt.subplot(2, 1, 1)\n",
        "mydatats.WTI_pct.plot(figsize = (12,4))\n",
        "plt.title(\"WTI in PCT\", size=15)\n",
        "\n",
        "plt.subplot(2, 1, 2)\n",
        "mydatats.WTI_sqr.plot(figsize = (12,4))\n",
        "plt.title(\"WTI Square\", size=15)\n",
        "plt.tight_layout"
      ],
      "execution_count": 70,
      "outputs": [
        {
          "output_type": "execute_result",
          "data": {
            "text/plain": [
              "<function matplotlib.pyplot.tight_layout>"
            ]
          },
          "metadata": {
            "tags": []
          },
          "execution_count": 70
        },
        {
          "output_type": "display_data",
          "data": {
            "image/png": "[encoded data removed]",
            "text/plain": [
              "<Figure size 864x288 with 2 Axes>"
            ]
          },
          "metadata": {
            "tags": []
          }
        }
      ]
    },
    {
      "cell_type": "code",
      "metadata": {
        "id": "4NtlmBfb2LN3",
        "colab_type": "code",
        "colab": {}
      },
      "source": [
        "import matplotlib.pyplot as plt\n",
        "from matplotlib.pyplot import figure\n",
        "import statsmodels.graphics.tsaplots as sgt\n",
        "import statsmodels.tsa.stattools as sts \n",
        "import statsmodels.api as sm\n",
        "from statsmodels.tsa.seasonal import  seasonal_decompose\n",
        "import seaborn as sns"
      ],
      "execution_count": 5,
      "outputs": []
    },
    {
      "cell_type": "code",
      "metadata": {
        "id": "ORqqxs692OL1",
        "colab_type": "code",
        "colab": {
          "base_uri": "https://localhost:8080/",
          "height": 284
        },
        "outputId": "a72bf34a-9c98-4078-b573-b46fd4dc773f"
      },
      "source": [
        "sgt.plot_pacf(mydatats.WTI_pct[1:], lags = 40, alpha=0.05, zero=False, method='ols')\n",
        "plt.show()"
      ],
      "execution_count": 35,
      "outputs": [
        {
          "output_type": "display_data",
          "data": {
            "image/png": "[encoded data removed]",
            "text/plain": [
              "<Figure size 432x288 with 1 Axes>"
            ]
          },
          "metadata": {
            "tags": []
          }
        }
      ]
    },
    {
      "cell_type": "code",
      "metadata": {
        "id": "wc_5BwgO2oLa",
        "colab_type": "code",
        "colab": {}
      },
      "source": [
        "sgt.plot_pacf(mydatats.WTI_pct[1:], lags = 40,\\\n",
        "              alpha=0.05,\\\n",
        "              zero=False,\\\n",
        "              method='ols')\n",
        "plt.show()"
      ],
      "execution_count": null,
      "outputs": []
    },
    {
      "cell_type": "code",
      "metadata": {
        "id": "KE3Mz47r2LWa",
        "colab_type": "code",
        "colab": {
          "base_uri": "https://localhost:8080/",
          "height": 284
        },
        "outputId": "cd39b8d9-9718-4623-9c2d-710e11d0136f"
      },
      "source": [
        "sgt.plot_pacf(mydatats.WTI_sqr[1:], lags = 40,\\\n",
        "              alpha=0.05,\\\n",
        "              zero=False,\\\n",
        "              method='ols')\n",
        "plt.show()"
      ],
      "execution_count": 36,
      "outputs": [
        {
          "output_type": "display_data",
          "data": {
            "image/png": "[encoded data removed]",
            "text/plain": [
              "<Figure size 432x288 with 1 Axes>"
            ]
          },
          "metadata": {
            "tags": []
          }
        }
      ]
    },
    {
      "cell_type": "code",
      "metadata": {
        "id": "_O1GX5kv2Lux",
        "colab_type": "code",
        "colab": {
          "base_uri": "https://localhost:8080/",
          "height": 306
        },
        "outputId": "8d74c985-6365-46be-8fe9-bff812dfe129"
      },
      "source": [
        "# ARCH(p)\n",
        "!pip install arch "
      ],
      "execution_count": 37,
      "outputs": [
        {
          "output_type": "stream",
          "text": [
            "Collecting arch\n",
            "\u001b[?25l  Downloading https://files.pythonhosted.org/packages/7f/5c/ef80e96f2cdc6c2d293b7e4688888a4428963c966fbb0c749c9078e68bb6/arch-4.15-cp36-cp36m-manylinux1_x86_64.whl (790kB)\n",
            "\u001b[K     |████████████████████████████████| 798kB 2.7MB/s \n",
            "\u001b[?25hRequirement already satisfied: pandas>=0.23 in /usr/local/lib/python3.6/dist-packages (from arch) (1.0.5)\n",
            "Requirement already satisfied: cython>=0.29.14 in /usr/local/lib/python3.6/dist-packages (from arch) (0.29.21)\n",
            "Requirement already satisfied: numpy>=1.14 in /usr/local/lib/python3.6/dist-packages (from arch) (1.18.5)\n",
            "Requirement already satisfied: statsmodels>=0.9 in /usr/local/lib/python3.6/dist-packages (from arch) (0.10.2)\n",
            "Requirement already satisfied: scipy>=1.0.1 in /usr/local/lib/python3.6/dist-packages (from arch) (1.4.1)\n",
            "Collecting property-cached>=1.6.3\n",
            "  Downloading https://files.pythonhosted.org/packages/5c/6c/94d8e520b20a2502e508e1c558f338061cf409cbee78fd6a3a5c6ae812bd/property_cached-1.6.4-py2.py3-none-any.whl\n",
            "Requirement already satisfied: python-dateutil>=2.6.1 in /usr/local/lib/python3.6/dist-packages (from pandas>=0.23->arch) (2.8.1)\n",
            "Requirement already satisfied: pytz>=2017.2 in /usr/local/lib/python3.6/dist-packages (from pandas>=0.23->arch) (2018.9)\n",
            "Requirement already satisfied: patsy>=0.4.0 in /usr/local/lib/python3.6/dist-packages (from statsmodels>=0.9->arch) (0.5.1)\n",
            "Requirement already satisfied: six>=1.5 in /usr/local/lib/python3.6/dist-packages (from python-dateutil>=2.6.1->pandas>=0.23->arch) (1.15.0)\n",
            "Installing collected packages: property-cached, arch\n",
            "Successfully installed arch-4.15 property-cached-1.6.4\n"
          ],
          "name": "stdout"
        }
      ]
    },
    {
      "cell_type": "code",
      "metadata": {
        "id": "YOMwNAXv3NWt",
        "colab_type": "code",
        "colab": {
          "base_uri": "https://localhost:8080/",
          "height": 706
        },
        "outputId": "c477edbf-f0d1-47fa-b1c8-b429850e948b"
      },
      "source": [
        "from arch import arch_model\n",
        "\n",
        "model_arch = arch_model(mydatats.WTI_pct[1:])\n",
        "estimates_model_arch = model_arch.fit()\n",
        "print(estimates_model_arch.summary())"
      ],
      "execution_count": 41,
      "outputs": [
        {
          "output_type": "stream",
          "text": [
            "Iteration:      1,   Func. Count:      6,   Neg. LLF: 1258.5517650265342\n",
            "Iteration:      2,   Func. Count:     13,   Neg. LLF: 1258.1024879333145\n",
            "Iteration:      3,   Func. Count:     20,   Neg. LLF: 1257.8622593459713\n",
            "Iteration:      4,   Func. Count:     27,   Neg. LLF: 1257.6671656254728\n",
            "Iteration:      5,   Func. Count:     34,   Neg. LLF: 1257.65764250495\n",
            "Iteration:      6,   Func. Count:     41,   Neg. LLF: 1257.632890414631\n",
            "Iteration:      7,   Func. Count:     47,   Neg. LLF: 1257.6316197574818\n",
            "Iteration:      8,   Func. Count:     53,   Neg. LLF: 1257.630858842122\n",
            "Iteration:      9,   Func. Count:     59,   Neg. LLF: 1257.6303702093746\n",
            "Iteration:     10,   Func. Count:     65,   Neg. LLF: 1257.6303331879035\n",
            "Iteration:     11,   Func. Count:     71,   Neg. LLF: 1257.6303317719705\n",
            "Optimization terminated successfully.    (Exit mode 0)\n",
            "            Current function value: 1257.6303317719155\n",
            "            Iterations: 11\n",
            "            Function evaluations: 71\n",
            "            Gradient evaluations: 11\n",
            "                     Constant Mean - GARCH Model Results                      \n",
            "==============================================================================\n",
            "Dep. Variable:                WTI_pct   R-squared:                      -0.000\n",
            "Mean Model:             Constant Mean   Adj. R-squared:                 -0.000\n",
            "Vol Model:                      GARCH   Log-Likelihood:               -1257.63\n",
            "Distribution:                  Normal   AIC:                           2523.26\n",
            "Method:            Maximum Likelihood   BIC:                           2538.81\n",
            "                                        No. Observations:                  360\n",
            "Date:                Sat, Sep 19 2020   Df Residuals:                      356\n",
            "Time:                        05:39:19   Df Model:                            4\n",
            "                                 Mean Model                                \n",
            "===========================================================================\n",
            "                 coef    std err          t      P>|t|     95.0% Conf. Int.\n",
            "---------------------------------------------------------------------------\n",
            "mu             0.7165      0.400      1.792  7.320e-02 [-6.733e-02,  1.500]\n",
            "                             Volatility Model                             \n",
            "==========================================================================\n",
            "                 coef    std err          t      P>|t|    95.0% Conf. Int.\n",
            "--------------------------------------------------------------------------\n",
            "omega          7.6010      4.847      1.568      0.117   [ -1.899, 17.101]\n",
            "alpha[1]       0.1397  6.439e-02      2.170  3.003e-02 [1.350e-02,  0.266]\n",
            "beta[1]        0.7445      0.118      6.293  3.112e-10   [  0.513,  0.976]\n",
            "==========================================================================\n",
            "\n",
            "Covariance estimator: robust\n"
          ],
          "name": "stdout"
        }
      ]
    },
    {
      "cell_type": "code",
      "metadata": {
        "id": "NUm1jKDv2L33",
        "colab_type": "code",
        "colab": {
          "base_uri": "https://localhost:8080/",
          "height": 538
        },
        "outputId": "1bb0a8ae-6e9e-4832-9841-1597e733cd07"
      },
      "source": [
        "model_arch1 = arch_model(mydatats.WTI_pct[1:], mean=\"constant\", vol = \"ARCH\", p=1)\n",
        "estimates_model_arch1 = model_arch1.fit(update_freq = 5)\n",
        "print(estimates_model_arch1.summary())"
      ],
      "execution_count": 43,
      "outputs": [
        {
          "output_type": "stream",
          "text": [
            "Iteration:      5,   Func. Count:     29,   Neg. LLF: 1266.322135996878\n",
            "Iteration:     10,   Func. Count:     54,   Neg. LLF: 1266.2769270013182\n",
            "Optimization terminated successfully.    (Exit mode 0)\n",
            "            Current function value: 1266.2769270013418\n",
            "            Iterations: 10\n",
            "            Function evaluations: 54\n",
            "            Gradient evaluations: 10\n",
            "                      Constant Mean - ARCH Model Results                      \n",
            "==============================================================================\n",
            "Dep. Variable:                WTI_pct   R-squared:                      -0.001\n",
            "Mean Model:             Constant Mean   Adj. R-squared:                 -0.001\n",
            "Vol Model:                       ARCH   Log-Likelihood:               -1266.28\n",
            "Distribution:                  Normal   AIC:                           2538.55\n",
            "Method:            Maximum Likelihood   BIC:                           2550.21\n",
            "                                        No. Observations:                  360\n",
            "Date:                Sat, Sep 19 2020   Df Residuals:                      357\n",
            "Time:                        05:46:00   Df Model:                            3\n",
            "                               Mean Model                               \n",
            "========================================================================\n",
            "                 coef    std err          t      P>|t|  95.0% Conf. Int.\n",
            "------------------------------------------------------------------------\n",
            "mu             0.9374      0.427      2.197  2.800e-02 [  0.101,  1.774]\n",
            "                             Volatility Model                             \n",
            "==========================================================================\n",
            "                 coef    std err          t      P>|t|    95.0% Conf. Int.\n",
            "--------------------------------------------------------------------------\n",
            "omega         51.6058      5.732      9.004  2.182e-19   [ 40.372, 62.840]\n",
            "alpha[1]       0.2804      0.123      2.283  2.246e-02 [3.962e-02,  0.521]\n",
            "==========================================================================\n",
            "\n",
            "Covariance estimator: robust\n"
          ],
          "name": "stdout"
        }
      ]
    },
    {
      "cell_type": "code",
      "metadata": {
        "id": "LvGqzkjl2MBi",
        "colab_type": "code",
        "colab": {
          "base_uri": "https://localhost:8080/",
          "height": 437
        },
        "outputId": "aaeb937d-5576-4178-c727-ffa269ba1bf2"
      },
      "source": [
        "model_arch2 = arch_model(mydatats.WTI_pct[1:], mean=\"zero\", vol = \"ARCH\", p=1)\n",
        "estimates_model_arch2 = model_arch2.fit(update_freq = 5)\n",
        "print(estimates_model_arch2.summary())"
      ],
      "execution_count": 44,
      "outputs": [
        {
          "output_type": "stream",
          "text": [
            "Iteration:      5,   Func. Count:     23,   Neg. LLF: 1268.6375242413455\n",
            "Optimization terminated successfully.    (Exit mode 0)\n",
            "            Current function value: 1268.6375165773952\n",
            "            Iterations: 6\n",
            "            Function evaluations: 27\n",
            "            Gradient evaluations: 6\n",
            "                        Zero Mean - ARCH Model Results                        \n",
            "==============================================================================\n",
            "Dep. Variable:                WTI_pct   R-squared:                       0.000\n",
            "Mean Model:                 Zero Mean   Adj. R-squared:                  0.003\n",
            "Vol Model:                       ARCH   Log-Likelihood:               -1268.64\n",
            "Distribution:                  Normal   AIC:                           2541.28\n",
            "Method:            Maximum Likelihood   BIC:                           2549.05\n",
            "                                        No. Observations:                  360\n",
            "Date:                Sat, Sep 19 2020   Df Residuals:                      358\n",
            "Time:                        05:46:20   Df Model:                            2\n",
            "                             Volatility Model                             \n",
            "==========================================================================\n",
            "                 coef    std err          t      P>|t|    95.0% Conf. Int.\n",
            "--------------------------------------------------------------------------\n",
            "omega         53.6693      5.667      9.471  2.765e-21   [ 42.563, 64.775]\n",
            "alpha[1]       0.2498      0.121      2.069  3.857e-02 [1.314e-02,  0.487]\n",
            "==========================================================================\n",
            "\n",
            "Covariance estimator: robust\n"
          ],
          "name": "stdout"
        }
      ]
    },
    {
      "cell_type": "markdown",
      "metadata": {
        "id": "M1PNkd-42MKM",
        "colab_type": "text"
      },
      "source": [
        "**Higher Order ARCH Model**"
      ]
    },
    {
      "cell_type": "code",
      "metadata": {
        "id": "6kKCAM_P2MSA",
        "colab_type": "code",
        "colab": {
          "base_uri": "https://localhost:8080/",
          "height": 554
        },
        "outputId": "5d7e8d90-8c59-4b10-80ee-f19a4a83ff12"
      },
      "source": [
        "model_arch3 = arch_model(mydatats.WTI_pct[1:], mean=\"constant\", vol = \"ARCH\", p=2)\n",
        "estimates_model_arch3 = model_arch3.fit(update_freq = 5)\n",
        "print(estimates_model_arch3.summary())"
      ],
      "execution_count": 45,
      "outputs": [
        {
          "output_type": "stream",
          "text": [
            "Iteration:      5,   Func. Count:     35,   Neg. LLF: 1264.492321196396\n",
            "Iteration:     10,   Func. Count:     66,   Neg. LLF: 1264.4877449950436\n",
            "Optimization terminated successfully.    (Exit mode 0)\n",
            "            Current function value: 1264.4877433447234\n",
            "            Iterations: 11\n",
            "            Function evaluations: 72\n",
            "            Gradient evaluations: 11\n",
            "                      Constant Mean - ARCH Model Results                      \n",
            "==============================================================================\n",
            "Dep. Variable:                WTI_pct   R-squared:                      -0.001\n",
            "Mean Model:             Constant Mean   Adj. R-squared:                 -0.001\n",
            "Vol Model:                       ARCH   Log-Likelihood:               -1264.49\n",
            "Distribution:                  Normal   AIC:                           2536.98\n",
            "Method:            Maximum Likelihood   BIC:                           2552.52\n",
            "                                        No. Observations:                  360\n",
            "Date:                Sat, Sep 19 2020   Df Residuals:                      356\n",
            "Time:                        05:48:10   Df Model:                            4\n",
            "                                Mean Model                                \n",
            "==========================================================================\n",
            "                 coef    std err          t      P>|t|    95.0% Conf. Int.\n",
            "--------------------------------------------------------------------------\n",
            "mu             0.8508      0.423      2.012  4.426e-02 [2.184e-02,  1.680]\n",
            "                              Volatility Model                             \n",
            "===========================================================================\n",
            "                 coef    std err          t      P>|t|     95.0% Conf. Int.\n",
            "---------------------------------------------------------------------------\n",
            "omega         46.3965      5.876      7.896  2.873e-15    [ 34.880, 57.913]\n",
            "alpha[1]       0.2318      0.101      2.285  2.229e-02  [3.302e-02,  0.431]\n",
            "alpha[2]       0.1204  9.148e-02      1.317      0.188 [-5.885e-02,  0.300]\n",
            "===========================================================================\n",
            "\n",
            "Covariance estimator: robust\n"
          ],
          "name": "stdout"
        }
      ]
    },
    {
      "cell_type": "code",
      "metadata": {
        "id": "oscbSIos2Map",
        "colab_type": "code",
        "colab": {
          "base_uri": "https://localhost:8080/",
          "height": 605
        },
        "outputId": "59cab8dd-9679-40b0-dd8f-cfc510eaa911"
      },
      "source": [
        "model_arch4 = arch_model(mydatats.WTI_pct[1:], mean=\"constant\", vol = \"ARCH\", p=4)\n",
        "estimates_model_arch4 = model_arch4.fit(update_freq = 5)\n",
        "print(estimates_model_arch4.summary())"
      ],
      "execution_count": 46,
      "outputs": [
        {
          "output_type": "stream",
          "text": [
            "Iteration:      5,   Func. Count:     47,   Neg. LLF: 1258.5591302135804\n",
            "Iteration:     10,   Func. Count:     90,   Neg. LLF: 1258.1601647233297\n",
            "Iteration:     15,   Func. Count:    130,   Neg. LLF: 1258.123947550643\n",
            "Optimization terminated successfully.    (Exit mode 0)\n",
            "            Current function value: 1258.1239475506218\n",
            "            Iterations: 15\n",
            "            Function evaluations: 130\n",
            "            Gradient evaluations: 15\n",
            "                      Constant Mean - ARCH Model Results                      \n",
            "==============================================================================\n",
            "Dep. Variable:                WTI_pct   R-squared:                      -0.001\n",
            "Mean Model:             Constant Mean   Adj. R-squared:                 -0.001\n",
            "Vol Model:                       ARCH   Log-Likelihood:               -1258.12\n",
            "Distribution:                  Normal   AIC:                           2528.25\n",
            "Method:            Maximum Likelihood   BIC:                           2551.56\n",
            "                                        No. Observations:                  360\n",
            "Date:                Sat, Sep 19 2020   Df Residuals:                      354\n",
            "Time:                        05:50:22   Df Model:                            6\n",
            "                                 Mean Model                                \n",
            "===========================================================================\n",
            "                 coef    std err          t      P>|t|     95.0% Conf. Int.\n",
            "---------------------------------------------------------------------------\n",
            "mu             0.8046      0.423      1.904  5.688e-02 [-2.354e-02,  1.633]\n",
            "                              Volatility Model                             \n",
            "===========================================================================\n",
            "                 coef    std err          t      P>|t|     95.0% Conf. Int.\n",
            "---------------------------------------------------------------------------\n",
            "omega         37.3492      5.903      6.327  2.499e-10    [ 25.779, 48.919]\n",
            "alpha[1]       0.1755  5.882e-02      2.983  2.857e-03  [6.016e-02,  0.291]\n",
            "alpha[2]       0.1091  8.127e-02      1.342      0.179 [-5.019e-02,  0.268]\n",
            "alpha[3]       0.0239  6.787e-02      0.353      0.724    [ -0.109,  0.157]\n",
            "alpha[4]       0.1563      0.119      1.310      0.190 [-7.744e-02,  0.390]\n",
            "===========================================================================\n",
            "\n",
            "Covariance estimator: robust\n"
          ],
          "name": "stdout"
        }
      ]
    },
    {
      "cell_type": "markdown",
      "metadata": {
        "id": "S-gFlU_w2Mha",
        "colab_type": "text"
      },
      "source": [
        "**GARCH**"
      ]
    },
    {
      "cell_type": "code",
      "metadata": {
        "id": "j7-7JmvL2Mon",
        "colab_type": "code",
        "colab": {
          "base_uri": "https://localhost:8080/",
          "height": 554
        },
        "outputId": "4ce4ab74-9903-4654-daba-0be491cd4e50"
      },
      "source": [
        "model_garch_1_1 = arch_model(mydatats.WTI_pct[1:], mean=\"constant\", vol = \"GARCH\", p=1, q=1)\n",
        "estimates_model_garch_1_1 = model_garch_1_1.fit(update_freq = 5)\n",
        "print(estimates_model_garch_1_1.summary())"
      ],
      "execution_count": 47,
      "outputs": [
        {
          "output_type": "stream",
          "text": [
            "Iteration:      5,   Func. Count:     34,   Neg. LLF: 1257.65764250495\n",
            "Iteration:     10,   Func. Count:     65,   Neg. LLF: 1257.6303331879035\n",
            "Optimization terminated successfully.    (Exit mode 0)\n",
            "            Current function value: 1257.6303317719155\n",
            "            Iterations: 11\n",
            "            Function evaluations: 71\n",
            "            Gradient evaluations: 11\n",
            "                     Constant Mean - GARCH Model Results                      \n",
            "==============================================================================\n",
            "Dep. Variable:                WTI_pct   R-squared:                      -0.000\n",
            "Mean Model:             Constant Mean   Adj. R-squared:                 -0.000\n",
            "Vol Model:                      GARCH   Log-Likelihood:               -1257.63\n",
            "Distribution:                  Normal   AIC:                           2523.26\n",
            "Method:            Maximum Likelihood   BIC:                           2538.81\n",
            "                                        No. Observations:                  360\n",
            "Date:                Sat, Sep 19 2020   Df Residuals:                      356\n",
            "Time:                        05:51:43   Df Model:                            4\n",
            "                                 Mean Model                                \n",
            "===========================================================================\n",
            "                 coef    std err          t      P>|t|     95.0% Conf. Int.\n",
            "---------------------------------------------------------------------------\n",
            "mu             0.7165      0.400      1.792  7.320e-02 [-6.733e-02,  1.500]\n",
            "                             Volatility Model                             \n",
            "==========================================================================\n",
            "                 coef    std err          t      P>|t|    95.0% Conf. Int.\n",
            "--------------------------------------------------------------------------\n",
            "omega          7.6010      4.847      1.568      0.117   [ -1.899, 17.101]\n",
            "alpha[1]       0.1397  6.439e-02      2.170  3.003e-02 [1.350e-02,  0.266]\n",
            "beta[1]        0.7445      0.118      6.293  3.112e-10   [  0.513,  0.976]\n",
            "==========================================================================\n",
            "\n",
            "Covariance estimator: robust\n"
          ],
          "name": "stdout"
        }
      ]
    },
    {
      "cell_type": "markdown",
      "metadata": {
        "id": "fxNqvTEf601S",
        "colab_type": "text"
      },
      "source": [
        "alpha[1]: How current market return is sensitive to past realized return volatality \n",
        "\n",
        "beta[1]: The part of the return variance (squared return) vol spill over to current period(persistance of the volatility)\n",
        "\n"
      ]
    },
    {
      "cell_type": "code",
      "metadata": {
        "id": "Mz5SEt6X2Mvu",
        "colab_type": "code",
        "colab": {
          "base_uri": "https://localhost:8080/",
          "height": 554
        },
        "outputId": "54e564a4-b96a-4793-bfc9-5bfeb5ace352"
      },
      "source": [
        "model_garch_1_2 = arch_model(mydatats.WTI_pct[1:], \\\n",
        "                             mean=\"constant\",\\\n",
        "                             vol = \"GARCH\",\\\n",
        "                             p=1, q=2)\n",
        "estimates_model_garch_1_2 = model_garch_1_2.fit(update_freq = 10)\n",
        "print(estimates_model_garch_1_2.summary())"
      ],
      "execution_count": 71,
      "outputs": [
        {
          "output_type": "stream",
          "text": [
            "Iteration:     10,   Func. Count:     77,   Neg. LLF: 1255.3924149228878\n",
            "Optimization terminated successfully.    (Exit mode 0)\n",
            "            Current function value: 1255.3905386044817\n",
            "            Iterations: 13\n",
            "            Function evaluations: 98\n",
            "            Gradient evaluations: 13\n",
            "                     Constant Mean - GARCH Model Results                      \n",
            "==============================================================================\n",
            "Dep. Variable:                WTI_pct   R-squared:                      -0.001\n",
            "Mean Model:             Constant Mean   Adj. R-squared:                 -0.001\n",
            "Vol Model:                      GARCH   Log-Likelihood:               -1255.39\n",
            "Distribution:                  Normal   AIC:                           2520.78\n",
            "Method:            Maximum Likelihood   BIC:                           2540.21\n",
            "                                        No. Observations:                  360\n",
            "Date:                Sat, Sep 19 2020   Df Residuals:                      355\n",
            "Time:                        06:09:34   Df Model:                            5\n",
            "                                Mean Model                                \n",
            "==========================================================================\n",
            "                 coef    std err          t      P>|t|    95.0% Conf. Int.\n",
            "--------------------------------------------------------------------------\n",
            "mu             0.8404      0.402      2.093  3.639e-02 [5.323e-02,  1.628]\n",
            "                             Volatility Model                             \n",
            "==========================================================================\n",
            "                 coef    std err          t      P>|t|    95.0% Conf. Int.\n",
            "--------------------------------------------------------------------------\n",
            "omega         10.8786      5.153      2.111  3.475e-02   [  0.780, 20.978]\n",
            "alpha[1]       0.2184  7.814e-02      2.795  5.188e-03 [6.526e-02,  0.372]\n",
            "beta[1]        0.0000  7.690e-02      0.000      1.000   [ -0.151,  0.151]\n",
            "beta[2]        0.6171      0.122      5.047  4.480e-07   [  0.377,  0.857]\n",
            "==========================================================================\n",
            "\n",
            "Covariance estimator: robust\n"
          ],
          "name": "stdout"
        }
      ]
    },
    {
      "cell_type": "markdown",
      "metadata": {
        "id": "1BCHpc512M3A",
        "colab_type": "text"
      },
      "source": [
        "observer beta 1, t=0, p value is 1 \n",
        "\n",
        "this indicates perfect collinearity \n",
        "\n",
        "\n",
        "X1 = Income \n",
        "X2 = Wealth\n",
        "\n",
        "Condn : My main income comes from wealth \n",
        "\n",
        "X2 = Z score of X1 \n",
        "\n",
        "Hence there will be possibility of high multicollinearity \n",
        "\n",
        "Most of the cases ARCH 1(this can be bigger) and GARCH 1 1 model seem to be stronger than any other model \n",
        "\n",
        "\n"
      ]
    },
    {
      "cell_type": "code",
      "metadata": {
        "id": "uB2k6pK12M9q",
        "colab_type": "code",
        "colab": {
          "base_uri": "https://localhost:8080/",
          "height": 571
        },
        "outputId": "af89172a-e23b-4b60-c2e1-ebff690b564c"
      },
      "source": [
        "model_garch_1_3 = arch_model(mydatats.WTI_pct[1:], \\\n",
        "                             mean=\"constant\",\\\n",
        "                             vol = \"GARCH\",\\\n",
        "                             p=1, q=3)\n",
        "estimates_model_garch_1_3 = model_garch_1_3.fit(update_freq = 10)\n",
        "print(estimates_model_garch_1_3.summary())"
      ],
      "execution_count": 72,
      "outputs": [
        {
          "output_type": "stream",
          "text": [
            "Iteration:     10,   Func. Count:     86,   Neg. LLF: 1256.7749723649983\n",
            "Optimization terminated successfully.    (Exit mode 0)\n",
            "            Current function value: 1256.765615482614\n",
            "            Iterations: 15\n",
            "            Function evaluations: 127\n",
            "            Gradient evaluations: 15\n",
            "                     Constant Mean - GARCH Model Results                      \n",
            "==============================================================================\n",
            "Dep. Variable:                WTI_pct   R-squared:                      -0.000\n",
            "Mean Model:             Constant Mean   Adj. R-squared:                 -0.000\n",
            "Vol Model:                      GARCH   Log-Likelihood:               -1256.77\n",
            "Distribution:                  Normal   AIC:                           2525.53\n",
            "Method:            Maximum Likelihood   BIC:                           2548.85\n",
            "                                        No. Observations:                  360\n",
            "Date:                Sat, Sep 19 2020   Df Residuals:                      354\n",
            "Time:                        06:20:01   Df Model:                            6\n",
            "                                 Mean Model                                \n",
            "===========================================================================\n",
            "                 coef    std err          t      P>|t|     95.0% Conf. Int.\n",
            "---------------------------------------------------------------------------\n",
            "mu             0.7693      0.404      1.904  5.691e-02 [-2.261e-02,  1.561]\n",
            "                              Volatility Model                             \n",
            "===========================================================================\n",
            "                 coef    std err          t      P>|t|     95.0% Conf. Int.\n",
            "---------------------------------------------------------------------------\n",
            "omega         10.3884      9.015      1.152      0.249    [ -7.281, 28.058]\n",
            "alpha[1]       0.1838      0.124      1.482      0.138 [-5.923e-02,  0.427]\n",
            "beta[1]        0.3379      0.140      2.414  1.578e-02  [6.356e-02,  0.612]\n",
            "beta[2]    2.4158e-14      1.363  1.772e-14      1.000    [ -2.672,  2.672]\n",
            "beta[3]        0.3133      1.058      0.296      0.767    [ -1.761,  2.387]\n",
            "===========================================================================\n",
            "\n",
            "Covariance estimator: robust\n"
          ],
          "name": "stdout"
        }
      ]
    },
    {
      "cell_type": "code",
      "metadata": {
        "id": "td0VxarB9bFB",
        "colab_type": "code",
        "colab": {
          "base_uri": "https://localhost:8080/",
          "height": 588
        },
        "outputId": "51b69864-a846-424b-99e9-6555207dcd69"
      },
      "source": [
        "model_garch_2_3 = arch_model(mydatats.WTI_pct[1:], \\\n",
        "                             mean=\"constant\",\\\n",
        "                             vol = \"GARCH\",\\\n",
        "                             p=2, q=3)\n",
        "estimates_model_garch_2_3 = model_garch_2_3.fit(update_freq = 10)\n",
        "print(estimates_model_garch_2_3.summary())"
      ],
      "execution_count": 73,
      "outputs": [
        {
          "output_type": "stream",
          "text": [
            "Iteration:     10,   Func. Count:     97,   Neg. LLF: 1256.1287486878762\n",
            "Optimization terminated successfully.    (Exit mode 0)\n",
            "            Current function value: 1256.0566825134958\n",
            "            Iterations: 18\n",
            "            Function evaluations: 169\n",
            "            Gradient evaluations: 18\n",
            "                     Constant Mean - GARCH Model Results                      \n",
            "==============================================================================\n",
            "Dep. Variable:                WTI_pct   R-squared:                      -0.000\n",
            "Mean Model:             Constant Mean   Adj. R-squared:                 -0.000\n",
            "Vol Model:                      GARCH   Log-Likelihood:               -1256.06\n",
            "Distribution:                  Normal   AIC:                           2526.11\n",
            "Method:            Maximum Likelihood   BIC:                           2553.32\n",
            "                                        No. Observations:                  360\n",
            "Date:                Sat, Sep 19 2020   Df Residuals:                      353\n",
            "Time:                        06:20:38   Df Model:                            7\n",
            "                               Mean Model                               \n",
            "========================================================================\n",
            "                 coef    std err          t      P>|t|  95.0% Conf. Int.\n",
            "------------------------------------------------------------------------\n",
            "mu             0.6458      0.402      1.605      0.108 [ -0.143,  1.434]\n",
            "                              Volatility Model                             \n",
            "===========================================================================\n",
            "                 coef    std err          t      P>|t|     95.0% Conf. Int.\n",
            "---------------------------------------------------------------------------\n",
            "omega         14.5053      7.536      1.925  5.426e-02    [ -0.265, 29.276]\n",
            "alpha[1]       0.1481  7.702e-02      1.923  5.453e-02 [-2.877e-03,  0.299]\n",
            "alpha[2]       0.1585      0.160      0.990      0.322    [ -0.155,  0.472]\n",
            "beta[1]        0.0000      0.425      0.000      1.000    [ -0.833,  0.833]\n",
            "beta[2]    1.2508e-13      0.250  5.006e-13      1.000    [ -0.490,  0.490]\n",
            "beta[3]        0.4763      0.157      3.031  2.438e-03    [  0.168,  0.784]\n",
            "===========================================================================\n",
            "\n",
            "Covariance estimator: robust\n"
          ],
          "name": "stdout"
        }
      ]
    },
    {
      "cell_type": "markdown",
      "metadata": {
        "id": "7cxAbd-bBcDO",
        "colab_type": "text"
      },
      "source": [
        "There is no justification for moving to higher order models \n"
      ]
    },
    {
      "cell_type": "code",
      "metadata": {
        "id": "Z3qJGQvv9bSn",
        "colab_type": "code",
        "colab": {
          "base_uri": "https://localhost:8080/",
          "height": 521
        },
        "outputId": "d335ce10-1e4a-4715-ebd9-7c1cfa1c1d0b"
      },
      "source": [
        "# Hence the best model is 1 1 \n",
        "model_garch_1_1 = arch_model(mydatats.WTI_pct[1:], \\\n",
        "                             mean=\"constant\",\\\n",
        "                             vol = \"GARCH\",\\\n",
        "                             p=1, q=1)\n",
        "estimates_model_garch_1_1 = model_garch_1_1.fit(update_freq = 10)\n",
        "print(estimates_model_garch_1_1.summary())"
      ],
      "execution_count": 74,
      "outputs": [
        {
          "output_type": "stream",
          "text": [
            "Optimization terminated successfully.    (Exit mode 0)\n",
            "            Current function value: 1257.9977013981754\n",
            "            Iterations: 8\n",
            "            Function evaluations: 54\n",
            "            Gradient evaluations: 8\n",
            "                     Constant Mean - GARCH Model Results                      \n",
            "==============================================================================\n",
            "Dep. Variable:                WTI_pct   R-squared:                      -0.000\n",
            "Mean Model:             Constant Mean   Adj. R-squared:                 -0.000\n",
            "Vol Model:                      GARCH   Log-Likelihood:               -1258.00\n",
            "Distribution:                  Normal   AIC:                           2524.00\n",
            "Method:            Maximum Likelihood   BIC:                           2539.54\n",
            "                                        No. Observations:                  360\n",
            "Date:                Sat, Sep 19 2020   Df Residuals:                      356\n",
            "Time:                        06:22:32   Df Model:                            4\n",
            "                                 Mean Model                                \n",
            "===========================================================================\n",
            "                 coef    std err          t      P>|t|     95.0% Conf. Int.\n",
            "---------------------------------------------------------------------------\n",
            "mu             0.7082      0.397      1.783  7.465e-02 [-7.046e-02,  1.487]\n",
            "                             Volatility Model                             \n",
            "==========================================================================\n",
            "                 coef    std err          t      P>|t|    95.0% Conf. Int.\n",
            "--------------------------------------------------------------------------\n",
            "omega          7.1148      4.717      1.508      0.131   [ -2.130, 16.360]\n",
            "alpha[1]       0.1292  6.301e-02      2.051  4.025e-02 [5.749e-03,  0.253]\n",
            "beta[1]        0.7608      0.118      6.432  1.258e-10   [  0.529,  0.993]\n",
            "==========================================================================\n",
            "\n",
            "Covariance estimator: robust\n"
          ],
          "name": "stdout"
        }
      ]
    },
    {
      "cell_type": "code",
      "metadata": {
        "id": "OtZUrNZE9bbn",
        "colab_type": "code",
        "colab": {}
      },
      "source": [
        "mydatats.NIFTY = mydatats.NIFTY.fillna(method=\"bfill\")"
      ],
      "execution_count": 75,
      "outputs": []
    },
    {
      "cell_type": "code",
      "metadata": {
        "id": "09GGJaA0CCcJ",
        "colab_type": "code",
        "colab": {
          "base_uri": "https://localhost:8080/",
          "height": 134
        },
        "outputId": "50dbae31-ab8a-41dd-9956-b64a15561806"
      },
      "source": [
        "mydatats.isna().sum()"
      ],
      "execution_count": 76,
      "outputs": [
        {
          "output_type": "execute_result",
          "data": {
            "text/plain": [
              "WTI        0\n",
              "BRENT      2\n",
              "INR        4\n",
              "NIFTY      0\n",
              "WTI_pct    1\n",
              "WTI_sqr    1\n",
              "dtype: int64"
            ]
          },
          "metadata": {
            "tags": []
          },
          "execution_count": 76
        }
      ]
    },
    {
      "cell_type": "code",
      "metadata": {
        "id": "5-vBmTuD9bk1",
        "colab_type": "code",
        "colab": {
          "base_uri": "https://localhost:8080/",
          "height": 538
        },
        "outputId": "9e9591cb-f6bf-4ddc-f707-c248c0cf9029"
      },
      "source": [
        "# Hence the best model is 1 1 \n",
        "model_nif_garch_1_1 = arch_model(mydatats.NIFTY, \\\n",
        "                             mean=\"constant\",\\\n",
        "                             vol = \"GARCH\",\\\n",
        "                             p=1, q=1)\n",
        "estimates_model_nif_garch_1_1 = model_nif_garch_1_1.fit(update_freq = 10)\n",
        "print(estimates_model_nif_garch_1_1.summary())"
      ],
      "execution_count": 78,
      "outputs": [
        {
          "output_type": "stream",
          "text": [
            "Iteration:     10,   Func. Count:     70,   Neg. LLF: 701.7320881723028\n",
            "Optimization terminated successfully.    (Exit mode 0)\n",
            "            Current function value: 701.7317331898603\n",
            "            Iterations: 12\n",
            "            Function evaluations: 82\n",
            "            Gradient evaluations: 12\n",
            "                     Constant Mean - GARCH Model Results                      \n",
            "==============================================================================\n",
            "Dep. Variable:                  NIFTY   R-squared:                      -0.001\n",
            "Mean Model:             Constant Mean   Adj. R-squared:                 -0.001\n",
            "Vol Model:                      GARCH   Log-Likelihood:               -701.732\n",
            "Distribution:                  Normal   AIC:                           1411.46\n",
            "Method:            Maximum Likelihood   BIC:                           1427.02\n",
            "                                        No. Observations:                  361\n",
            "Date:                Sat, Sep 19 2020   Df Residuals:                      357\n",
            "Time:                        06:26:00   Df Model:                            4\n",
            "                                 Mean Model                                \n",
            "===========================================================================\n",
            "                 coef    std err          t      P>|t|     95.0% Conf. Int.\n",
            "---------------------------------------------------------------------------\n",
            "mu             0.1240  7.993e-02      1.552      0.121 [-3.263e-02,  0.281]\n",
            "                               Volatility Model                              \n",
            "=============================================================================\n",
            "                 coef    std err          t      P>|t|       95.0% Conf. Int.\n",
            "-----------------------------------------------------------------------------\n",
            "omega          0.0238  3.155e-02      0.754      0.451 [-3.806e-02,8.561e-02]\n",
            "alpha[1]       0.0922  5.935e-02      1.553      0.120   [-2.415e-02,  0.209]\n",
            "beta[1]        0.9078  3.827e-02     23.719 2.281e-124      [  0.833,  0.983]\n",
            "=============================================================================\n",
            "\n",
            "Covariance estimator: robust\n"
          ],
          "name": "stdout"
        }
      ]
    },
    {
      "cell_type": "markdown",
      "metadata": {
        "id": "XF8bhBWnCSEM",
        "colab_type": "text"
      },
      "source": [
        "Small Alpha indicates that nifty does no react to new stock\n",
        "if it reacts it will remain relatively strong "
      ]
    },
    {
      "cell_type": "code",
      "metadata": {
        "id": "G2TosBJUCsPz",
        "colab_type": "code",
        "colab": {}
      },
      "source": [
        "mydatats.BRENT = mydatats.BRENT.fillna(method=\"bfill\")"
      ],
      "execution_count": 79,
      "outputs": []
    },
    {
      "cell_type": "code",
      "metadata": {
        "id": "SV_A2ZtW9bs2",
        "colab_type": "code",
        "colab": {
          "base_uri": "https://localhost:8080/",
          "height": 538
        },
        "outputId": "4b88e16e-6928-4b0c-af84-a6a1b839f7b0"
      },
      "source": [
        "model_brent_garch_1_1 = arch_model(mydatats.BRENT.diff().dropna(), \\\n",
        "                             mean=\"constant\",\\\n",
        "                             vol = \"GARCH\",\\\n",
        "                             p=1, q=1)\n",
        "estimates_model_brent_garch_1_1 = model_brent_garch_1_1.fit(update_freq = 10)\n",
        "print(estimates_model_brent_garch_1_1.summary())"
      ],
      "execution_count": 80,
      "outputs": [
        {
          "output_type": "stream",
          "text": [
            "Iteration:     10,   Func. Count:     67,   Neg. LLF: 962.4714174975118\n",
            "Optimization terminated successfully.    (Exit mode 0)\n",
            "            Current function value: 962.4714156581645\n",
            "            Iterations: 11\n",
            "            Function evaluations: 73\n",
            "            Gradient evaluations: 11\n",
            "                     Constant Mean - GARCH Model Results                      \n",
            "==============================================================================\n",
            "Dep. Variable:                  BRENT   R-squared:                      -0.001\n",
            "Mean Model:             Constant Mean   Adj. R-squared:                 -0.001\n",
            "Vol Model:                      GARCH   Log-Likelihood:               -962.471\n",
            "Distribution:                  Normal   AIC:                           1932.94\n",
            "Method:            Maximum Likelihood   BIC:                           1948.49\n",
            "                                        No. Observations:                  360\n",
            "Date:                Sat, Sep 19 2020   Df Residuals:                      356\n",
            "Time:                        06:27:56   Df Model:                            4\n",
            "                               Mean Model                               \n",
            "========================================================================\n",
            "                 coef    std err          t      P>|t|  95.0% Conf. Int.\n",
            "------------------------------------------------------------------------\n",
            "mu         3.8105e-03      0.124  3.071e-02      0.975 [ -0.239,  0.247]\n",
            "                              Volatility Model                             \n",
            "===========================================================================\n",
            "                 coef    std err          t      P>|t|     95.0% Conf. Int.\n",
            "---------------------------------------------------------------------------\n",
            "omega          0.0792  6.061e-02      1.307      0.191 [-3.959e-02,  0.198]\n",
            "alpha[1]       0.1729  6.046e-02      2.860  4.233e-03  [5.443e-02,  0.291]\n",
            "beta[1]        0.8271  6.219e-02     13.298  2.374e-40    [  0.705,  0.949]\n",
            "===========================================================================\n",
            "\n",
            "Covariance estimator: robust\n"
          ],
          "name": "stdout"
        }
      ]
    },
    {
      "cell_type": "code",
      "metadata": {
        "id": "nR4kN7iV9b1X",
        "colab_type": "code",
        "colab": {
          "base_uri": "https://localhost:8080/",
          "height": 554
        },
        "outputId": "fcdd3369-1fc2-4c32-b095-f591a960a2ac"
      },
      "source": [
        "# if we give non stationary series we get absurd outputs\n",
        "model_brent_garch_1_1 = arch_model(mydatats.BRENT, \\\n",
        "                             mean=\"constant\",\\\n",
        "                             vol = \"GARCH\",\\\n",
        "                             p=1, q=1)\n",
        "estimates_model_brent_garch_1_1 = model_brent_garch_1_1.fit(update_freq = 10)\n",
        "print(estimates_model_brent_garch_1_1.summary())"
      ],
      "execution_count": 81,
      "outputs": [
        {
          "output_type": "stream",
          "text": [
            "Iteration:     10,   Func. Count:     67,   Neg. LLF: 1506.6890007687725\n",
            "Iteration:     20,   Func. Count:    130,   Neg. LLF: 1496.3673955663908\n",
            "Optimization terminated successfully.    (Exit mode 0)\n",
            "            Current function value: 1496.367394800689\n",
            "            Iterations: 21\n",
            "            Function evaluations: 130\n",
            "            Gradient evaluations: 20\n",
            "                     Constant Mean - GARCH Model Results                      \n",
            "==============================================================================\n",
            "Dep. Variable:                  BRENT   R-squared:                      -0.818\n",
            "Mean Model:             Constant Mean   Adj. R-squared:                 -0.818\n",
            "Vol Model:                      GARCH   Log-Likelihood:               -1496.37\n",
            "Distribution:                  Normal   AIC:                           3000.73\n",
            "Method:            Maximum Likelihood   BIC:                           3016.29\n",
            "                                        No. Observations:                  361\n",
            "Date:                Sat, Sep 19 2020   Df Residuals:                      357\n",
            "Time:                        06:32:31   Df Model:                            4\n",
            "                               Mean Model                               \n",
            "========================================================================\n",
            "                 coef    std err          t      P>|t|  95.0% Conf. Int.\n",
            "------------------------------------------------------------------------\n",
            "mu            19.5754      0.755     25.931 2.950e-148 [ 18.096, 21.055]\n",
            "                               Volatility Model                              \n",
            "=============================================================================\n",
            "                 coef    std err          t      P>|t|       95.0% Conf. Int.\n",
            "-----------------------------------------------------------------------------\n",
            "omega          2.0480      1.036      1.978  4.798e-02    [1.819e-02,  4.078]\n",
            "alpha[1]       1.0000  3.571e-02     28.001 1.575e-172      [  0.930,  1.070]\n",
            "beta[1]    8.3375e-11  6.529e-03  1.277e-08      1.000 [-1.280e-02,1.280e-02]\n",
            "=============================================================================\n",
            "\n",
            "Covariance estimator: robust\n"
          ],
          "name": "stdout"
        }
      ]
    },
    {
      "cell_type": "markdown",
      "metadata": {
        "id": "7tQbeVqNDZu9",
        "colab_type": "text"
      },
      "source": [
        "**AUTO ARIMA**"
      ]
    },
    {
      "cell_type": "code",
      "metadata": {
        "id": "9OafAONkDZ2R",
        "colab_type": "code",
        "colab": {
          "base_uri": "https://localhost:8080/",
          "height": 272
        },
        "outputId": "8b3d412e-b9c3-44ed-a850-27aa2fc40e4b"
      },
      "source": [
        "!pip install pmdarima"
      ],
      "execution_count": 1,
      "outputs": [
        {
          "output_type": "stream",
          "text": [
            "Requirement already satisfied: pmdarima in /usr/local/lib/python3.6/dist-packages (1.7.1)\n",
            "Requirement already satisfied: Cython<0.29.18,>=0.29 in /usr/local/lib/python3.6/dist-packages (from pmdarima) (0.29.17)\n",
            "Requirement already satisfied: scikit-learn>=0.22 in /usr/local/lib/python3.6/dist-packages (from pmdarima) (0.22.2.post1)\n",
            "Requirement already satisfied: joblib>=0.11 in /usr/local/lib/python3.6/dist-packages (from pmdarima) (0.16.0)\n",
            "Requirement already satisfied: pandas>=0.19 in /usr/local/lib/python3.6/dist-packages (from pmdarima) (1.0.5)\n",
            "Requirement already satisfied: statsmodels<0.12,>=0.11 in /usr/local/lib/python3.6/dist-packages (from pmdarima) (0.11.1)\n",
            "Requirement already satisfied: scipy>=1.3.2 in /usr/local/lib/python3.6/dist-packages (from pmdarima) (1.4.1)\n",
            "Requirement already satisfied: urllib3 in /usr/local/lib/python3.6/dist-packages (from pmdarima) (1.24.3)\n",
            "Requirement already satisfied: setuptools<50.0.0 in /usr/local/lib/python3.6/dist-packages (from pmdarima) (49.6.0)\n",
            "Requirement already satisfied: numpy>=1.17.3 in /usr/local/lib/python3.6/dist-packages (from pmdarima) (1.18.5)\n",
            "Requirement already satisfied: python-dateutil>=2.6.1 in /usr/local/lib/python3.6/dist-packages (from pandas>=0.19->pmdarima) (2.8.1)\n",
            "Requirement already satisfied: pytz>=2017.2 in /usr/local/lib/python3.6/dist-packages (from pandas>=0.19->pmdarima) (2018.9)\n",
            "Requirement already satisfied: patsy>=0.5 in /usr/local/lib/python3.6/dist-packages (from statsmodels<0.12,>=0.11->pmdarima) (0.5.1)\n",
            "Requirement already satisfied: six>=1.5 in /usr/local/lib/python3.6/dist-packages (from python-dateutil>=2.6.1->pandas>=0.19->pmdarima) (1.15.0)\n"
          ],
          "name": "stdout"
        }
      ]
    },
    {
      "cell_type": "code",
      "metadata": {
        "id": "-wTciqEZHwwI",
        "colab_type": "code",
        "colab": {
          "base_uri": "https://localhost:8080/",
          "height": 188
        },
        "outputId": "cf12e8be-da3f-4b45-a0e6-c0d6d49981a6"
      },
      "source": [
        "!pip install pyforest \n",
        "from pyforest import *"
      ],
      "execution_count": 7,
      "outputs": [
        {
          "output_type": "stream",
          "text": [
            "Collecting pyforest\n",
            "  Downloading https://files.pythonhosted.org/packages/8f/85/77a9d2d9ff240822039f3dfd7a3b374d0621a0df5feb5d270a2151f6bb6d/pyforest-1.0.3.tar.gz\n",
            "Building wheels for collected packages: pyforest\n",
            "  Building wheel for pyforest (setup.py) ... \u001b[?25l\u001b[?25hdone\n",
            "  Created wheel for pyforest: filename=pyforest-1.0.3-py2.py3-none-any.whl size=13716 sha256=9d982c8a9baae54f0f74ca836b5c58e17ce16ba852f2a5fb60b9fb7b65dd176d\n",
            "  Stored in directory: /root/.cache/pip/wheels/af/0b/39/340a7f15fc8d4ff5ab50847b28789afea04452a9d51b9721b5\n",
            "Successfully built pyforest\n",
            "Installing collected packages: pyforest\n",
            "Successfully installed pyforest-1.0.3\n"
          ],
          "name": "stdout"
        }
      ]
    },
    {
      "cell_type": "code",
      "metadata": {
        "id": "ug4pg3k-HBHt",
        "colab_type": "code",
        "colab": {
          "base_uri": "https://localhost:8080/",
          "height": 17
        },
        "outputId": "cc425a03-17ee-47db-bedb-51eb642592e9"
      },
      "source": [
        "mydatats = pd.read_csv(\"oilpriceindex.csv\", na_values=[\"null\"], index_col='DATE', parse_dates= True, infer_datetime_format= True)"
      ],
      "execution_count": 23,
      "outputs": [
        {
          "output_type": "display_data",
          "data": {
            "application/javascript": [
              "\n",
              "        if (window._pyforest_update_imports_cell) { window._pyforest_update_imports_cell('import plotly as py\\nimport altair as alt\\nimport pydot\\nimport bokeh\\nimport pandas as pd\\nimport pickle\\nimport matplotlib as mpl'); }\n",
              "    "
            ],
            "text/plain": [
              "<IPython.core.display.Javascript object>"
            ]
          },
          "metadata": {
            "tags": []
          }
        }
      ]
    },
    {
      "cell_type": "code",
      "metadata": {
        "id": "ypVNdg17DZ86",
        "colab_type": "code",
        "colab": {}
      },
      "source": [
        "mydatats.WTI = mydatats.WTI.fillna(method=\"bfill\")\n",
        "mydatats.NIFTY = mydatats.NIFTY.fillna(method=\"bfill\")\n",
        "mydatats.INR = mydatats.INR.fillna(method=\"bfill\")\n",
        "\n",
        "mydatats[\"WTI_pct\"] = mydatats.WTI.pct_change(1).mul(100)"
      ],
      "execution_count": 27,
      "outputs": []
    },
    {
      "cell_type": "code",
      "metadata": {
        "id": "nwgCg8EeDaDz",
        "colab_type": "code",
        "colab": {
          "base_uri": "https://localhost:8080/",
          "height": 306
        },
        "outputId": "5a9b43e2-ce8c-4cc1-89ec-007f2c7501b7"
      },
      "source": [
        "from pmdarima import auto_arima \n",
        "model_auto_wti = auto_arima(mydatats.WTI_pct[1:])"
      ],
      "execution_count": 28,
      "outputs": [
        {
          "output_type": "stream",
          "text": [
            "/usr/local/lib/python3.6/dist-packages/statsmodels/tsa/statespace/sarimax.py:963: UserWarning:\n",
            "\n",
            "Non-stationary starting autoregressive parameters found. Using zeros as starting parameters.\n",
            "\n",
            "/usr/local/lib/python3.6/dist-packages/statsmodels/tsa/statespace/sarimax.py:975: UserWarning:\n",
            "\n",
            "Non-invertible starting MA parameters found. Using zeros as starting parameters.\n",
            "\n",
            "/usr/local/lib/python3.6/dist-packages/statsmodels/tsa/statespace/sarimax.py:963: UserWarning:\n",
            "\n",
            "Non-stationary starting autoregressive parameters found. Using zeros as starting parameters.\n",
            "\n",
            "/usr/local/lib/python3.6/dist-packages/statsmodels/tsa/statespace/sarimax.py:975: UserWarning:\n",
            "\n",
            "Non-invertible starting MA parameters found. Using zeros as starting parameters.\n",
            "\n"
          ],
          "name": "stderr"
        }
      ]
    },
    {
      "cell_type": "code",
      "metadata": {
        "id": "WV2c3v4dIoeU",
        "colab_type": "code",
        "colab": {
          "base_uri": "https://localhost:8080/",
          "height": 490
        },
        "outputId": "97fd139d-57fb-4ff1-dd4c-2bc6a3a2a83e"
      },
      "source": [
        "print(model_auto_wti.summary())"
      ],
      "execution_count": 29,
      "outputs": [
        {
          "output_type": "stream",
          "text": [
            "                               SARIMAX Results                                \n",
            "==============================================================================\n",
            "Dep. Variable:                      y   No. Observations:                  360\n",
            "Model:               SARIMAX(3, 0, 1)   Log Likelihood               -1260.818\n",
            "Date:                Sat, 19 Sep 2020   AIC                           2533.637\n",
            "Time:                        06:56:42   BIC                           2556.953\n",
            "Sample:                             0   HQIC                          2542.908\n",
            "                                - 360                                         \n",
            "Covariance Type:                  opg                                         \n",
            "==============================================================================\n",
            "                 coef    std err          z      P>|z|      [0.025      0.975]\n",
            "------------------------------------------------------------------------------\n",
            "intercept      0.1175      0.088      1.328      0.184      -0.056       0.291\n",
            "ar.L1          1.0924      0.106     10.287      0.000       0.884       1.301\n",
            "ar.L2         -0.1989      0.083     -2.384      0.017      -0.362      -0.035\n",
            "ar.L3         -0.0855      0.054     -1.578      0.115      -0.192       0.021\n",
            "ma.L1         -0.8373      0.097     -8.622      0.000      -1.028      -0.647\n",
            "sigma2        64.4647      3.901     16.525      0.000      56.819      72.111\n",
            "===================================================================================\n",
            "Ljung-Box (Q):                       26.89   Jarque-Bera (JB):                61.90\n",
            "Prob(Q):                              0.94   Prob(JB):                         0.00\n",
            "Heteroskedasticity (H):               0.90   Skew:                             0.31\n",
            "Prob(H) (two-sided):                  0.55   Kurtosis:                         4.94\n",
            "===================================================================================\n",
            "\n",
            "Warnings:\n",
            "[1] Covariance matrix calculated using the outer product of gradients (complex-step).\n"
          ],
          "name": "stdout"
        }
      ]
    },
    {
      "cell_type": "code",
      "metadata": {
        "id": "6FYiaLojDaId",
        "colab_type": "code",
        "colab": {
          "base_uri": "https://localhost:8080/",
          "height": 1000
        },
        "outputId": "156616c9-9540-4e92-d45d-59ec23d8972d"
      },
      "source": [
        "model_auto_arimax_wti = auto_arima(mydatats.WTI_pct[1:],\\\n",
        "                                   exogenous=mydatats[[\"NIFTY\",\"INR\"]][1:],\\\n",
        "                                   m=5,\n",
        "                                   max_order=None,\n",
        "                                   max_p = 4,\n",
        "                                   max_q = 2,\n",
        "                                   max_P = 4,\n",
        "                                   max_D = 1,\n",
        "                                   max_Q = 4,\n",
        "                                  maxitert =20,\n",
        "                                   alpha = 0.05,\n",
        "                                   n_jobs =1,\n",
        "                                   trend = 'ct',\n",
        "                                   information_criterion = 'aic'\n",
        "                                   )"
      ],
      "execution_count": 33,
      "outputs": [
        {
          "output_type": "stream",
          "text": [
            "/usr/local/lib/python3.6/dist-packages/statsmodels/tsa/base/tsa_model.py:162: ValueWarning:\n",
            "\n",
            "No frequency information was provided, so inferred frequency MS will be used.\n",
            "\n",
            "/usr/local/lib/python3.6/dist-packages/statsmodels/tsa/base/tsa_model.py:162: ValueWarning:\n",
            "\n",
            "No frequency information was provided, so inferred frequency MS will be used.\n",
            "\n",
            "/usr/local/lib/python3.6/dist-packages/statsmodels/base/model.py:568: ConvergenceWarning:\n",
            "\n",
            "Maximum Likelihood optimization failed to converge. Check mle_retvals\n",
            "\n",
            "/usr/local/lib/python3.6/dist-packages/statsmodels/tsa/base/tsa_model.py:162: ValueWarning:\n",
            "\n",
            "No frequency information was provided, so inferred frequency MS will be used.\n",
            "\n",
            "/usr/local/lib/python3.6/dist-packages/statsmodels/tsa/base/tsa_model.py:162: ValueWarning:\n",
            "\n",
            "No frequency information was provided, so inferred frequency MS will be used.\n",
            "\n",
            "/usr/local/lib/python3.6/dist-packages/statsmodels/tsa/base/tsa_model.py:162: ValueWarning:\n",
            "\n",
            "No frequency information was provided, so inferred frequency MS will be used.\n",
            "\n",
            "/usr/local/lib/python3.6/dist-packages/statsmodels/tsa/base/tsa_model.py:162: ValueWarning:\n",
            "\n",
            "No frequency information was provided, so inferred frequency MS will be used.\n",
            "\n",
            "/usr/local/lib/python3.6/dist-packages/statsmodels/base/model.py:568: ConvergenceWarning:\n",
            "\n",
            "Maximum Likelihood optimization failed to converge. Check mle_retvals\n",
            "\n",
            "/usr/local/lib/python3.6/dist-packages/statsmodels/tsa/base/tsa_model.py:162: ValueWarning:\n",
            "\n",
            "No frequency information was provided, so inferred frequency MS will be used.\n",
            "\n",
            "/usr/local/lib/python3.6/dist-packages/statsmodels/tsa/base/tsa_model.py:162: ValueWarning:\n",
            "\n",
            "No frequency information was provided, so inferred frequency MS will be used.\n",
            "\n",
            "/usr/local/lib/python3.6/dist-packages/statsmodels/base/model.py:568: ConvergenceWarning:\n",
            "\n",
            "Maximum Likelihood optimization failed to converge. Check mle_retvals\n",
            "\n",
            "/usr/local/lib/python3.6/dist-packages/statsmodels/tsa/base/tsa_model.py:162: ValueWarning:\n",
            "\n",
            "No frequency information was provided, so inferred frequency MS will be used.\n",
            "\n",
            "/usr/local/lib/python3.6/dist-packages/statsmodels/tsa/base/tsa_model.py:162: ValueWarning:\n",
            "\n",
            "No frequency information was provided, so inferred frequency MS will be used.\n",
            "\n",
            "/usr/local/lib/python3.6/dist-packages/statsmodels/tsa/base/tsa_model.py:162: ValueWarning:\n",
            "\n",
            "No frequency information was provided, so inferred frequency MS will be used.\n",
            "\n",
            "/usr/local/lib/python3.6/dist-packages/statsmodels/tsa/base/tsa_model.py:162: ValueWarning:\n",
            "\n",
            "No frequency information was provided, so inferred frequency MS will be used.\n",
            "\n",
            "/usr/local/lib/python3.6/dist-packages/statsmodels/base/model.py:568: ConvergenceWarning:\n",
            "\n",
            "Maximum Likelihood optimization failed to converge. Check mle_retvals\n",
            "\n",
            "/usr/local/lib/python3.6/dist-packages/statsmodels/tsa/base/tsa_model.py:162: ValueWarning:\n",
            "\n",
            "No frequency information was provided, so inferred frequency MS will be used.\n",
            "\n",
            "/usr/local/lib/python3.6/dist-packages/statsmodels/tsa/base/tsa_model.py:162: ValueWarning:\n",
            "\n",
            "No frequency information was provided, so inferred frequency MS will be used.\n",
            "\n",
            "/usr/local/lib/python3.6/dist-packages/statsmodels/tsa/base/tsa_model.py:162: ValueWarning:\n",
            "\n",
            "No frequency information was provided, so inferred frequency MS will be used.\n",
            "\n",
            "/usr/local/lib/python3.6/dist-packages/statsmodels/tsa/base/tsa_model.py:162: ValueWarning:\n",
            "\n",
            "No frequency information was provided, so inferred frequency MS will be used.\n",
            "\n",
            "/usr/local/lib/python3.6/dist-packages/statsmodels/base/model.py:568: ConvergenceWarning:\n",
            "\n",
            "Maximum Likelihood optimization failed to converge. Check mle_retvals\n",
            "\n",
            "/usr/local/lib/python3.6/dist-packages/statsmodels/tsa/base/tsa_model.py:162: ValueWarning:\n",
            "\n",
            "No frequency information was provided, so inferred frequency MS will be used.\n",
            "\n",
            "/usr/local/lib/python3.6/dist-packages/statsmodels/tsa/base/tsa_model.py:162: ValueWarning:\n",
            "\n",
            "No frequency information was provided, so inferred frequency MS will be used.\n",
            "\n",
            "/usr/local/lib/python3.6/dist-packages/statsmodels/tsa/base/tsa_model.py:162: ValueWarning:\n",
            "\n",
            "No frequency information was provided, so inferred frequency MS will be used.\n",
            "\n",
            "/usr/local/lib/python3.6/dist-packages/statsmodels/tsa/base/tsa_model.py:162: ValueWarning:\n",
            "\n",
            "No frequency information was provided, so inferred frequency MS will be used.\n",
            "\n",
            "/usr/local/lib/python3.6/dist-packages/statsmodels/tsa/base/tsa_model.py:162: ValueWarning:\n",
            "\n",
            "No frequency information was provided, so inferred frequency MS will be used.\n",
            "\n",
            "/usr/local/lib/python3.6/dist-packages/statsmodels/tsa/base/tsa_model.py:162: ValueWarning:\n",
            "\n",
            "No frequency information was provided, so inferred frequency MS will be used.\n",
            "\n",
            "/usr/local/lib/python3.6/dist-packages/statsmodels/tsa/base/tsa_model.py:162: ValueWarning:\n",
            "\n",
            "No frequency information was provided, so inferred frequency MS will be used.\n",
            "\n",
            "/usr/local/lib/python3.6/dist-packages/statsmodels/tsa/base/tsa_model.py:162: ValueWarning:\n",
            "\n",
            "No frequency information was provided, so inferred frequency MS will be used.\n",
            "\n",
            "/usr/local/lib/python3.6/dist-packages/statsmodels/tsa/statespace/sarimax.py:963: UserWarning:\n",
            "\n",
            "Non-stationary starting autoregressive parameters found. Using zeros as starting parameters.\n",
            "\n",
            "/usr/local/lib/python3.6/dist-packages/statsmodels/tsa/statespace/sarimax.py:975: UserWarning:\n",
            "\n",
            "Non-invertible starting MA parameters found. Using zeros as starting parameters.\n",
            "\n",
            "/usr/local/lib/python3.6/dist-packages/statsmodels/base/model.py:568: ConvergenceWarning:\n",
            "\n",
            "Maximum Likelihood optimization failed to converge. Check mle_retvals\n",
            "\n",
            "/usr/local/lib/python3.6/dist-packages/statsmodels/tsa/base/tsa_model.py:162: ValueWarning:\n",
            "\n",
            "No frequency information was provided, so inferred frequency MS will be used.\n",
            "\n",
            "/usr/local/lib/python3.6/dist-packages/statsmodels/tsa/base/tsa_model.py:162: ValueWarning:\n",
            "\n",
            "No frequency information was provided, so inferred frequency MS will be used.\n",
            "\n",
            "/usr/local/lib/python3.6/dist-packages/statsmodels/base/model.py:568: ConvergenceWarning:\n",
            "\n",
            "Maximum Likelihood optimization failed to converge. Check mle_retvals\n",
            "\n"
          ],
          "name": "stderr"
        }
      ]
    },
    {
      "cell_type": "code",
      "metadata": {
        "id": "7jB7G7FCDaRm",
        "colab_type": "code",
        "colab": {
          "base_uri": "https://localhost:8080/",
          "height": 490
        },
        "outputId": "760fc699-b70e-473b-f33e-823af9df6099"
      },
      "source": [
        "print(model_auto_arimax_wti.summary())"
      ],
      "execution_count": 34,
      "outputs": [
        {
          "output_type": "stream",
          "text": [
            "                               SARIMAX Results                                \n",
            "==============================================================================\n",
            "Dep. Variable:                      y   No. Observations:                  360\n",
            "Model:               SARIMAX(1, 0, 0)   Log Likelihood               -1264.183\n",
            "Date:                Sat, 19 Sep 2020   AIC                           2540.367\n",
            "Time:                        07:06:34   BIC                           2563.683\n",
            "Sample:                    02-01-1990   HQIC                          2549.638\n",
            "                         - 01-01-2020                                         \n",
            "Covariance Type:                  opg                                         \n",
            "==============================================================================\n",
            "                 coef    std err          z      P>|z|      [0.025      0.975]\n",
            "------------------------------------------------------------------------------\n",
            "intercept      2.4259      2.196      1.105      0.269      -1.878       6.730\n",
            "drift          0.0089      0.012      0.718      0.473      -0.015       0.033\n",
            "NIFTY          0.1773      0.190      0.934      0.350      -0.195       0.549\n",
            "INR           -0.0514      0.058     -0.883      0.377      -0.165       0.063\n",
            "ar.L1          0.2731      0.047      5.844      0.000       0.182       0.365\n",
            "sigma2        65.7074      3.858     17.033      0.000      58.146      73.268\n",
            "===================================================================================\n",
            "Ljung-Box (Q):                       36.71   Jarque-Bera (JB):                72.92\n",
            "Prob(Q):                              0.62   Prob(JB):                         0.00\n",
            "Heteroskedasticity (H):               0.86   Skew:                             0.36\n",
            "Prob(H) (two-sided):                  0.42   Kurtosis:                         5.08\n",
            "===================================================================================\n",
            "\n",
            "Warnings:\n",
            "[1] Covariance matrix calculated using the outer product of gradients (complex-step).\n"
          ],
          "name": "stdout"
        }
      ]
    },
    {
      "cell_type": "code",
      "metadata": {
        "id": "uvE7rnRpDafV",
        "colab_type": "code",
        "colab": {}
      },
      "source": [
        ""
      ],
      "execution_count": null,
      "outputs": []
    },
    {
      "cell_type": "code",
      "metadata": {
        "id": "pcU7zkQvDalX",
        "colab_type": "code",
        "colab": {}
      },
      "source": [
        ""
      ],
      "execution_count": null,
      "outputs": []
    },
    {
      "cell_type": "code",
      "metadata": {
        "id": "zFubLD0oDax2",
        "colab_type": "code",
        "colab": {}
      },
      "source": [
        ""
      ],
      "execution_count": null,
      "outputs": []
    },
    {
      "cell_type": "code",
      "metadata": {
        "id": "RQ0xOBVMDa6y",
        "colab_type": "code",
        "colab": {}
      },
      "source": [
        ""
      ],
      "execution_count": null,
      "outputs": []
    },
    {
      "cell_type": "code",
      "metadata": {
        "id": "KyGzcoRhDbCT",
        "colab_type": "code",
        "colab": {}
      },
      "source": [
        ""
      ],
      "execution_count": null,
      "outputs": []
    },
    {
      "cell_type": "code",
      "metadata": {
        "id": "Q5ctbshsDa-p",
        "colab_type": "code",
        "colab": {}
      },
      "source": [
        ""
      ],
      "execution_count": null,
      "outputs": []
    },
    {
      "cell_type": "code",
      "metadata": {
        "id": "QFJ4ZzHdDa3s",
        "colab_type": "code",
        "colab": {}
      },
      "source": [
        ""
      ],
      "execution_count": null,
      "outputs": []
    },
    {
      "cell_type": "code",
      "metadata": {
        "id": "AMUosU0CDaNU",
        "colab_type": "code",
        "colab": {}
      },
      "source": [
        ""
      ],
      "execution_count": null,
      "outputs": []
    },
    {
      "cell_type": "code",
      "metadata": {
        "id": "qzGd4W4A9b8_",
        "colab_type": "code",
        "colab": {}
      },
      "source": [
        ""
      ],
      "execution_count": null,
      "outputs": []
    },
    {
      "cell_type": "code",
      "metadata": {
        "id": "w_x3aUer2NEJ",
        "colab_type": "code",
        "colab": {}
      },
      "source": [
        ""
      ],
      "execution_count": null,
      "outputs": []
    }
  ]
}