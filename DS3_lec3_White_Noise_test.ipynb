{
  "nbformat": 4,
  "nbformat_minor": 0,
  "metadata": {
    "colab": {
      "name": "DS3 lec3.ipynb",
      "provenance": [],
      "collapsed_sections": [],
      "authorship_tag": "ABX9TyOUKQziYiSlkNt4AOGIMAWL",
      "include_colab_link": true
    },
    "kernelspec": {
      "name": "python3",
      "display_name": "Python 3"
    }
  },
  "cells": [
    {
      "cell_type": "markdown",
      "metadata": {
        "id": "view-in-github",
        "colab_type": "text"
      },
      "source": [
        "<a href=\"https://colab.research.google.com/github/vikpy/EconometricsSem3/blob/master/DS3_lec3_White_Noise_test.ipynb\" target=\"_parent\"><img src=\"https://colab.research.google.com/assets/colab-badge.svg\" alt=\"Open In Colab\"/></a>"
      ]
    },
    {
      "cell_type": "code",
      "metadata": {
        "id": "MUzn86_Cq0K8",
        "colab_type": "code",
        "colab": {
          "base_uri": "https://localhost:8080/",
          "height": 188
        },
        "outputId": "2019ccef-72a3-4fc5-d0e6-49acc52e938f"
      },
      "source": [
        "!pip install pyforest \n",
        "from pyforest import * "
      ],
      "execution_count": null,
      "outputs": [
        {
          "output_type": "stream",
          "text": [
            "Collecting pyforest\n",
            "  Downloading https://files.pythonhosted.org/packages/8f/85/77a9d2d9ff240822039f3dfd7a3b374d0621a0df5feb5d270a2151f6bb6d/pyforest-1.0.3.tar.gz\n",
            "Building wheels for collected packages: pyforest\n",
            "  Building wheel for pyforest (setup.py) ... \u001b[?25l\u001b[?25hdone\n",
            "  Created wheel for pyforest: filename=pyforest-1.0.3-py2.py3-none-any.whl size=13715 sha256=c50bbefb3153467dcb3e66c3fd727f7cf292858ddf6e27e75585cfea86fd2d3b\n",
            "  Stored in directory: /root/.cache/pip/wheels/af/0b/39/340a7f15fc8d4ff5ab50847b28789afea04452a9d51b9721b5\n",
            "Successfully built pyforest\n",
            "Installing collected packages: pyforest\n",
            "Successfully installed pyforest-1.0.3\n"
          ],
          "name": "stdout"
        }
      ]
    },
    {
      "cell_type": "markdown",
      "metadata": {
        "id": "gmbB71u2FwZu",
        "colab_type": "text"
      },
      "source": [
        "# Time Series Properties\n",
        "\n",
        "**Random Walk - White Noise\n",
        "White noise series normally follows a random walk**\n",
        "\n"
      ]
    },
    {
      "cell_type": "code",
      "metadata": {
        "id": "GbcW3JFsF4jh",
        "colab_type": "code",
        "colab": {
          "base_uri": "https://localhost:8080/",
          "height": 70
        },
        "outputId": "8e88dc63-c6f0-4dff-944a-13df4ed2b077"
      },
      "source": [
        "import pandas as pd\n",
        "import numpy as np\n",
        "import matplotlib.pyplot as plt\n",
        "import seaborn as sns\n",
        "sns.set()"
      ],
      "execution_count": 1,
      "outputs": [
        {
          "output_type": "stream",
          "text": [
            "/usr/local/lib/python3.6/dist-packages/statsmodels/tools/_testing.py:19: FutureWarning: pandas.util.testing is deprecated. Use the functions in the public API at pandas.testing instead.\n",
            "  import pandas.util.testing as tm\n"
          ],
          "name": "stderr"
        }
      ]
    },
    {
      "cell_type": "code",
      "metadata": {
        "id": "Kb1luytLGb1k",
        "colab_type": "code",
        "colab": {}
      },
      "source": [
        "# Data work\n",
        "mydataraw = pd.read_csv(\"/content/oilpriceindex.csv\")"
      ],
      "execution_count": 29,
      "outputs": []
    },
    {
      "cell_type": "code",
      "metadata": {
        "id": "DXVchRzBGz_k",
        "colab_type": "code",
        "colab": {}
      },
      "source": [
        "mydataraw1 = mydataraw.copy()"
      ],
      "execution_count": 4,
      "outputs": []
    },
    {
      "cell_type": "code",
      "metadata": {
        "id": "_bi5Z2biG8CB",
        "colab_type": "code",
        "colab": {
          "base_uri": "https://localhost:8080/",
          "height": 195
        },
        "outputId": "de4c5ee5-5649-4e2e-dab8-7d777e775c6d"
      },
      "source": [
        "mydataraw.head()"
      ],
      "execution_count": 5,
      "outputs": [
        {
          "output_type": "execute_result",
          "data": {
            "text/html": [
              "<div>\n",
              "<style scoped>\n",
              "    .dataframe tbody tr th:only-of-type {\n",
              "        vertical-align: middle;\n",
              "    }\n",
              "\n",
              "    .dataframe tbody tr th {\n",
              "        vertical-align: top;\n",
              "    }\n",
              "\n",
              "    .dataframe thead th {\n",
              "        text-align: right;\n",
              "    }\n",
              "</style>\n",
              "<table border=\"1\" class=\"dataframe\">\n",
              "  <thead>\n",
              "    <tr style=\"text-align: right;\">\n",
              "      <th></th>\n",
              "      <th>DATE</th>\n",
              "      <th>WTI</th>\n",
              "      <th>BRENT</th>\n",
              "      <th>INR</th>\n",
              "      <th>NIFTY</th>\n",
              "    </tr>\n",
              "  </thead>\n",
              "  <tbody>\n",
              "    <tr>\n",
              "      <th>0</th>\n",
              "      <td>01-01-1990</td>\n",
              "      <td>22.86</td>\n",
              "      <td>21.25</td>\n",
              "      <td>35.6</td>\n",
              "      <td>0.44</td>\n",
              "    </tr>\n",
              "    <tr>\n",
              "      <th>1</th>\n",
              "      <td>02-01-1990</td>\n",
              "      <td>22.11</td>\n",
              "      <td>19.81</td>\n",
              "      <td>35.6</td>\n",
              "      <td>2.45</td>\n",
              "    </tr>\n",
              "    <tr>\n",
              "      <th>2</th>\n",
              "      <td>03-01-1990</td>\n",
              "      <td>NaN</td>\n",
              "      <td>18.39</td>\n",
              "      <td>35.9</td>\n",
              "      <td>-0.28</td>\n",
              "    </tr>\n",
              "    <tr>\n",
              "      <th>3</th>\n",
              "      <td>04-01-1990</td>\n",
              "      <td>18.43</td>\n",
              "      <td>16.61</td>\n",
              "      <td>36.3</td>\n",
              "      <td>-6.18</td>\n",
              "    </tr>\n",
              "    <tr>\n",
              "      <th>4</th>\n",
              "      <td>05-01-1990</td>\n",
              "      <td>18.20</td>\n",
              "      <td>16.35</td>\n",
              "      <td>36.3</td>\n",
              "      <td>-1.62</td>\n",
              "    </tr>\n",
              "  </tbody>\n",
              "</table>\n",
              "</div>"
            ],
            "text/plain": [
              "         DATE    WTI  BRENT   INR  NIFTY\n",
              "0  01-01-1990  22.86  21.25  35.6   0.44\n",
              "1  02-01-1990  22.11  19.81  35.6   2.45\n",
              "2  03-01-1990    NaN  18.39  35.9  -0.28\n",
              "3  04-01-1990  18.43  16.61  36.3  -6.18\n",
              "4  05-01-1990  18.20  16.35  36.3  -1.62"
            ]
          },
          "metadata": {
            "tags": []
          },
          "execution_count": 5
        }
      ]
    },
    {
      "cell_type": "code",
      "metadata": {
        "id": "XIzuQunWHrpX",
        "colab_type": "code",
        "colab": {
          "base_uri": "https://localhost:8080/",
          "height": 284
        },
        "outputId": "02a94093-dc53-404c-81f5-65f56c97a470"
      },
      "source": [
        "mydataraw.describe()"
      ],
      "execution_count": 6,
      "outputs": [
        {
          "output_type": "execute_result",
          "data": {
            "text/html": [
              "<div>\n",
              "<style scoped>\n",
              "    .dataframe tbody tr th:only-of-type {\n",
              "        vertical-align: middle;\n",
              "    }\n",
              "\n",
              "    .dataframe tbody tr th {\n",
              "        vertical-align: top;\n",
              "    }\n",
              "\n",
              "    .dataframe thead th {\n",
              "        text-align: right;\n",
              "    }\n",
              "</style>\n",
              "<table border=\"1\" class=\"dataframe\">\n",
              "  <thead>\n",
              "    <tr style=\"text-align: right;\">\n",
              "      <th></th>\n",
              "      <th>WTI</th>\n",
              "      <th>BRENT</th>\n",
              "      <th>INR</th>\n",
              "      <th>NIFTY</th>\n",
              "    </tr>\n",
              "  </thead>\n",
              "  <tbody>\n",
              "    <tr>\n",
              "      <th>count</th>\n",
              "      <td>360.000000</td>\n",
              "      <td>359.000000</td>\n",
              "      <td>357.000000</td>\n",
              "      <td>358.000000</td>\n",
              "    </tr>\n",
              "    <tr>\n",
              "      <th>mean</th>\n",
              "      <td>47.843528</td>\n",
              "      <td>49.330808</td>\n",
              "      <td>96.766106</td>\n",
              "      <td>0.193324</td>\n",
              "    </tr>\n",
              "    <tr>\n",
              "      <th>std</th>\n",
              "      <td>29.194188</td>\n",
              "      <td>32.860975</td>\n",
              "      <td>27.851830</td>\n",
              "      <td>1.890878</td>\n",
              "    </tr>\n",
              "    <tr>\n",
              "      <th>min</th>\n",
              "      <td>11.350000</td>\n",
              "      <td>9.820000</td>\n",
              "      <td>35.600000</td>\n",
              "      <td>-6.180000</td>\n",
              "    </tr>\n",
              "    <tr>\n",
              "      <th>25%</th>\n",
              "      <td>21.295000</td>\n",
              "      <td>19.755000</td>\n",
              "      <td>76.800000</td>\n",
              "      <td>-0.782500</td>\n",
              "    </tr>\n",
              "    <tr>\n",
              "      <th>50%</th>\n",
              "      <td>40.950000</td>\n",
              "      <td>41.580000</td>\n",
              "      <td>95.200000</td>\n",
              "      <td>0.185000</td>\n",
              "    </tr>\n",
              "    <tr>\n",
              "      <th>75%</th>\n",
              "      <td>68.397500</td>\n",
              "      <td>70.905000</td>\n",
              "      <td>113.900000</td>\n",
              "      <td>1.080000</td>\n",
              "    </tr>\n",
              "    <tr>\n",
              "      <th>max</th>\n",
              "      <td>133.880000</td>\n",
              "      <td>132.720000</td>\n",
              "      <td>154.300000</td>\n",
              "      <td>17.740000</td>\n",
              "    </tr>\n",
              "  </tbody>\n",
              "</table>\n",
              "</div>"
            ],
            "text/plain": [
              "              WTI       BRENT         INR       NIFTY\n",
              "count  360.000000  359.000000  357.000000  358.000000\n",
              "mean    47.843528   49.330808   96.766106    0.193324\n",
              "std     29.194188   32.860975   27.851830    1.890878\n",
              "min     11.350000    9.820000   35.600000   -6.180000\n",
              "25%     21.295000   19.755000   76.800000   -0.782500\n",
              "50%     40.950000   41.580000   95.200000    0.185000\n",
              "75%     68.397500   70.905000  113.900000    1.080000\n",
              "max    133.880000  132.720000  154.300000   17.740000"
            ]
          },
          "metadata": {
            "tags": []
          },
          "execution_count": 6
        }
      ]
    },
    {
      "cell_type": "code",
      "metadata": {
        "id": "r3x3vdJ_HwLR",
        "colab_type": "code",
        "colab": {
          "base_uri": "https://localhost:8080/",
          "height": 118
        },
        "outputId": "1e44e9cd-d1d2-4536-c4b3-2c62ea3fda99"
      },
      "source": [
        "mydataraw.isna().sum()"
      ],
      "execution_count": 9,
      "outputs": [
        {
          "output_type": "execute_result",
          "data": {
            "text/plain": [
              "DATE     0\n",
              "WTI      1\n",
              "BRENT    2\n",
              "INR      4\n",
              "NIFTY    3\n",
              "dtype: int64"
            ]
          },
          "metadata": {
            "tags": []
          },
          "execution_count": 9
        }
      ]
    },
    {
      "cell_type": "code",
      "metadata": {
        "id": "9hCKYvLaKArY",
        "colab_type": "code",
        "colab": {
          "base_uri": "https://localhost:8080/",
          "height": 34
        },
        "outputId": "98a305d8-2fb8-4bdd-ac9d-b93c02241926"
      },
      "source": [
        "mydataraw.NIFTY.isna().sum()"
      ],
      "execution_count": 10,
      "outputs": [
        {
          "output_type": "execute_result",
          "data": {
            "text/plain": [
              "3"
            ]
          },
          "metadata": {
            "tags": []
          },
          "execution_count": 10
        }
      ]
    },
    {
      "cell_type": "code",
      "metadata": {
        "id": "ujWxnKSaKFdV",
        "colab_type": "code",
        "colab": {}
      },
      "source": [
        "# We will use the fill method\n",
        "# We can do a forward fill\n",
        "# Or we can do a backward fill\n",
        "mydataraw1.WTI = mydataraw1.WTI.fillna(method='ffill')"
      ],
      "execution_count": 31,
      "outputs": []
    },
    {
      "cell_type": "code",
      "metadata": {
        "id": "6x59U2iYK47z",
        "colab_type": "code",
        "colab": {
          "base_uri": "https://localhost:8080/",
          "height": 34
        },
        "outputId": "3652a64a-5371-4255-80b4-5f17b5e86ba2"
      },
      "source": [
        "mydataraw1.WTI.isna().sum()"
      ],
      "execution_count": 12,
      "outputs": [
        {
          "output_type": "execute_result",
          "data": {
            "text/plain": [
              "0"
            ]
          },
          "metadata": {
            "tags": []
          },
          "execution_count": 12
        }
      ]
    },
    {
      "cell_type": "code",
      "metadata": {
        "id": "kt1u45ewK8u-",
        "colab_type": "code",
        "colab": {}
      },
      "source": [
        "mydataraw1.BRENT = mydataraw1.BRENT.fillna(method='bfill')"
      ],
      "execution_count": 32,
      "outputs": []
    },
    {
      "cell_type": "code",
      "metadata": {
        "id": "ocVyC0O6LSDx",
        "colab_type": "code",
        "colab": {
          "base_uri": "https://localhost:8080/",
          "height": 34
        },
        "outputId": "87560c7d-5ffc-49f3-bfa5-77ead4be633e"
      },
      "source": [
        "mydataraw1.BRENT.isna().sum()"
      ],
      "execution_count": 34,
      "outputs": [
        {
          "output_type": "execute_result",
          "data": {
            "text/plain": [
              "0"
            ]
          },
          "metadata": {
            "tags": []
          },
          "execution_count": 34
        }
      ]
    },
    {
      "cell_type": "code",
      "metadata": {
        "id": "WDN-ekBILWcV",
        "colab_type": "code",
        "colab": {}
      },
      "source": [
        "mydataraw1.INR = mydataraw1.INR.fillna(method='bfill')"
      ],
      "execution_count": 33,
      "outputs": []
    },
    {
      "cell_type": "code",
      "metadata": {
        "id": "Z3zs7m41MdNG",
        "colab_type": "code",
        "colab": {
          "base_uri": "https://localhost:8080/",
          "height": 34
        },
        "outputId": "c1ee2e93-5de9-4fdb-9084-f72e32c06529"
      },
      "source": [
        "mydataraw1.INR.isna().sum()"
      ],
      "execution_count": 35,
      "outputs": [
        {
          "output_type": "execute_result",
          "data": {
            "text/plain": [
              "0"
            ]
          },
          "metadata": {
            "tags": []
          },
          "execution_count": 35
        }
      ]
    },
    {
      "cell_type": "code",
      "metadata": {
        "id": "rUwmHgrKMmfK",
        "colab_type": "code",
        "colab": {}
      },
      "source": [
        "mydataraw1.NIFTY = mydataraw1.NIFTY.fillna(value=mydataraw1.NIFTY.mean())"
      ],
      "execution_count": 36,
      "outputs": []
    },
    {
      "cell_type": "code",
      "metadata": {
        "id": "6GxbfHp9Mra1",
        "colab_type": "code",
        "colab": {
          "base_uri": "https://localhost:8080/",
          "height": 118
        },
        "outputId": "5e18ec4a-c704-4fe6-8b6a-32034fb501f0"
      },
      "source": [
        "mydataraw1.isna().sum()"
      ],
      "execution_count": 37,
      "outputs": [
        {
          "output_type": "execute_result",
          "data": {
            "text/plain": [
              "DATE     0\n",
              "WTI      0\n",
              "BRENT    0\n",
              "INR      0\n",
              "NIFTY    0\n",
              "dtype: int64"
            ]
          },
          "metadata": {
            "tags": []
          },
          "execution_count": 37
        }
      ]
    },
    {
      "cell_type": "code",
      "metadata": {
        "id": "le2r4XHbMusT",
        "colab_type": "code",
        "colab": {
          "base_uri": "https://localhost:8080/",
          "height": 378
        },
        "outputId": "1edfe228-b037-42e5-9db8-efcc81aaeb3e"
      },
      "source": [
        "mydataraw1.plot(figsize=(12,6), title=\"OIL Price, INR, NIFTY\")\n",
        "plt.show()"
      ],
      "execution_count": 38,
      "outputs": [
        {
          "output_type": "display_data",
          "data": {
            "image/png": "[encoded data removed]",
            "text/plain": [
              "<Figure size 864x432 with 1 Axes>"
            ]
          },
          "metadata": {
            "tags": [],
            "needs_background": "light"
          }
        }
      ]
    },
    {
      "cell_type": "code",
      "metadata": {
        "id": "ttE3WuMqNiN3",
        "colab_type": "code",
        "colab": {
          "base_uri": "https://localhost:8080/",
          "height": 378
        },
        "outputId": "3885a9da-dd6b-43dd-a05e-d5563fb64abb"
      },
      "source": [
        "mydataraw1.plot(figsize=(12,6), title=\"OIL Price, INR, NIFTY\")\n",
        "plt.show()"
      ],
      "execution_count": 22,
      "outputs": [
        {
          "output_type": "display_data",
          "data": {
            "image/png": "[encoded data removed]",
            "text/plain": [
              "<Figure size 864x432 with 1 Axes>"
            ]
          },
          "metadata": {
            "tags": [],
            "needs_background": "light"
          }
        }
      ]
    },
    {
      "cell_type": "markdown",
      "metadata": {
        "id": "tTpWkduCOJyL",
        "colab_type": "text"
      },
      "source": [
        "# Quantile-Quantile Plot (QQ Plot)\n"
      ]
    },
    {
      "cell_type": "code",
      "metadata": {
        "id": "Z6XdhJWeRxkk",
        "colab_type": "code",
        "colab": {}
      },
      "source": [
        "import scipy.stats \n",
        "import pylab"
      ],
      "execution_count": 40,
      "outputs": []
    },
    {
      "cell_type": "code",
      "metadata": {
        "id": "ZCvGvY2sR8_z",
        "colab_type": "code",
        "colab": {
          "base_uri": "https://localhost:8080/",
          "height": 301
        },
        "outputId": "54ec4ac1-8916-457f-9013-6920948c7396"
      },
      "source": [
        "scipy.stats.probplot(mydataraw1.INR, plot = pylab)\n",
        "pylab.show()"
      ],
      "execution_count": 42,
      "outputs": [
        {
          "output_type": "display_data",
          "data": {
            "image/png": "[encoded data removed]",
            "text/plain": [
              "<Figure size 432x288 with 1 Axes>"
            ]
          },
          "metadata": {
            "tags": [],
            "needs_background": "light"
          }
        }
      ]
    },
    {
      "cell_type": "code",
      "metadata": {
        "id": "w2FvaQXwSrv7",
        "colab_type": "code",
        "colab": {
          "base_uri": "https://localhost:8080/",
          "height": 301
        },
        "outputId": "9fb9526c-01e1-4f41-b06c-18ecfdb7e58e"
      },
      "source": [
        "scipy.stats.probplot(mydataraw1.WTI, plot = pylab)\n",
        "pylab.show()"
      ],
      "execution_count": 43,
      "outputs": [
        {
          "output_type": "display_data",
          "data": {
            "image/png": "[encoded data removed]",
            "text/plain": [
              "<Figure size 432x288 with 1 Axes>"
            ]
          },
          "metadata": {
            "tags": [],
            "needs_background": "light"
          }
        }
      ]
    },
    {
      "cell_type": "markdown",
      "metadata": {
        "id": "IdUk45chSxZs",
        "colab_type": "text"
      },
      "source": [
        "Deviation from the red line in the above plot means how much the value is deviating from the normal distribution "
      ]
    },
    {
      "cell_type": "code",
      "metadata": {
        "id": "pnFUl8-4S77L",
        "colab_type": "code",
        "colab": {
          "base_uri": "https://localhost:8080/",
          "height": 195
        },
        "outputId": "41e2fb4d-84a0-4a2e-b3cf-44855bed10fb"
      },
      "source": [
        "mydataraw1.head()"
      ],
      "execution_count": 44,
      "outputs": [
        {
          "output_type": "execute_result",
          "data": {
            "text/html": [
              "<div>\n",
              "<style scoped>\n",
              "    .dataframe tbody tr th:only-of-type {\n",
              "        vertical-align: middle;\n",
              "    }\n",
              "\n",
              "    .dataframe tbody tr th {\n",
              "        vertical-align: top;\n",
              "    }\n",
              "\n",
              "    .dataframe thead th {\n",
              "        text-align: right;\n",
              "    }\n",
              "</style>\n",
              "<table border=\"1\" class=\"dataframe\">\n",
              "  <thead>\n",
              "    <tr style=\"text-align: right;\">\n",
              "      <th></th>\n",
              "      <th>DATE</th>\n",
              "      <th>WTI</th>\n",
              "      <th>BRENT</th>\n",
              "      <th>INR</th>\n",
              "      <th>NIFTY</th>\n",
              "    </tr>\n",
              "  </thead>\n",
              "  <tbody>\n",
              "    <tr>\n",
              "      <th>0</th>\n",
              "      <td>01-01-1990</td>\n",
              "      <td>22.86</td>\n",
              "      <td>21.25</td>\n",
              "      <td>35.6</td>\n",
              "      <td>0.44</td>\n",
              "    </tr>\n",
              "    <tr>\n",
              "      <th>1</th>\n",
              "      <td>02-01-1990</td>\n",
              "      <td>22.11</td>\n",
              "      <td>19.81</td>\n",
              "      <td>35.6</td>\n",
              "      <td>2.45</td>\n",
              "    </tr>\n",
              "    <tr>\n",
              "      <th>2</th>\n",
              "      <td>03-01-1990</td>\n",
              "      <td>22.11</td>\n",
              "      <td>18.39</td>\n",
              "      <td>35.9</td>\n",
              "      <td>-0.28</td>\n",
              "    </tr>\n",
              "    <tr>\n",
              "      <th>3</th>\n",
              "      <td>04-01-1990</td>\n",
              "      <td>18.43</td>\n",
              "      <td>16.61</td>\n",
              "      <td>36.3</td>\n",
              "      <td>-6.18</td>\n",
              "    </tr>\n",
              "    <tr>\n",
              "      <th>4</th>\n",
              "      <td>05-01-1990</td>\n",
              "      <td>18.20</td>\n",
              "      <td>16.35</td>\n",
              "      <td>36.3</td>\n",
              "      <td>-1.62</td>\n",
              "    </tr>\n",
              "  </tbody>\n",
              "</table>\n",
              "</div>"
            ],
            "text/plain": [
              "         DATE    WTI  BRENT   INR  NIFTY\n",
              "0  01-01-1990  22.86  21.25  35.6   0.44\n",
              "1  02-01-1990  22.11  19.81  35.6   2.45\n",
              "2  03-01-1990  22.11  18.39  35.9  -0.28\n",
              "3  04-01-1990  18.43  16.61  36.3  -6.18\n",
              "4  05-01-1990  18.20  16.35  36.3  -1.62"
            ]
          },
          "metadata": {
            "tags": []
          },
          "execution_count": 44
        }
      ]
    },
    {
      "cell_type": "code",
      "metadata": {
        "id": "hnMzeAKUVo1y",
        "colab_type": "code",
        "colab": {
          "base_uri": "https://localhost:8080/",
          "height": 101
        },
        "outputId": "52e4bc63-1997-4f0d-e892-6aa007aea89c"
      },
      "source": [
        "mydataraw1.DATE.describe()"
      ],
      "execution_count": 45,
      "outputs": [
        {
          "output_type": "execute_result",
          "data": {
            "text/plain": [
              "count            361\n",
              "unique           361\n",
              "top       12-01-2005\n",
              "freq               1\n",
              "Name: DATE, dtype: object"
            ]
          },
          "metadata": {
            "tags": []
          },
          "execution_count": 45
        }
      ]
    },
    {
      "cell_type": "markdown",
      "metadata": {
        "id": "1MpBfxtE__Bk",
        "colab_type": "text"
      },
      "source": [
        "# Reading the data again for ADF test"
      ]
    },
    {
      "cell_type": "code",
      "metadata": {
        "id": "HYAS-aViXb6k",
        "colab_type": "code",
        "colab": {}
      },
      "source": [
        "mydatats = pd.read_csv(\"oilpriceindex.csv\", na_values = [\"null\"], index_col=\"DATE\", parse_dates=True, infer_datetime_format=True)\n"
      ],
      "execution_count": 74,
      "outputs": []
    },
    {
      "cell_type": "code",
      "metadata": {
        "id": "9y193ENcYlZv",
        "colab_type": "code",
        "colab": {
          "base_uri": "https://localhost:8080/",
          "height": 225
        },
        "outputId": "3f2a3686-9492-4109-cdfd-3352ee692928"
      },
      "source": [
        "mydatats.head()"
      ],
      "execution_count": 75,
      "outputs": [
        {
          "output_type": "execute_result",
          "data": {
            "text/html": [
              "<div>\n",
              "<style scoped>\n",
              "    .dataframe tbody tr th:only-of-type {\n",
              "        vertical-align: middle;\n",
              "    }\n",
              "\n",
              "    .dataframe tbody tr th {\n",
              "        vertical-align: top;\n",
              "    }\n",
              "\n",
              "    .dataframe thead th {\n",
              "        text-align: right;\n",
              "    }\n",
              "</style>\n",
              "<table border=\"1\" class=\"dataframe\">\n",
              "  <thead>\n",
              "    <tr style=\"text-align: right;\">\n",
              "      <th></th>\n",
              "      <th>WTI</th>\n",
              "      <th>BRENT</th>\n",
              "      <th>INR</th>\n",
              "      <th>NIFTY</th>\n",
              "    </tr>\n",
              "    <tr>\n",
              "      <th>DATE</th>\n",
              "      <th></th>\n",
              "      <th></th>\n",
              "      <th></th>\n",
              "      <th></th>\n",
              "    </tr>\n",
              "  </thead>\n",
              "  <tbody>\n",
              "    <tr>\n",
              "      <th>1990-01-01</th>\n",
              "      <td>22.86</td>\n",
              "      <td>21.25</td>\n",
              "      <td>35.6</td>\n",
              "      <td>0.44</td>\n",
              "    </tr>\n",
              "    <tr>\n",
              "      <th>1990-02-01</th>\n",
              "      <td>22.11</td>\n",
              "      <td>19.81</td>\n",
              "      <td>35.6</td>\n",
              "      <td>2.45</td>\n",
              "    </tr>\n",
              "    <tr>\n",
              "      <th>1990-03-01</th>\n",
              "      <td>NaN</td>\n",
              "      <td>18.39</td>\n",
              "      <td>35.9</td>\n",
              "      <td>-0.28</td>\n",
              "    </tr>\n",
              "    <tr>\n",
              "      <th>1990-04-01</th>\n",
              "      <td>18.43</td>\n",
              "      <td>16.61</td>\n",
              "      <td>36.3</td>\n",
              "      <td>-6.18</td>\n",
              "    </tr>\n",
              "    <tr>\n",
              "      <th>1990-05-01</th>\n",
              "      <td>18.20</td>\n",
              "      <td>16.35</td>\n",
              "      <td>36.3</td>\n",
              "      <td>-1.62</td>\n",
              "    </tr>\n",
              "  </tbody>\n",
              "</table>\n",
              "</div>"
            ],
            "text/plain": [
              "              WTI  BRENT   INR  NIFTY\n",
              "DATE                                 \n",
              "1990-01-01  22.86  21.25  35.6   0.44\n",
              "1990-02-01  22.11  19.81  35.6   2.45\n",
              "1990-03-01    NaN  18.39  35.9  -0.28\n",
              "1990-04-01  18.43  16.61  36.3  -6.18\n",
              "1990-05-01  18.20  16.35  36.3  -1.62"
            ]
          },
          "metadata": {
            "tags": []
          },
          "execution_count": 75
        }
      ]
    },
    {
      "cell_type": "markdown",
      "metadata": {
        "id": "rmUfyDyxaSFM",
        "colab_type": "text"
      },
      "source": [
        "\n",
        "\n",
        "#**Creating a duplicate variable.**\n"
      ]
    },
    {
      "cell_type": "code",
      "metadata": {
        "id": "yd-Cn2xvumlt",
        "colab_type": "code",
        "colab": {}
      },
      "source": [
        "mydatats[\"INR_INR\"] = mydatats.INR"
      ],
      "execution_count": 76,
      "outputs": []
    },
    {
      "cell_type": "code",
      "metadata": {
        "id": "GLghIXMaux-S",
        "colab_type": "code",
        "colab": {
          "base_uri": "https://localhost:8080/",
          "height": 284
        },
        "outputId": "94932982-c747-44e2-db19-0e6260c46b0c"
      },
      "source": [
        "mydatats.describe()"
      ],
      "execution_count": 77,
      "outputs": [
        {
          "output_type": "execute_result",
          "data": {
            "text/html": [
              "<div>\n",
              "<style scoped>\n",
              "    .dataframe tbody tr th:only-of-type {\n",
              "        vertical-align: middle;\n",
              "    }\n",
              "\n",
              "    .dataframe tbody tr th {\n",
              "        vertical-align: top;\n",
              "    }\n",
              "\n",
              "    .dataframe thead th {\n",
              "        text-align: right;\n",
              "    }\n",
              "</style>\n",
              "<table border=\"1\" class=\"dataframe\">\n",
              "  <thead>\n",
              "    <tr style=\"text-align: right;\">\n",
              "      <th></th>\n",
              "      <th>WTI</th>\n",
              "      <th>BRENT</th>\n",
              "      <th>INR</th>\n",
              "      <th>NIFTY</th>\n",
              "      <th>INR_INR</th>\n",
              "    </tr>\n",
              "  </thead>\n",
              "  <tbody>\n",
              "    <tr>\n",
              "      <th>count</th>\n",
              "      <td>360.000000</td>\n",
              "      <td>359.000000</td>\n",
              "      <td>357.000000</td>\n",
              "      <td>358.000000</td>\n",
              "      <td>357.000000</td>\n",
              "    </tr>\n",
              "    <tr>\n",
              "      <th>mean</th>\n",
              "      <td>47.843528</td>\n",
              "      <td>49.330808</td>\n",
              "      <td>96.766106</td>\n",
              "      <td>0.193324</td>\n",
              "      <td>96.766106</td>\n",
              "    </tr>\n",
              "    <tr>\n",
              "      <th>std</th>\n",
              "      <td>29.194188</td>\n",
              "      <td>32.860975</td>\n",
              "      <td>27.851830</td>\n",
              "      <td>1.890878</td>\n",
              "      <td>27.851830</td>\n",
              "    </tr>\n",
              "    <tr>\n",
              "      <th>min</th>\n",
              "      <td>11.350000</td>\n",
              "      <td>9.820000</td>\n",
              "      <td>35.600000</td>\n",
              "      <td>-6.180000</td>\n",
              "      <td>35.600000</td>\n",
              "    </tr>\n",
              "    <tr>\n",
              "      <th>25%</th>\n",
              "      <td>21.295000</td>\n",
              "      <td>19.755000</td>\n",
              "      <td>76.800000</td>\n",
              "      <td>-0.782500</td>\n",
              "      <td>76.800000</td>\n",
              "    </tr>\n",
              "    <tr>\n",
              "      <th>50%</th>\n",
              "      <td>40.950000</td>\n",
              "      <td>41.580000</td>\n",
              "      <td>95.200000</td>\n",
              "      <td>0.185000</td>\n",
              "      <td>95.200000</td>\n",
              "    </tr>\n",
              "    <tr>\n",
              "      <th>75%</th>\n",
              "      <td>68.397500</td>\n",
              "      <td>70.905000</td>\n",
              "      <td>113.900000</td>\n",
              "      <td>1.080000</td>\n",
              "      <td>113.900000</td>\n",
              "    </tr>\n",
              "    <tr>\n",
              "      <th>max</th>\n",
              "      <td>133.880000</td>\n",
              "      <td>132.720000</td>\n",
              "      <td>154.300000</td>\n",
              "      <td>17.740000</td>\n",
              "      <td>154.300000</td>\n",
              "    </tr>\n",
              "  </tbody>\n",
              "</table>\n",
              "</div>"
            ],
            "text/plain": [
              "              WTI       BRENT         INR       NIFTY     INR_INR\n",
              "count  360.000000  359.000000  357.000000  358.000000  357.000000\n",
              "mean    47.843528   49.330808   96.766106    0.193324   96.766106\n",
              "std     29.194188   32.860975   27.851830    1.890878   27.851830\n",
              "min     11.350000    9.820000   35.600000   -6.180000   35.600000\n",
              "25%     21.295000   19.755000   76.800000   -0.782500   76.800000\n",
              "50%     40.950000   41.580000   95.200000    0.185000   95.200000\n",
              "75%     68.397500   70.905000  113.900000    1.080000  113.900000\n",
              "max    133.880000  132.720000  154.300000   17.740000  154.300000"
            ]
          },
          "metadata": {
            "tags": []
          },
          "execution_count": 77
        }
      ]
    },
    {
      "cell_type": "code",
      "metadata": {
        "id": "x-yhuITovTst",
        "colab_type": "code",
        "colab": {}
      },
      "source": [
        "del mydatats[\"INR_INR\"]"
      ],
      "execution_count": 78,
      "outputs": []
    },
    {
      "cell_type": "code",
      "metadata": {
        "id": "3JEZrwKCvYqw",
        "colab_type": "code",
        "colab": {
          "base_uri": "https://localhost:8080/",
          "height": 284
        },
        "outputId": "a83c24f1-433c-41a4-8060-5b2678094de6"
      },
      "source": [
        "mydatats.describe()"
      ],
      "execution_count": 79,
      "outputs": [
        {
          "output_type": "execute_result",
          "data": {
            "text/html": [
              "<div>\n",
              "<style scoped>\n",
              "    .dataframe tbody tr th:only-of-type {\n",
              "        vertical-align: middle;\n",
              "    }\n",
              "\n",
              "    .dataframe tbody tr th {\n",
              "        vertical-align: top;\n",
              "    }\n",
              "\n",
              "    .dataframe thead th {\n",
              "        text-align: right;\n",
              "    }\n",
              "</style>\n",
              "<table border=\"1\" class=\"dataframe\">\n",
              "  <thead>\n",
              "    <tr style=\"text-align: right;\">\n",
              "      <th></th>\n",
              "      <th>WTI</th>\n",
              "      <th>BRENT</th>\n",
              "      <th>INR</th>\n",
              "      <th>NIFTY</th>\n",
              "    </tr>\n",
              "  </thead>\n",
              "  <tbody>\n",
              "    <tr>\n",
              "      <th>count</th>\n",
              "      <td>360.000000</td>\n",
              "      <td>359.000000</td>\n",
              "      <td>357.000000</td>\n",
              "      <td>358.000000</td>\n",
              "    </tr>\n",
              "    <tr>\n",
              "      <th>mean</th>\n",
              "      <td>47.843528</td>\n",
              "      <td>49.330808</td>\n",
              "      <td>96.766106</td>\n",
              "      <td>0.193324</td>\n",
              "    </tr>\n",
              "    <tr>\n",
              "      <th>std</th>\n",
              "      <td>29.194188</td>\n",
              "      <td>32.860975</td>\n",
              "      <td>27.851830</td>\n",
              "      <td>1.890878</td>\n",
              "    </tr>\n",
              "    <tr>\n",
              "      <th>min</th>\n",
              "      <td>11.350000</td>\n",
              "      <td>9.820000</td>\n",
              "      <td>35.600000</td>\n",
              "      <td>-6.180000</td>\n",
              "    </tr>\n",
              "    <tr>\n",
              "      <th>25%</th>\n",
              "      <td>21.295000</td>\n",
              "      <td>19.755000</td>\n",
              "      <td>76.800000</td>\n",
              "      <td>-0.782500</td>\n",
              "    </tr>\n",
              "    <tr>\n",
              "      <th>50%</th>\n",
              "      <td>40.950000</td>\n",
              "      <td>41.580000</td>\n",
              "      <td>95.200000</td>\n",
              "      <td>0.185000</td>\n",
              "    </tr>\n",
              "    <tr>\n",
              "      <th>75%</th>\n",
              "      <td>68.397500</td>\n",
              "      <td>70.905000</td>\n",
              "      <td>113.900000</td>\n",
              "      <td>1.080000</td>\n",
              "    </tr>\n",
              "    <tr>\n",
              "      <th>max</th>\n",
              "      <td>133.880000</td>\n",
              "      <td>132.720000</td>\n",
              "      <td>154.300000</td>\n",
              "      <td>17.740000</td>\n",
              "    </tr>\n",
              "  </tbody>\n",
              "</table>\n",
              "</div>"
            ],
            "text/plain": [
              "              WTI       BRENT         INR       NIFTY\n",
              "count  360.000000  359.000000  357.000000  358.000000\n",
              "mean    47.843528   49.330808   96.766106    0.193324\n",
              "std     29.194188   32.860975   27.851830    1.890878\n",
              "min     11.350000    9.820000   35.600000   -6.180000\n",
              "25%     21.295000   19.755000   76.800000   -0.782500\n",
              "50%     40.950000   41.580000   95.200000    0.185000\n",
              "75%     68.397500   70.905000  113.900000    1.080000\n",
              "max    133.880000  132.720000  154.300000   17.740000"
            ]
          },
          "metadata": {
            "tags": []
          },
          "execution_count": 79
        }
      ]
    },
    {
      "cell_type": "code",
      "metadata": {
        "id": "N-z_TM5FwIIw",
        "colab_type": "code",
        "colab": {
          "base_uri": "https://localhost:8080/",
          "height": 34
        },
        "outputId": "950e6de4-67a0-4e73-aaff-9b2630795af4"
      },
      "source": [
        "len(mydatats)"
      ],
      "execution_count": 80,
      "outputs": [
        {
          "output_type": "execute_result",
          "data": {
            "text/plain": [
              "361"
            ]
          },
          "metadata": {
            "tags": []
          },
          "execution_count": 80
        }
      ]
    },
    {
      "cell_type": "code",
      "metadata": {
        "id": "QPfOTGS9wKyY",
        "colab_type": "code",
        "colab": {}
      },
      "source": [
        "# 80% for training and rest for testing\n",
        "size  = int(len(mydatats)*0.8)\n",
        "mydatats_train = mydatats.iloc[:size]\n",
        "mydatats_test = mydatats.iloc[size:]"
      ],
      "execution_count": 81,
      "outputs": []
    },
    {
      "cell_type": "code",
      "metadata": {
        "id": "FS-5OakExiMv",
        "colab_type": "code",
        "colab": {
          "base_uri": "https://localhost:8080/",
          "height": 34
        },
        "outputId": "8cd7863f-7f5b-4060-e95b-d024fd64c99c"
      },
      "source": [
        "len(mydatats_train)\n"
      ],
      "execution_count": 82,
      "outputs": [
        {
          "output_type": "execute_result",
          "data": {
            "text/plain": [
              "288"
            ]
          },
          "metadata": {
            "tags": []
          },
          "execution_count": 82
        }
      ]
    },
    {
      "cell_type": "code",
      "metadata": {
        "id": "V2o20h5Kxqvg",
        "colab_type": "code",
        "colab": {
          "base_uri": "https://localhost:8080/",
          "height": 34
        },
        "outputId": "346bb61f-6945-49e1-cd70-d9742e90dd50"
      },
      "source": [
        "len(mydatats_test)"
      ],
      "execution_count": 83,
      "outputs": [
        {
          "output_type": "execute_result",
          "data": {
            "text/plain": [
              "73"
            ]
          },
          "metadata": {
            "tags": []
          },
          "execution_count": 83
        }
      ]
    },
    {
      "cell_type": "code",
      "metadata": {
        "id": "zcDQEiGpx1gP",
        "colab_type": "code",
        "colab": {}
      },
      "source": [
        "import matplotlib.pyplot as plt\n",
        "from matplotlib.pyplot import figure\n",
        "import statsmodels.graphics.tsaplots as sgt\n",
        "import statsmodels.tsa.stattools as sts\n",
        "import statsmodels.api as sm\n",
        "from statsmodels.tsa.seasonal import seasonal_decompose\n",
        "import seaborn as sns\n",
        "sns.set()"
      ],
      "execution_count": 84,
      "outputs": []
    },
    {
      "cell_type": "code",
      "metadata": {
        "id": "DNnA4g3502cc",
        "colab_type": "code",
        "colab": {
          "base_uri": "https://localhost:8080/",
          "height": 225
        },
        "outputId": "d3c3b421-a464-4a13-cbff-dc62e90f499d"
      },
      "source": [
        "mydatats_test.head()"
      ],
      "execution_count": 85,
      "outputs": [
        {
          "output_type": "execute_result",
          "data": {
            "text/html": [
              "<div>\n",
              "<style scoped>\n",
              "    .dataframe tbody tr th:only-of-type {\n",
              "        vertical-align: middle;\n",
              "    }\n",
              "\n",
              "    .dataframe tbody tr th {\n",
              "        vertical-align: top;\n",
              "    }\n",
              "\n",
              "    .dataframe thead th {\n",
              "        text-align: right;\n",
              "    }\n",
              "</style>\n",
              "<table border=\"1\" class=\"dataframe\">\n",
              "  <thead>\n",
              "    <tr style=\"text-align: right;\">\n",
              "      <th></th>\n",
              "      <th>WTI</th>\n",
              "      <th>BRENT</th>\n",
              "      <th>INR</th>\n",
              "      <th>NIFTY</th>\n",
              "    </tr>\n",
              "    <tr>\n",
              "      <th>DATE</th>\n",
              "      <th></th>\n",
              "      <th></th>\n",
              "      <th></th>\n",
              "      <th></th>\n",
              "    </tr>\n",
              "  </thead>\n",
              "  <tbody>\n",
              "    <tr>\n",
              "      <th>2014-01-01</th>\n",
              "      <td>94.62</td>\n",
              "      <td>108.12</td>\n",
              "      <td>130.3</td>\n",
              "      <td>0.34</td>\n",
              "    </tr>\n",
              "    <tr>\n",
              "      <th>2014-02-01</th>\n",
              "      <td>100.82</td>\n",
              "      <td>108.90</td>\n",
              "      <td>130.4</td>\n",
              "      <td>0.07</td>\n",
              "    </tr>\n",
              "    <tr>\n",
              "      <th>2014-03-01</th>\n",
              "      <td>100.80</td>\n",
              "      <td>107.48</td>\n",
              "      <td>127.8</td>\n",
              "      <td>-0.16</td>\n",
              "    </tr>\n",
              "    <tr>\n",
              "      <th>2014-04-01</th>\n",
              "      <td>102.07</td>\n",
              "      <td>107.76</td>\n",
              "      <td>126.6</td>\n",
              "      <td>1.35</td>\n",
              "    </tr>\n",
              "    <tr>\n",
              "      <th>2014-05-01</th>\n",
              "      <td>102.18</td>\n",
              "      <td>109.54</td>\n",
              "      <td>124.4</td>\n",
              "      <td>0.65</td>\n",
              "    </tr>\n",
              "  </tbody>\n",
              "</table>\n",
              "</div>"
            ],
            "text/plain": [
              "               WTI   BRENT    INR  NIFTY\n",
              "DATE                                    \n",
              "2014-01-01   94.62  108.12  130.3   0.34\n",
              "2014-02-01  100.82  108.90  130.4   0.07\n",
              "2014-03-01  100.80  107.48  127.8  -0.16\n",
              "2014-04-01  102.07  107.76  126.6   1.35\n",
              "2014-05-01  102.18  109.54  124.4   0.65"
            ]
          },
          "metadata": {
            "tags": []
          },
          "execution_count": 85
        }
      ]
    },
    {
      "cell_type": "code",
      "metadata": {
        "id": "FP4jJ0_z1QVl",
        "colab_type": "code",
        "colab": {}
      },
      "source": [
        "white_noise = np.random.normal(loc= mydatats.INR.mean(), scale = mydatats.INR.std(), size = mydatats.shape[0])\n",
        "mydatats[\"WN_INR\"] = white_noise"
      ],
      "execution_count": 86,
      "outputs": []
    },
    {
      "cell_type": "code",
      "metadata": {
        "id": "iK_ErozJ4AP2",
        "colab_type": "code",
        "colab": {
          "base_uri": "https://localhost:8080/",
          "height": 294
        },
        "outputId": "25fd40c6-38f5-4b66-c8c7-2f7f5d8c0394"
      },
      "source": [
        "mydatats.WN_INR.plot(figsize = (12,4))\n",
        "mydatats.INR.plot(figsize=(12, 4))\n",
        "plt.title(\"White nosie process of INR\", size = 20)\n",
        "plt.show()"
      ],
      "execution_count": 87,
      "outputs": [
        {
          "output_type": "display_data",
          "data": {
            "image/png": "[encoded data removed]",
            "text/plain": [
              "<Figure size 864x288 with 1 Axes>"
            ]
          },
          "metadata": {
            "tags": []
          }
        }
      ]
    },
    {
      "cell_type": "code",
      "metadata": {
        "id": "3XMq_Crn5zWA",
        "colab_type": "code",
        "colab": {}
      },
      "source": [
        "#mydatats.INR = mydatats.INR.fillna(method='bfill')\n",
        "#mydatats.WTI = mydatats.WTI.fillna(method='bfill')\n",
        "#mydatats.BRENT = mydatats.BRENT.fillna(method='bfill')\n",
        "#mydatats.NIFTY = mydatats.NIFTY.fillna(method='bfill')\n",
        "\n",
        "mydatats.INR = mydatats.INR.fillna(method='ffill')\n",
        "mydatats.WTI = mydatats.WTI.fillna(method='ffill')\n",
        "mydatats.BRENT = mydatats.BRENT.fillna(method='ffill')\n",
        "mydatats.NIFTY = mydatats.NIFTY.fillna(method='ffill')"
      ],
      "execution_count": 88,
      "outputs": []
    },
    {
      "cell_type": "code",
      "metadata": {
        "id": "Tdq0BW7u6jN2",
        "colab_type": "code",
        "colab": {
          "base_uri": "https://localhost:8080/",
          "height": 284
        },
        "outputId": "ecfb0725-9a54-4936-e24d-34b696c05d77"
      },
      "source": [
        "mydatats.describe()"
      ],
      "execution_count": 89,
      "outputs": [
        {
          "output_type": "execute_result",
          "data": {
            "text/html": [
              "<div>\n",
              "<style scoped>\n",
              "    .dataframe tbody tr th:only-of-type {\n",
              "        vertical-align: middle;\n",
              "    }\n",
              "\n",
              "    .dataframe tbody tr th {\n",
              "        vertical-align: top;\n",
              "    }\n",
              "\n",
              "    .dataframe thead th {\n",
              "        text-align: right;\n",
              "    }\n",
              "</style>\n",
              "<table border=\"1\" class=\"dataframe\">\n",
              "  <thead>\n",
              "    <tr style=\"text-align: right;\">\n",
              "      <th></th>\n",
              "      <th>WTI</th>\n",
              "      <th>BRENT</th>\n",
              "      <th>INR</th>\n",
              "      <th>NIFTY</th>\n",
              "      <th>WN_INR</th>\n",
              "    </tr>\n",
              "  </thead>\n",
              "  <tbody>\n",
              "    <tr>\n",
              "      <th>count</th>\n",
              "      <td>361.000000</td>\n",
              "      <td>361.000000</td>\n",
              "      <td>361.000000</td>\n",
              "      <td>361.000000</td>\n",
              "      <td>361.000000</td>\n",
              "    </tr>\n",
              "    <tr>\n",
              "      <th>mean</th>\n",
              "      <td>47.772244</td>\n",
              "      <td>49.157922</td>\n",
              "      <td>96.245983</td>\n",
              "      <td>0.189557</td>\n",
              "      <td>97.028566</td>\n",
              "    </tr>\n",
              "    <tr>\n",
              "      <th>std</th>\n",
              "      <td>29.185056</td>\n",
              "      <td>32.851631</td>\n",
              "      <td>28.148450</td>\n",
              "      <td>1.889088</td>\n",
              "      <td>27.350056</td>\n",
              "    </tr>\n",
              "    <tr>\n",
              "      <th>min</th>\n",
              "      <td>11.350000</td>\n",
              "      <td>9.820000</td>\n",
              "      <td>35.600000</td>\n",
              "      <td>-6.180000</td>\n",
              "      <td>10.437887</td>\n",
              "    </tr>\n",
              "    <tr>\n",
              "      <th>25%</th>\n",
              "      <td>21.300000</td>\n",
              "      <td>19.570000</td>\n",
              "      <td>75.500000</td>\n",
              "      <td>-0.790000</td>\n",
              "      <td>78.159605</td>\n",
              "    </tr>\n",
              "    <tr>\n",
              "      <th>50%</th>\n",
              "      <td>40.780000</td>\n",
              "      <td>39.950000</td>\n",
              "      <td>95.100000</td>\n",
              "      <td>0.180000</td>\n",
              "      <td>96.859125</td>\n",
              "    </tr>\n",
              "    <tr>\n",
              "      <th>75%</th>\n",
              "      <td>68.060000</td>\n",
              "      <td>70.760000</td>\n",
              "      <td>113.800000</td>\n",
              "      <td>1.080000</td>\n",
              "      <td>117.890507</td>\n",
              "    </tr>\n",
              "    <tr>\n",
              "      <th>max</th>\n",
              "      <td>133.880000</td>\n",
              "      <td>132.720000</td>\n",
              "      <td>154.300000</td>\n",
              "      <td>17.740000</td>\n",
              "      <td>175.879072</td>\n",
              "    </tr>\n",
              "  </tbody>\n",
              "</table>\n",
              "</div>"
            ],
            "text/plain": [
              "              WTI       BRENT         INR       NIFTY      WN_INR\n",
              "count  361.000000  361.000000  361.000000  361.000000  361.000000\n",
              "mean    47.772244   49.157922   96.245983    0.189557   97.028566\n",
              "std     29.185056   32.851631   28.148450    1.889088   27.350056\n",
              "min     11.350000    9.820000   35.600000   -6.180000   10.437887\n",
              "25%     21.300000   19.570000   75.500000   -0.790000   78.159605\n",
              "50%     40.780000   39.950000   95.100000    0.180000   96.859125\n",
              "75%     68.060000   70.760000  113.800000    1.080000  117.890507\n",
              "max    133.880000  132.720000  154.300000   17.740000  175.879072"
            ]
          },
          "metadata": {
            "tags": []
          },
          "execution_count": 89
        }
      ]
    },
    {
      "cell_type": "code",
      "metadata": {
        "id": "9Ne-8e645GSI",
        "colab_type": "code",
        "colab": {
          "base_uri": "https://localhost:8080/",
          "height": 151
        },
        "outputId": "b7cd843d-7871-497e-aff5-b7922ed730b0"
      },
      "source": [
        "sts.adfuller(mydatats.INR)"
      ],
      "execution_count": 90,
      "outputs": [
        {
          "output_type": "execute_result",
          "data": {
            "text/plain": [
              "(-1.1290406537170836,\n",
              " 0.7033530053152008,\n",
              " 1,\n",
              " 359,\n",
              " {'1%': -3.4486972813047574,\n",
              "  '10%': -2.571077032068342,\n",
              "  '5%': -2.8696246923288418},\n",
              " 1332.3497409741647)"
            ]
          },
          "metadata": {
            "tags": []
          },
          "execution_count": 90
        }
      ]
    },
    {
      "cell_type": "markdown",
      "metadata": {
        "id": "4nsWRGlU8cpY",
        "colab_type": "text"
      },
      "source": [
        "----------------------------------------------------------------------------------------\n",
        "Output values\n",
        "(z_statistic, p value, lags, degrees of freedom, {1%, 10%, 5%, AIC})\n",
        "\n",
        "if output values is greater than 1%, 10% and 5% then we reject the null hypothesis.\n",
        "\n",
        "----------------------------------------------------------------------------------------\n"
      ]
    },
    {
      "cell_type": "markdown",
      "metadata": {
        "id": "6qVUgAoM9rjw",
        "colab_type": "text"
      },
      "source": [
        "----------------------------------------------------------------------------------------\n",
        "\n",
        "INR = alpha + beta1(INRt-1)  + beta2(INRt-2)\n",
        "\n",
        "----------------------------------------------------------------------------------------"
      ]
    },
    {
      "cell_type": "code",
      "metadata": {
        "id": "s-4y5zMj8RbB",
        "colab_type": "code",
        "colab": {
          "base_uri": "https://localhost:8080/",
          "height": 151
        },
        "outputId": "fffc349e-b481-4788-c675-0141952125f8"
      },
      "source": [
        "sts.adfuller(mydatats.WN_INR)"
      ],
      "execution_count": 91,
      "outputs": [
        {
          "output_type": "execute_result",
          "data": {
            "text/plain": [
              "(-17.568811373530803,\n",
              " 4.061357103537721e-30,\n",
              " 0,\n",
              " 360,\n",
              " {'1%': -3.448645946352023,\n",
              "  '10%': -2.5710650077160495,\n",
              "  '5%': -2.869602139060357},\n",
              " 3237.8930150362557)"
            ]
          },
          "metadata": {
            "tags": []
          },
          "execution_count": 91
        }
      ]
    }
  ]
}